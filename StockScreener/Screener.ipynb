{
  "nbformat": 4,
  "nbformat_minor": 0,
  "metadata": {
    "kernelspec": {
      "display_name": "Python 3",
      "language": "python",
      "name": "python3"
    },
    "language_info": {
      "codemirror_mode": {
        "name": "ipython",
        "version": 3
      },
      "file_extension": ".py",
      "mimetype": "text/x-python",
      "name": "python",
      "nbconvert_exporter": "python",
      "pygments_lexer": "ipython3",
      "version": "3.6.9"
    },
    "colab": {
      "name": "Screener.ipynb",
      "provenance": [],
      "include_colab_link": true
    }
  },
  "cells": [
    {
      "cell_type": "markdown",
      "metadata": {
        "id": "view-in-github",
        "colab_type": "text"
      },
      "source": [
        "<a href=\"https://colab.research.google.com/github/jonlwowski012/StockSellRulesChecker/blob/master/StockScreener/Screener.ipynb\" target=\"_parent\"><img src=\"https://colab.research.google.com/assets/colab-badge.svg\" alt=\"Open In Colab\"/></a>"
      ]
    },
    {
      "cell_type": "code",
      "metadata": {
        "id": "jiQYNbnwycRf",
        "colab": {
          "base_uri": "https://localhost:8080/",
          "height": 1000
        },
        "outputId": "80eaafce-f9aa-4108-b58c-4452515c13fc"
      },
      "source": [
        "! git clone https://github.com/jonlwowski012/StockSellRulesChecker.git\n",
        "! pip install -r StockSellRulesChecker/StockScreener/requirements.txt"
      ],
      "execution_count": 1,
      "outputs": [
        {
          "output_type": "stream",
          "text": [
            "Cloning into 'StockSellRulesChecker'...\n",
            "remote: Enumerating objects: 60, done.\u001b[K\n",
            "remote: Counting objects: 100% (60/60), done.\u001b[K\n",
            "remote: Compressing objects: 100% (51/51), done.\u001b[K\n",
            "remote: Total 60 (delta 18), reused 26 (delta 6), pack-reused 0\u001b[K\n",
            "Unpacking objects: 100% (60/60), done.\n",
            "Collecting pandas==1.1.3\n",
            "\u001b[?25l  Downloading https://files.pythonhosted.org/packages/25/47/22fc373440e144e2111363adaa07abb09ec1f03fbc071b6d9fc0bbf65f68/pandas-1.1.3-cp37-cp37m-manylinux1_x86_64.whl (9.5MB)\n",
            "\u001b[K     |████████████████████████████████| 9.5MB 8.7MB/s \n",
            "\u001b[?25hCollecting finviz\n",
            "  Downloading https://files.pythonhosted.org/packages/5d/ef/6b8cb66c238572ec487ad6aad43d8f0bfbcf677190d962972490df4922e2/finviz-1.3.4.tar.gz\n",
            "Collecting stockquotes==2.0.1\n",
            "  Downloading https://files.pythonhosted.org/packages/59/1f/fd63b5a97fbb3119e800b3e4fb199dab7d5464bee8372e3370566a9c94e2/stockquotes-2.0.1.tar.gz\n",
            "Requirement already satisfied: nest_asyncio in /usr/local/lib/python3.7/dist-packages (from -r StockSellRulesChecker/StockScreener/requirements.txt (line 4)) (1.5.1)\n",
            "Collecting yfinance\n",
            "  Downloading https://files.pythonhosted.org/packages/7a/e8/b9d7104d3a4bf39924799067592d9e59119fcfc900a425a12e80a3123ec8/yfinance-0.1.55.tar.gz\n",
            "Requirement already satisfied: numpy>=1.15.4 in /usr/local/lib/python3.7/dist-packages (from pandas==1.1.3->-r StockSellRulesChecker/StockScreener/requirements.txt (line 1)) (1.19.5)\n",
            "Requirement already satisfied: python-dateutil>=2.7.3 in /usr/local/lib/python3.7/dist-packages (from pandas==1.1.3->-r StockSellRulesChecker/StockScreener/requirements.txt (line 1)) (2.8.1)\n",
            "Requirement already satisfied: pytz>=2017.2 in /usr/local/lib/python3.7/dist-packages (from pandas==1.1.3->-r StockSellRulesChecker/StockScreener/requirements.txt (line 1)) (2018.9)\n",
            "Requirement already satisfied: lxml in /usr/local/lib/python3.7/dist-packages (from finviz->-r StockSellRulesChecker/StockScreener/requirements.txt (line 2)) (4.2.6)\n",
            "Requirement already satisfied: requests in /usr/local/lib/python3.7/dist-packages (from finviz->-r StockSellRulesChecker/StockScreener/requirements.txt (line 2)) (2.23.0)\n",
            "Collecting aiohttp\n",
            "\u001b[?25l  Downloading https://files.pythonhosted.org/packages/88/c0/5890b4c8b04a79b7360e8fe4490feb0bb3ab179743f199f0e6220cebd568/aiohttp-3.7.4.post0-cp37-cp37m-manylinux2014_x86_64.whl (1.3MB)\n",
            "\u001b[K     |████████████████████████████████| 1.3MB 40.7MB/s \n",
            "\u001b[?25hRequirement already satisfied: urllib3 in /usr/local/lib/python3.7/dist-packages (from finviz->-r StockSellRulesChecker/StockScreener/requirements.txt (line 2)) (1.24.3)\n",
            "Collecting cssselect\n",
            "  Downloading https://files.pythonhosted.org/packages/3b/d4/3b5c17f00cce85b9a1e6f91096e1cc8e8ede2e1be8e96b87ce1ed09e92c5/cssselect-1.1.0-py2.py3-none-any.whl\n",
            "Collecting user_agent\n",
            "  Downloading https://files.pythonhosted.org/packages/c3/ca/15546284f62edfec7666ecb6403a6e77f5db850def37cd36f140d99cce02/user_agent-0.1.9.tar.gz\n",
            "Requirement already satisfied: multitasking>=0.0.7 in /usr/local/lib/python3.7/dist-packages (from yfinance->-r StockSellRulesChecker/StockScreener/requirements.txt (line 5)) (0.0.9)\n",
            "Requirement already satisfied: six>=1.5 in /usr/local/lib/python3.7/dist-packages (from python-dateutil>=2.7.3->pandas==1.1.3->-r StockSellRulesChecker/StockScreener/requirements.txt (line 1)) (1.15.0)\n",
            "Requirement already satisfied: idna<3,>=2.5 in /usr/local/lib/python3.7/dist-packages (from requests->finviz->-r StockSellRulesChecker/StockScreener/requirements.txt (line 2)) (2.10)\n",
            "Requirement already satisfied: certifi>=2017.4.17 in /usr/local/lib/python3.7/dist-packages (from requests->finviz->-r StockSellRulesChecker/StockScreener/requirements.txt (line 2)) (2020.12.5)\n",
            "Requirement already satisfied: chardet<4,>=3.0.2 in /usr/local/lib/python3.7/dist-packages (from requests->finviz->-r StockSellRulesChecker/StockScreener/requirements.txt (line 2)) (3.0.4)\n",
            "Requirement already satisfied: typing-extensions>=3.6.5 in /usr/local/lib/python3.7/dist-packages (from aiohttp->finviz->-r StockSellRulesChecker/StockScreener/requirements.txt (line 2)) (3.7.4.3)\n",
            "Collecting multidict<7.0,>=4.5\n",
            "\u001b[?25l  Downloading https://files.pythonhosted.org/packages/7c/a6/4123b8165acbe773d1a8dc8e3f0d1edea16d29f7de018eda769abb56bd30/multidict-5.1.0-cp37-cp37m-manylinux2014_x86_64.whl (142kB)\n",
            "\u001b[K     |████████████████████████████████| 143kB 38.7MB/s \n",
            "\u001b[?25hRequirement already satisfied: attrs>=17.3.0 in /usr/local/lib/python3.7/dist-packages (from aiohttp->finviz->-r StockSellRulesChecker/StockScreener/requirements.txt (line 2)) (20.3.0)\n",
            "Collecting async-timeout<4.0,>=3.0\n",
            "  Downloading https://files.pythonhosted.org/packages/e1/1e/5a4441be21b0726c4464f3f23c8b19628372f606755a9d2e46c187e65ec4/async_timeout-3.0.1-py3-none-any.whl\n",
            "Collecting yarl<2.0,>=1.0\n",
            "\u001b[?25l  Downloading https://files.pythonhosted.org/packages/f1/62/046834c5fc998c88ab2ef722f5d42122230a632212c8afa76418324f53ff/yarl-1.6.3-cp37-cp37m-manylinux2014_x86_64.whl (294kB)\n",
            "\u001b[K     |████████████████████████████████| 296kB 45.8MB/s \n",
            "\u001b[?25hBuilding wheels for collected packages: finviz, stockquotes, yfinance, user-agent\n",
            "  Building wheel for finviz (setup.py) ... \u001b[?25l\u001b[?25hdone\n",
            "  Created wheel for finviz: filename=finviz-1.3.4-cp37-none-any.whl size=15193 sha256=db13ca05a86b0a81d4781c032ee44c82f74feca8753f6893d8f2f528c45147f1\n",
            "  Stored in directory: /root/.cache/pip/wheels/6d/fa/7c/4cc075d8af3f8ed083dd112b1a2b09888b9a9a2964c907291f\n",
            "  Building wheel for stockquotes (setup.py) ... \u001b[?25l\u001b[?25hdone\n",
            "  Created wheel for stockquotes: filename=stockquotes-2.0.1-cp37-none-any.whl size=4472 sha256=a52973f46729d162df4a46ba5fa5eb124db9efcfe35eed525e596c09ced4b97a\n",
            "  Stored in directory: /root/.cache/pip/wheels/b6/5a/fa/c250a28690344108071fb9b46761d5ac3bb23798260f8ecff1\n",
            "  Building wheel for yfinance (setup.py) ... \u001b[?25l\u001b[?25hdone\n",
            "  Created wheel for yfinance: filename=yfinance-0.1.55-py2.py3-none-any.whl size=22616 sha256=bbb63b24e2208dd2c52ec656b7c47427053dc571e08b21f087e61db1b966b31c\n",
            "  Stored in directory: /root/.cache/pip/wheels/04/98/cc/2702a4242d60bdc14f48b4557c427ded1fe92aedf257d4565c\n",
            "  Building wheel for user-agent (setup.py) ... \u001b[?25l\u001b[?25hdone\n",
            "  Created wheel for user-agent: filename=user_agent-0.1.9-cp37-none-any.whl size=18809 sha256=51444fbe066f102b00e4c1b1abfd379f26cff07cbe37c044cd6577ed7f23f2c8\n",
            "  Stored in directory: /root/.cache/pip/wheels/92/80/3f/5d79277825042f2d4d447f594e3fc046f1e506f2b481d364b2\n",
            "Successfully built finviz stockquotes yfinance user-agent\n",
            "\u001b[31mERROR: yfinance 0.1.55 has requirement lxml>=4.5.1, but you'll have lxml 4.2.6 which is incompatible.\u001b[0m\n",
            "Installing collected packages: pandas, multidict, async-timeout, yarl, aiohttp, cssselect, user-agent, finviz, stockquotes, yfinance\n",
            "  Found existing installation: pandas 1.1.5\n",
            "    Uninstalling pandas-1.1.5:\n",
            "      Successfully uninstalled pandas-1.1.5\n",
            "Successfully installed aiohttp-3.7.4.post0 async-timeout-3.0.1 cssselect-1.1.0 finviz-1.3.4 multidict-5.1.0 pandas-1.1.3 stockquotes-2.0.1 user-agent-0.1.9 yarl-1.6.3 yfinance-0.1.55\n"
          ],
          "name": "stdout"
        },
        {
          "output_type": "display_data",
          "data": {
            "application/vnd.colab-display-data+json": {
              "pip_warning": {
                "packages": [
                  "pandas"
                ]
              }
            }
          },
          "metadata": {
            "tags": []
          }
        }
      ]
    },
    {
      "cell_type": "code",
      "metadata": {
        "id": "HejzLL23ycRh"
      },
      "source": [
        "from finviz.screener import Screener\n",
        "import nest_asyncio\n",
        "import finviz\n",
        "import pandas_datareader as pdr\n",
        "import yfinance as yf\n",
        "import datetime\n",
        "import stockquotes\n",
        "import pandas as pd\n",
        "import tqdm\n",
        "nest_asyncio.apply()"
      ],
      "execution_count": 10,
      "outputs": []
    },
    {
      "cell_type": "code",
      "metadata": {
        "id": "W9nnHWzXycRh"
      },
      "source": [
        "eps_5year_over5pct = True\n",
        "eps_qoq_over5pct = True\n",
        "eps_yoy_over5pct = True\n",
        "sales_5years_over5pct = True\n",
        "sales_qoq_over5pct = True\n",
        "\n",
        "filters = []\n",
        "if eps_5year_over5pct:\n",
        "  filters.append('fa_eps5years_o5')\n",
        "if eps_qoq_over5pct:\n",
        "  filters.append('fa_epsqoq_o5')\n",
        "if eps_yoy_over5pct:\n",
        "  filters.append('fa_epsyoy_o5')\n",
        "if sales_5years_over5pct:\n",
        "  filters.append('fa_sales5years_o5')\n",
        "if sales_qoq_over5pct:\n",
        "  filters.append('fa_salesqoq_o5')\n",
        "\n",
        "stock_list = Screener(filters=filters, table='Performance', order='price')  "
      ],
      "execution_count": 39,
      "outputs": []
    },
    {
      "cell_type": "code",
      "metadata": {
        "id": "1XPzaeV1ycRi",
        "colab": {
          "base_uri": "https://localhost:8080/"
        },
        "outputId": "27490c19-3f0e-4160-aac7-463a85955601"
      },
      "source": [
        "print(stock_list)"
      ],
      "execution_count": 40,
      "outputs": [
        {
          "output_type": "stream",
          "text": [
            "No. | Ticker | Perf Week | Perf Month | Perf Quart | Perf Half | Perf Year | Perf YTD | Volatility W | Volatility M | Recom | Avg Volume | Rel Volume | Price  | Change | Volume   \n",
            "--- | ------ | --------- | ---------- | ---------- | --------- | --------- | -------- | ------------ | ------------ | ----- | ---------- | ---------- | ------ | ------ | ---------\n",
            "1   | ISR    | 30.36%    | -17.51%    | 255.06%    | 116.26%   | 160.57%   | 224.44%  | 11.96%       | 12.96%       | 2.00  | 16.23M     | 0.22       | 1.38   | -5.14% | 2,757,898\n",
            "2   | CHNR   | 9.24%     | -12.61%    | 40.56%     | 82.73%    | 102.01%   | 45.65%   | 8.28%        | 12.75%       | -     | 1.88M      | 0.27       | 2.05   | 1.99%  | 391,355  \n",
            "3   | NBRV   | 17.14%    | -35.13%    | -17.67%    | -64.06%   | -65.94%   | -15.29%  | 12.93%       | 10.67%       | 2.70  | 2.09M      | 1.69       | 2.06   | 0.24%  | 2,737,158\n",
            "4   | PRPO   | 11.21%    | -30.65%    | 15.18%     | 18.89%    | 165.98%   | 24.64%   | 8.43%        | 9.49%        | 2.00  | 850.54K    | 0.21       | 2.63   | 1.94%  | 139,720  \n",
            "5   | VTVT   | 15.66%    | 8.27%      | -3.03%     | 47.69%    | 64.57%    | 54.84%   | 8.90%        | 10.92%       | 2.00  | 3.42M      | 0.57       | 2.98   | 3.47%  | 1,501,533\n",
            "6   | HGBL   | -0.33%    | -0.66%     | 27.23%     | 16.34%    | 273.75%   | 12.41%   | 3.84%        | 8.32%        | 1.70  | 227.50K    | 0.46       | 2.98   | -0.33% | 80,940   \n",
            "7   | XIN    | 7.39%     | -11.85%    | 22.98%     | 53.27%    | 25.51%    | 38.64%   | 6.16%        | 9.14%        | 2.00  | 275.64K    | 0.46       | 3.00   | -1.64% | 98,413   \n",
            "8   | IAG    | 7.67%     | 0.60%      | -2.60%     | -20.71%   | 30.62%    | -8.17%   | 4.13%        | 4.95%        | 2.20  | 5.66M      | 1.08       | 3.29   | -2.52% | 4,734,289\n",
            "9   | DPW    | 7.71%     | -37.34%    | 8.61%      | 118.44%   | 376.77%   | -10.11%  | 11.28%       | 15.93%       | -     | 11.48M     | 0.48       | 3.81   | -2.69% | 4,250,483\n",
            "10  | QTNT   | 6.44%     | -23.23%    | -40.40%    | -17.07%   | 21.11%    | -20.73%  | 6.07%        | 7.42%        | -     | 1.02M      | 0.38       | 4.11   | -0.36% | 303,985  \n",
            "11  | MOSY   | 32.68%    | -24.76%    | 161.67%    | 200.00%   | 256.82%   | 93.03%   | 11.70%       | 16.04%       | -     | 894.99K    | 0.46       | 4.33   | -8.07% | 315,518  \n",
            "12  | ATRS   | 4.30%     | -4.17%     | 17.00%     | 58.91%    | 109.09%   | 9.52%    | 4.11%        | 5.67%        | 1.50  | 1.39M      | 0.46       | 4.37   | 0.04%  | 491,652  \n",
            "13  | HMY    | -0.22%    | 15.70%     | 11.46%     | -28.14%   | 64.98%    | -2.35%   | 3.53%        | 4.55%        | 4.00  | 5.73M      | 0.78       | 4.54   | -0.66% | 3,477,366\n",
            "14  | VRAY   | -5.05%    | -13.44%    | 15.94%     | 54.98%    | 157.71%   | 18.06%   | 5.61%        | 7.21%        | 2.20  | 2.19M      | 0.40       | 4.70   | 4.10%  | 676,859  \n",
            "15  | OPK    | 13.69%    | -13.43%    | 7.46%      | 55.56%    | 170.72%   | 24.05%   | 5.72%        | 7.00%        | 1.80  | 8.40M      | 0.33       | 4.80   | -2.07% | 2,119,498\n",
            "16  | CVU    | 5.60%     | 0.99%      | 47.97%     | 96.53%    | 241.61%   | 32.86%   | 10.74%       | 7.78%        | 3.00  | 705.38K    | 1.44       | 4.90   | -3.73% | 785,124  \n",
            "17  | DLPN   | 17.04%    | 8.30%      | 49.14%     | 43.58%    | 157.33%   | 53.53%   | 12.37%       | 10.26%       | 3.00  | 596.88K    | 0.33       | 5.20   | -0.38% | 153,270  \n",
            "18  | LJPC   | 3.56%     | -14.02%    | 24.04%     | 21.85%    | 38.00%    | 42.27%   | 9.19%        | 8.86%        | 2.50  | 1.03M      | 0.10       | 5.41   | -1.99% | 80,532   \n",
            "19  | TKC    | 0.54%     | -6.88%     | 10.12%     | 16.35%    | 11.45%    | 2.97%    | 1.41%        | 2.13%        | 2.00  | 331.08K    | 0.51       | 5.54   | -0.18% | 131,668  \n",
            "20  | ADMS   | 13.40%    | -9.09%     | 14.11%     | 27.61%    | 137.07%   | 27.02%   | 7.14%        | 9.30%        | 2.20  | 728.33K    | 0.56       | 5.70   | 3.64%  | 315,040  \n",
            "81  | GTN    | 0.25%     | 10.37%     | 11.95%     | 35.26%    | 83.65%    | 13.64%   | 3.17%        | 3.78%        | 1.50  | 633.28K    | 0.88       | 20.90  | 2.80%  | 433,191  \n",
            "82  | DEA    | 1.46%     | -2.13%     | 0.32%      | -8.66%    | -5.47%    | -4.59%   | 1.65%        | 2.08%        | 1.90  | 593.45K    | 0.46       | 21.57  | -0.19% | 209,530  \n",
            "83  | MFC    | 1.26%     | 11.43%     | 23.80%     | 48.90%    | 115.67%   | 22.00%   | 1.58%        | 2.39%        | 1.50  | 3.29M      | 0.91       | 22.02  | 1.29%  | 2,311,980\n",
            "84  | BCOV   | 7.81%     | 15.54%     | 37.17%     | 135.28%   | 277.67%   | 26.85%   | 5.00%        | 6.26%        | 1.70  | 349.58K    | 0.30       | 22.50  | -3.60% | 79,880   \n",
            "85  | GRBK   | 6.87%     | 12.98%     | 3.92%      | 31.38%    | 271.93%   | 1.57%    | 5.36%        | 5.27%        | 2.20  | 702.19K    | 1.02       | 22.81  | -2.19% | 555,650  \n",
            "86  | ESCA   | 1.96%     | 6.51%      | 13.53%     | 25.40%    | 213.84%   | 8.22%    | 4.64%        | 5.22%        | -     | 46.94K     | 1.33       | 22.84  | -0.31% | 48,385   \n",
            "87  | STXB   | -6.66%    | 15.45%     | 35.88%     | 95.24%    | 113.33%   | 34.35%   | 4.11%        | 4.36%        | 2.30  | 37.57K     | 1.59       | 22.88  | 1.37%  | 46,301   \n",
            "88  | ECOM   | 3.39%     | -9.27%     | 57.86%     | 73.31%    | 330.18%   | 50.75%   | 4.61%        | 5.49%        | 2.00  | 325.29K    | 0.29       | 23.01  | -4.48% | 74,004   \n",
            "89  | AMKR   | 9.94%     | -5.21%     | 58.00%     | 107.36%   | 196.49%   | 56.90%   | 4.79%        | 6.10%        | 3.30  | 2.12M      | 0.90       | 23.66  | 0.00%  | 1,480,888\n",
            "90  | GNMK   | 33.56%    | 9.69%      | 85.12%     | 92.74%    | 463.21%   | 63.56%   | 3.33%        | 7.40%        | 1.90  | 2.08M      | 3.38       | 23.85  | -0.13% | 5,443,681\n",
            "91  | SFM    | 0.62%     | 11.29%     | 24.74%     | 17.66%    | 28.10%    | 20.65%   | 2.91%        | 3.85%        | 2.80  | 2.62M      | 0.66       | 24.00  | -1.01% | 1,343,109\n",
            "92  | CODI   | -0.17%    | -0.08%     | 15.67%     | 39.66%    | 67.63%    | 22.21%   | 1.84%        | 3.34%        | 1.90  | 191.55K    | 0.92       | 24.07  | 1.24%  | 136,516  \n",
            "93  | FOR    | 5.13%     | 6.24%      | 26.73%     | 29.58%    | 111.36%   | 19.82%   | 2.27%        | 2.76%        | 1.50  | 102.85K    | 2.50       | 24.09  | -0.37% | 198,897  \n",
            "94  | LEVL   | -6.06%    | 1.17%      | 8.75%      | 42.90%    | 6.60%     | 14.93%   | 2.27%        | 4.13%        | 2.00  | 21.04K     | 0.45       | 24.17  | 3.96%  | 7,341    \n",
            "95  | LIVE   | 6.72%     | -23.57%    | 125.04%    | 185.65%   | 409.89%   | 108.37%  | 5.88%        | 9.42%        | -     | 148.69K    | 0.13       | 24.63  | -4.83% | 14,950   \n",
            "96  | SGC    | 1.85%     | 1.41%      | 18.67%     | 19.27%    | 131.24%   | 11.32%   | 4.91%        | 5.55%        | -     | 55.71K     | 1.48       | 25.38  | -1.90% | 63,737   \n",
            "97  | ISDR   | 6.07%     | 4.23%      | 24.51%     | 53.57%    | 165.50%   | 38.66%   | 6.44%        | 9.65%        | -     | 24.69K     | 1.06       | 25.50  | 5.03%  | 20,276   \n",
            "98  | FMAO   | -3.66%    | 13.30%     | 14.40%     | 24.99%    | 0.19%     | 13.30%   | 3.40%        | 3.31%        | 3.00  | 11.02K     | 0.35       | 26.00  | -0.23% | 2,946    \n",
            "99  | GCBC   | -9.79%    | 9.87%      | 1.59%      | 15.38%    | 5.00%     | 3.02%    | 4.07%        | 3.50%        | -     | 5.04K      | 0.31       | 26.38  | 0.46%  | 1,201    \n",
            "100 | ARD    | 4.60%     | 40.24%     | 56.44%     | 78.98%    | 112.06%   | 57.35%   | 3.14%        | 5.04%        | 2.20  | 117.91K    | 0.43       | 26.40  | -2.51% | 39,464   \n",
            "121 | PINC   | 0.03%     | -2.19%     | -3.30%     | 9.22%     | -0.12%    | -3.13%   | 2.55%        | 2.94%        | 2.40  | 631.66K    | 1.45       | 34.00  | 0.00%  | 709,045  \n",
            "122 | VNET   | 1.64%     | -17.39%    | 13.95%     | 56.14%    | 169.12%   | -1.79%   | 5.05%        | 6.74%        | 1.60  | 2.38M      | 0.46       | 34.03  | -0.10% | 840,386  \n",
            "123 | STAG   | 4.73%     | 5.83%      | 13.04%     | 7.15%     | 67.46%    | 9.61%    | 2.26%        | 2.03%        | 2.30  | 1.00M      | 0.96       | 34.14  | -0.55% | 745,283  \n",
            "124 | PRIM   | -6.48%    | 13.80%     | 36.12%     | 106.05%   | 173.86%   | 33.21%   | 4.05%        | 4.70%        | 1.80  | 340.59K    | 6.35       | 34.35  | -6.62% | 1,672,160\n",
            "125 | STM    | 6.88%     | -12.92%    | 4.85%      | 17.80%    | 101.47%   | -0.35%   | 2.21%        | 3.01%        | 2.40  | 2.67M      | 0.63       | 36.02  | -2.62% | 1,307,373\n",
            "126 | SEM    | 4.36%     | 35.44%     | 43.50%     | 82.52%    | 142.23%   | 32.50%   | 3.75%        | 4.24%        | 2.00  | 624.59K    | 0.69       | 36.54  | -0.30% | 332,771  \n",
            "127 | HWKN   | 2.83%     | 21.32%     | 47.98%     | 51.49%    | 141.78%   | 43.15%   | 4.92%        | 4.66%        | 2.00  | 77.77K     | 0.68       | 36.73  | -1.90% | 40,778   \n",
            "128 | TENB   | 0.50%     | -10.02%    | 2.56%      | 7.21%     | 122.75%   | -22.64%  | 3.55%        | 4.46%        | 1.70  | 1.25M      | 0.40       | 39.13  | -3.22% | 388,894  \n",
            "129 | VBFC   | 2.45%     | 14.05%     | 28.93%     | 62.21%    | 23.87%    | 19.22%   | 0.97%        | 0.95%        | -     | 0.97K      | 4.09       | 39.30  | -4.15% | 3,052    \n",
            "130 | BXC    | 4.57%     | -6.67%     | 64.18%     | 127.72%   | 601.93%   | 36.74%   | 4.19%        | 7.76%        | 2.00  | 130.11K    | 0.59       | 39.36  | -1.62% | 59,671   \n",
            "131 | OLN    | 14.12%    | 28.27%     | 66.80%     | 228.83%   | 221.05%   | 54.64%   | 4.68%        | 4.71%        | 2.50  | 1.40M      | 3.15       | 39.47  | 3.92%  | 3,406,116\n",
            "132 | MBIN   | -7.89%    | 20.53%     | 41.69%     | 92.49%    | 117.17%   | 42.82%   | 5.51%        | 4.95%        | 1.70  | 62.53K     | 0.88       | 39.50  | 0.10%  | 42,435   \n",
            "133 | WPM    | 7.02%     | 2.43%      | -0.27%     | -25.72%   | 50.15%    | -3.88%   | 3.80%        | 3.86%        | 1.90  | 2.74M      | 0.60       | 39.69  | -1.07% | 1,277,614\n",
            "134 | ACLS   | 12.51%    | 5.86%      | 50.30%     | 100.28%   | 128.01%   | 47.05%   | 5.25%        | 5.36%        | 1.80  | 419.63K    | 0.71       | 40.27  | -5.96% | 231,291  \n",
            "135 | CWH    | 11.25%    | 11.87%     | 55.11%     | 31.85%    | 657.62%   | 62.07%   | 6.44%        | 7.39%        | 2.10  | 1.56M      | 0.50       | 40.33  | -4.48% | 599,303  \n",
            "136 | NSA    | 3.98%     | 8.90%      | 20.35%     | 18.58%    | 72.77%    | 13.74%   | 2.49%        | 3.13%        | 2.20  | 375.09K    | 0.35       | 40.43  | -1.34% | 100,306  \n",
            "137 | VCRA   | -6.37%    | -15.27%    | 15.58%     | 49.55%    | 113.63%   | -2.99%   | 5.17%        | 5.07%        | 1.80  | 462.36K    | 0.23       | 40.45  | 0.40%  | 82,075   \n",
            "138 | AB     | 4.05%     | 5.21%      | 25.92%     | 46.53%    | 114.62%   | 19.54%   | 2.04%        | 2.63%        | 2.00  | 473.46K    | 1.03       | 41.23  | 2.13%  | 377,755  \n",
            "139 | BOMN   | -2.46%    | 2.40%      | 87.66%     | 156.60%   | 174.57%   | 54.61%   | 4.96%        | 7.81%        | 2.00  | 156.76K    | 0.51       | 41.45  | -3.04% | 61,617   \n",
            "140 | FNF    | 4.10%     | 6.68%      | 12.40%     | 29.29%    | 57.90%    | 7.85%    | 2.05%        | 3.19%        | 2.00  | 2.00M      | 0.77       | 41.54  | -1.47% | 1,188,000\n",
            "221 | BRKS   | 11.46%    | 0.65%      | 18.96%     | 99.82%    | 246.12%   | 31.61%   | 5.05%        | 7.03%        | 2.00  | 883.58K    | 0.24       | 86.57  | -3.06% | 164,196  \n",
            "222 | PATK   | -1.53%    | 15.60%     | 31.03%     | 70.36%    | 197.49%   | 31.53%   | 3.09%        | 4.05%        | 1.60  | 154.01K    | 0.43       | 87.04  | -3.18% | 51,003   \n",
            "223 | MNST   | -0.89%    | -3.88%     | 0.20%      | 6.57%     | 48.31%    | -4.20%   | 1.73%        | 2.59%        | 2.10  | 2.05M      | 0.74       | 87.51  | -1.23% | 1,172,940\n",
            "224 | MTH    | 4.06%     | 11.20%     | 10.54%     | -6.82%    | 176.19%   | 13.45%   | 3.83%        | 4.30%        | 2.70  | 543.77K    | 0.62       | 88.87  | -5.42% | 259,283  \n",
            "225 | ENSG   | -1.07%    | 3.30%      | 21.11%     | 58.25%    | 212.46%   | 19.34%   | 3.81%        | 3.93%        | 1.70  | 278.01K    | 0.68       | 89.43  | 2.77%  | 145,228  \n",
            "226 | SSTK   | 5.26%     | 5.78%      | 36.67%     | 79.96%    | 182.52%   | 27.15%   | 5.24%        | 5.10%        | 1.60  | 330.29K    | 0.29       | 89.43  | -1.91% | 74,218   \n",
            "227 | VICR   | -0.30%    | -5.91%     | 11.46%     | 13.13%    | 144.79%   | 2.41%    | 3.90%        | 5.02%        | 2.20  | 134.31K    | 0.68       | 89.99  | -4.71% | 70,287   \n",
            "228 | EBS    | 2.25%     | -25.63%    | 5.65%      | -10.81%   | 58.98%    | 2.29%    | 3.60%        | 4.99%        | 2.00  | 593.59K    | 0.35       | 90.23  | -1.54% | 161,421  \n",
            "229 | CHGG   | 11.56%    | -16.11%    | 12.58%     | 41.53%    | 190.81%   | 4.02%    | 4.78%        | 5.57%        | 2.00  | 2.08M      | 0.56       | 90.41  | -3.78% | 898,818  \n",
            "230 | PGR    | -1.21%    | 7.01%      | 1.43%      | 0.39%     | 23.49%    | -3.47%   | 1.79%        | 2.42%        | 2.60  | 2.92M      | 0.54       | 90.60  | -0.55% | 1,211,397\n",
            "231 | TREX   | 1.94%     | -8.31%     | 20.49%     | 37.34%    | 173.15%   | 14.63%   | 2.79%        | 4.12%        | 2.40  | 765.73K    | 1.07       | 92.31  | -3.81% | 632,976  \n",
            "232 | FBHS   | 1.62%     | 6.22%      | 9.97%      | 8.65%     | 119.06%   | 6.57%    | 2.47%        | 3.07%        | 2.60  | 874.01K    | 1.07       | 92.81  | 1.60%  | 726,368  \n",
            "233 | TTEC   | 3.61%     | 7.08%      | 33.02%     | 72.37%    | 229.33%   | 28.33%   | 2.84%        | 4.19%        | 2.00  | 172.45K    | 0.27       | 93.31  | -0.30% | 36,266   \n",
            "234 | FND    | 9.25%     | -3.35%     | 12.52%     | 32.33%    | 216.78%   | 6.96%    | 4.59%        | 5.09%        | 1.80  | 738.11K    | 0.39       | 95.93  | -3.41% | 221,913  \n",
            "235 | CCK    | -1.11%    | -2.57%     | 1.83%      | 27.98%    | 92.59%    | -3.26%   | 1.65%        | 2.28%        | 1.80  | 984.72K    | 0.42       | 96.62  | -0.32% | 321,954  \n",
            "236 | SAIC   | 5.43%     | 2.11%      | -1.18%     | 21.61%    | 53.90%    | 1.43%    | 2.76%        | 2.76%        | 1.60  | 387.50K    | 0.48       | 97.12  | 1.18%  | 143,692  \n",
            "237 | QLYS   | 5.61%     | -0.82%     | 0.69%      | 4.52%     | 38.33%    | -15.57%  | 3.94%        | 4.30%        | 2.90  | 591.96K    | 0.45       | 99.05  | -3.74% | 205,288  \n",
            "238 | LOGI   | 5.62%     | -14.49%    | 13.18%     | 42.43%    | 176.19%   | 4.10%    | 2.49%        | 3.61%        | 2.00  | 940.92K    | 0.78       | 101.14 | -0.02% | 567,354  \n",
            "239 | ENTG   | 8.27%     | -0.40%     | 12.04%     | 54.86%    | 140.04%   | 11.16%   | 4.18%        | 5.16%        | 2.10  | 908.04K    | 0.30       | 103.61 | -3.01% | 212,081  \n",
            "240 | SPSC   | 2.87%     | -3.13%     | 8.68%      | 40.15%    | 178.12%   | -1.45%   | 2.80%        | 3.68%        | 2.40  | 213.21K    | 0.30       | 103.68 | -3.13% | 49,718   \n",
            "241 | EXPD   | 5.22%     | 9.74%      | 13.72%     | 9.91%     | 66.02%    | 7.82%    | 1.87%        | 2.24%        | 3.30  | 1.09M      | 0.46       | 103.85 | 1.27%  | 386,932  \n",
            "242 | TTC    | 1.75%     | 1.78%      | 12.78%     | 22.54%    | 71.45%    | 8.87%    | 1.86%        | 2.32%        | 2.70  | 406.85K    | 0.87       | 104.79 | 1.50%  | 272,555  \n",
            "243 | RGLD   | 1.80%     | 0.76%      | 2.10%      | -16.03%   | 23.39%    | 2.82%    | 2.93%        | 2.91%        | 2.50  | 484.59K    | 0.55       | 106.02 | -3.05% | 206,977  \n",
            "244 | AEIS   | 6.14%     | -0.77%     | 9.23%      | 81.42%    | 140.11%   | 13.58%   | 3.66%        | 5.03%        | 2.40  | 284.16K    | 0.45       | 106.67 | -3.15% | 97,937   \n",
            "245 | SSD    | -0.04%    | 12.01%     | 18.58%     | 7.36%     | 70.94%    | 15.44%   | 2.67%        | 2.50%        | 2.50  | 253.65K    | 0.33       | 107.72 | -0.15% | 65,514   \n",
            "246 | HRC    | 4.81%     | 2.83%      | 16.74%     | 30.40%    | 22.89%    | 12.12%   | 2.45%        | 2.32%        | 1.70  | 458.31K    | 0.52       | 109.13 | -0.65% | 184,668  \n",
            "247 | CPRT   | 1.71%     | -6.44%     | -6.56%     | 5.19%     | 58.97%    | -13.14%  | 2.28%        | 2.83%        | 1.70  | 1.19M      | 0.78       | 110.97 | 0.40%  | 716,893  \n",
            "248 | WD     | 9.21%     | 12.32%     | 27.65%     | 105.94%   | 128.77%   | 20.90%   | 4.81%        | 4.07%        | 1.70  | 197.60K    | 0.57       | 111.16 | -0.08% | 87,413   \n",
            "249 | ICE    | -1.63%    | 1.14%      | 5.56%      | 13.10%    | 48.07%    | -1.38%   | 1.27%        | 1.97%        | 1.80  | 2.36M      | 0.68       | 112.20 | -1.32% | 1,236,676\n",
            "250 | IBP    | 4.33%     | -5.17%     | 23.49%     | 22.24%    | 219.48%   | 14.75%   | 4.84%        | 5.18%        | 2.10  | 215.35K    | 0.30       | 112.77 | -3.58% | 50,791   \n",
            "251 | TER    | 7.86%     | -18.22%    | 0.25%      | 52.16%    | 127.13%   | -2.02%   | 3.87%        | 5.59%        | 2.20  | 2.06M      | 0.48       | 114.78 | -2.29% | 771,363  \n",
            "252 | YY     | 2.48%     | -20.77%    | 37.76%     | 41.59%    | 137.36%   | 46.41%   | 4.98%        | 6.15%        | 1.70  | 1.39M      | 0.30       | 114.80 | -1.96% | 320,606  \n",
            "253 | TSM    | 4.33%     | -15.20%    | 14.68%     | 38.33%    | 144.66%   | 8.91%    | 2.59%        | 3.48%        | 2.00  | 12.71M     | 0.69       | 115.56 | -2.69% | 6,778,121\n",
            "254 | AMAT   | 6.41%     | 1.31%      | 35.48%     | 109.62%   | 167.28%   | 38.93%   | 3.18%        | 4.92%        | 2.00  | 8.16M      | 0.75       | 116.95 | -2.46% | 4,716,718\n",
            "255 | ABT    | 1.50%     | -8.12%     | 10.14%     | 10.36%    | 47.97%    | 7.43%    | 1.38%        | 2.08%        | 1.80  | 4.97M      | 0.55       | 118.31 | 0.58%  | 2,098,059\n",
            "256 | GRVY   | -4.05%    | -11.59%    | -27.08%    | 8.55%     | 379.58%   | -29.95%  | 5.48%        | 8.70%        | -     | 86.35K     | 0.35       | 122.10 | -3.56% | 23,207   \n",
            "257 | SJM    | 2.52%     | 9.73%      | 9.60%      | 10.43%    | 5.99%     | 7.37%    | 1.55%        | 2.49%        | 3.20  | 1.16M      | 0.58       | 124.21 | 0.07%  | 520,019  \n",
            "258 | PKI    | 5.02%     | -13.72%    | -13.03%    | 6.65%     | 88.33%    | -11.92%  | 3.40%        | 3.52%        | 2.20  | 1.02M      | 0.60       | 127.92 | 1.21%  | 477,837  \n",
            "259 | EXR    | 1.76%     | 12.07%     | 19.53%     | 18.16%    | 52.31%    | 13.36%   | 2.03%        | 2.75%        | 2.10  | 788.44K    | 0.58       | 130.82 | -0.40% | 352,196  \n",
            "260 | KMX    | -1.12%    | 7.92%      | 42.70%     | 25.75%    | 145.63%   | 39.79%   | 2.14%        | 2.95%        | 1.60  | 1.54M      | 0.50       | 135.35 | 2.50%  | 593,860  \n",
            "\n"
          ],
          "name": "stdout"
        }
      ]
    },
    {
      "cell_type": "code",
      "metadata": {
        "id": "U8AVr63rycRi",
        "colab": {
          "base_uri": "https://localhost:8080/"
        },
        "outputId": "ef4e66d3-1313-4051-bb5c-4277480fe055"
      },
      "source": [
        "def moving_average(yahoo_df, days):\n",
        "    df = yahoo_df.reset_index()\n",
        "    curr_date = df['Date'].max()\n",
        "    end_date = curr_date - datetime.timedelta(days=days)\n",
        "    \n",
        "    df_days = df[df['Date'] >= end_date]\n",
        "    return float(df_days['Close'].mean())\n",
        "\n",
        "def week52_low_high(yahoo_df):\n",
        "    df = yahoo_df.reset_index()\n",
        "    curr_date = df['Date'].max()\n",
        "    end_date = curr_date - datetime.timedelta(days=365)\n",
        "    \n",
        "    df_days = df[df['Date'] >= end_date]\n",
        "    return float(df_days['Close'].max()), float(df_days['Close'].min())\n",
        "\n",
        "\n",
        "screened_stocks = {}\n",
        "for stock in tqdm.tqdm(stock_list):\n",
        "  screened_stocks[stock['Ticker']] = {}\n",
        "  \n",
        "  print(stock['Ticker'])\n",
        "  finviz_stats = finviz.get_stock(stock['Ticker'])\n",
        "  try:\n",
        "      yahoo_df = pdr.get_data_yahoo(stock['Ticker'], interval = \"d\")\n",
        "  except:\n",
        "      continue\n",
        "\n",
        "  SMA200_value = moving_average(yahoo_df, days=200)\n",
        "  SMA150_value = moving_average(yahoo_df, days=150)\n",
        "  SMA50_value = moving_average(yahoo_df, days=50)\n",
        "  SMA200_percent = float(finviz_stats['SMA200'].replace(\"%\",\"\"))\n",
        "  SMA50_percent = float(finviz_stats['SMA50'].replace(\"%\",\"\"))\n",
        "\n",
        "  try:\n",
        "    EPS_ttm = float(finviz_stats['EPS (ttm)'])\n",
        "  except:\n",
        "    EPS_ttm = 0\n",
        "\n",
        "  try:\n",
        "    EPS_QoQ_percent = float(finviz_stats['EPS Q/Q'].replace(\"%\",\"\"))\n",
        "  except:\n",
        "    EPS_QoQ_percent = 0\n",
        "\n",
        "  try:\n",
        "    Sales_QoQ_percent = float(finviz_stats['Sales Q/Q'].replace(\"%\",\"\"))\n",
        "  except:\n",
        "    Sales_QoQ_percent = 0\n",
        "\n",
        "  try:\n",
        "    inst_own = float(finviz_stats['Inst Own'].replace(\"%\",\"\"))/100\n",
        "  except:\n",
        "    inst_own = 0\n",
        "  \n",
        "  shares_outstanding = finviz_stats['Shs Outstand']\n",
        "  if 'M' in shares_outstanding:\n",
        "    shares_outstanding = float(shares_outstanding.replace(\"M\", \"\"))*1e6\n",
        "  elif 'B' in shares_outstanding:\n",
        "    shares_outstanding = float(shares_outstanding.replace(\"B\", \"\"))*1e9\n",
        "  elif 'T' in shares_outstanding:\n",
        "    shares_outstanding = float(shares_outstanding.replace(\"T\", \"\"))*1e12\n",
        "\n",
        "  prev_close = float(finviz_stats['Prev Close'].replace(\"$\",\"\"))\n",
        "  week52_high, week52_low = week52_low_high(yahoo_df)\n",
        "  \n",
        "  screened_stocks[stock['Ticker']]['SMA200_value'] = SMA200_value\n",
        "  screened_stocks[stock['Ticker']]['SMA150_value'] = SMA150_value\n",
        "  screened_stocks[stock['Ticker']]['SMA50_value'] = SMA50_value\n",
        "  screened_stocks[stock['Ticker']]['SMA200_percent'] = SMA200_percent\n",
        "  screened_stocks[stock['Ticker']]['SMA50_percent'] = SMA50_percent\n",
        "  screened_stocks[stock['Ticker']]['EPS_QoQ_percent'] = EPS_QoQ_percent\n",
        "  screened_stocks[stock['Ticker']]['EPS_ttm'] = EPS_ttm\n",
        "  screened_stocks[stock['Ticker']]['Sales_QoQ_percent'] = Sales_QoQ_percent\n",
        "  screened_stocks[stock['Ticker']]['prev_close'] = prev_close\n",
        "  screened_stocks[stock['Ticker']]['week52_high'] = week52_high\n",
        "  screened_stocks[stock['Ticker']]['week52_low'] = week52_low\n",
        "  screened_stocks[stock['Ticker']]['Inst. Ownership'] = inst_own\n",
        "  screened_stocks[stock['Ticker']]['Shares Outstanding'] = shares_outstanding\n",
        "  \n",
        "  # EPS TTM > $1 Rule\n",
        "  if EPS_ttm >= 1.0:\n",
        "    eps_ttm_rule = True\n",
        "  else:\n",
        "    eps_ttm_rule = False\n",
        "\n",
        "  # EPS QoQ Yearly > 18% rule\n",
        "  if EPS_QoQ_percent >= 0.18:\n",
        "    eps_QoQ_yearly_rule = True\n",
        "  else:\n",
        "    eps_QoQ_yearly_rule = False\n",
        "  screened_stocks[stock['Ticker']]['eps_QoQ_yearly_rule'] = eps_QoQ_yearly_rule\n",
        "\n",
        "  # Sales QoQ Yearly > 25% rule\n",
        "  if Sales_QoQ_percent >= 0.25:\n",
        "    sales_QoQ_yearly_rule = True\n",
        "  else:\n",
        "    sales_QoQ_yearly_rule = False\n",
        "  screened_stocks[stock['Ticker']]['sales_QoQ_yearly_rule'] = sales_QoQ_yearly_rule\n",
        "\n",
        "  # Shares Outstanding <= 25 mil\n",
        "  if shares_outstanding <= 25e6:\n",
        "    shares_outstanding_rule = True\n",
        "  else:\n",
        "    shares_outstanding_rule = False\n",
        "  screened_stocks[stock['Ticker']]['shares_outstanding_rule'] = shares_outstanding_rule\n",
        "\n",
        "  # Institutional Ownership < 35%\n",
        "  if 0.05 <= inst_own <= 0.35:\n",
        "    inst_ownership_rule = True\n",
        "  else:\n",
        "    inst_ownership_rule = False\n",
        "  screened_stocks[stock['Ticker']]['inst_ownership_rule'] = inst_ownership_rule\n",
        "\n",
        "  # Positive 200d MA positive\n",
        "  if SMA200_percent > 0:\n",
        "      SMA200_slope_rule = True\n",
        "  else:\n",
        "      SMA200_slope_rule = False\n",
        "  screened_stocks[stock['Ticker']]['SMA200_slope_rule'] = SMA200_slope_rule\n",
        "      \n",
        "  # 150d MA greater than 200d MA\n",
        "  if SMA150_value > SMA200_value:\n",
        "      SMA150_greater_SMA200_rule = True\n",
        "  else:\n",
        "      SMA150_greater_SMA200_rule = False\n",
        "  screened_stocks[stock['Ticker']]['SMA150_greater_SMA200_rule'] = SMA150_greater_SMA200_rule\n",
        "      \n",
        "  # 50d MA greater than 150d MA\n",
        "  if SMA50_value > SMA150_value:\n",
        "      SMA50_greater_SMA150_rule = True\n",
        "  else:\n",
        "      SMA50_greater_SMA150_rule = False\n",
        "  screened_stocks[stock['Ticker']]['SMA50_greater_SMA150_rule'] = SMA50_greater_SMA150_rule\n",
        "      \n",
        "  # Close above 50d MA\n",
        "  if prev_close > SMA50_value:\n",
        "      close_greater_SMA50_rule = True\n",
        "  else:\n",
        "      close_greater_SMA50_rule = False\n",
        "  screened_stocks[stock['Ticker']]['close_greater_SMA50_rule'] = close_greater_SMA50_rule\n",
        "      \n",
        "  # 52 week high low span rule\n",
        "  if 0.75*week52_high > 1.25*week52_low:\n",
        "      week52_span_rule = True\n",
        "  else:\n",
        "      week52_span_rule = False\n",
        "  screened_stocks[stock['Ticker']]['week52_span_rule'] = week52_span_rule\n",
        "  \n",
        "  # Close above 52 week high - 25%\n",
        "  if prev_close > 0.75*week52_high:\n",
        "      close_above_52weekhigh_rule = True\n",
        "  else:\n",
        "      close_above_52weekhigh_rule = False\n",
        "  screened_stocks[stock['Ticker']]['close_above_52weekhigh_rule'] = close_above_52weekhigh_rule\n",
        "\n",
        "output_list = []\n",
        "for stock in screened_stocks.keys():\n",
        "    cols = [\"Ticker\"] + list(screened_stocks[stock].keys())\n",
        "    temp_list = []\n",
        "    temp_list.append(stock)\n",
        "    for rule in screened_stocks[stock].keys():\n",
        "        temp_list.append(screened_stocks[stock][rule])\n",
        "    output_list.append(temp_list)\n",
        "        \n",
        "df_out = pd.DataFrame(output_list,columns=cols)\n",
        "\n",
        "    \n"
      ],
      "execution_count": 41,
      "outputs": [
        {
          "output_type": "stream",
          "text": [
            "\n",
            "  0%|          | 0/356 [00:00<?, ?it/s]\u001b[A"
          ],
          "name": "stderr"
        },
        {
          "output_type": "stream",
          "text": [
            "ISR\n"
          ],
          "name": "stdout"
        },
        {
          "output_type": "stream",
          "text": [
            "\n",
            "  0%|          | 1/356 [00:00<04:55,  1.20it/s]\u001b[A"
          ],
          "name": "stderr"
        },
        {
          "output_type": "stream",
          "text": [
            "CHNR\n"
          ],
          "name": "stdout"
        },
        {
          "output_type": "stream",
          "text": [
            "\n",
            "  1%|          | 2/356 [00:01<04:48,  1.23it/s]\u001b[A"
          ],
          "name": "stderr"
        },
        {
          "output_type": "stream",
          "text": [
            "NBRV\n"
          ],
          "name": "stdout"
        },
        {
          "output_type": "stream",
          "text": [
            "\n",
            "  1%|          | 3/356 [00:02<05:11,  1.13it/s]\u001b[A"
          ],
          "name": "stderr"
        },
        {
          "output_type": "stream",
          "text": [
            "PRPO\n"
          ],
          "name": "stdout"
        },
        {
          "output_type": "stream",
          "text": [
            "\n",
            "  1%|          | 4/356 [00:03<04:45,  1.23it/s]\u001b[A"
          ],
          "name": "stderr"
        },
        {
          "output_type": "stream",
          "text": [
            "VTVT\n"
          ],
          "name": "stdout"
        },
        {
          "output_type": "stream",
          "text": [
            "\n",
            "  1%|▏         | 5/356 [00:04<05:40,  1.03it/s]\u001b[A"
          ],
          "name": "stderr"
        },
        {
          "output_type": "stream",
          "text": [
            "HGBL\n"
          ],
          "name": "stdout"
        },
        {
          "output_type": "stream",
          "text": [
            "\n",
            "  2%|▏         | 6/356 [00:05<05:17,  1.10it/s]\u001b[A"
          ],
          "name": "stderr"
        },
        {
          "output_type": "stream",
          "text": [
            "XIN\n"
          ],
          "name": "stdout"
        },
        {
          "output_type": "stream",
          "text": [
            "\n",
            "  2%|▏         | 7/356 [00:06<05:09,  1.13it/s]\u001b[A"
          ],
          "name": "stderr"
        },
        {
          "output_type": "stream",
          "text": [
            "IAG\n"
          ],
          "name": "stdout"
        },
        {
          "output_type": "stream",
          "text": [
            "\n",
            "  2%|▏         | 8/356 [00:07<04:59,  1.16it/s]\u001b[A"
          ],
          "name": "stderr"
        },
        {
          "output_type": "stream",
          "text": [
            "DPW\n"
          ],
          "name": "stdout"
        },
        {
          "output_type": "stream",
          "text": [
            "\n",
            "  3%|▎         | 9/356 [00:07<04:50,  1.19it/s]\u001b[A"
          ],
          "name": "stderr"
        },
        {
          "output_type": "stream",
          "text": [
            "QTNT\n"
          ],
          "name": "stdout"
        },
        {
          "output_type": "stream",
          "text": [
            "\n",
            "  3%|▎         | 10/356 [00:08<04:20,  1.33it/s]\u001b[A"
          ],
          "name": "stderr"
        },
        {
          "output_type": "stream",
          "text": [
            "MOSY\n"
          ],
          "name": "stdout"
        },
        {
          "output_type": "stream",
          "text": [
            "\n",
            "  3%|▎         | 11/356 [00:10<05:51,  1.02s/it]\u001b[A"
          ],
          "name": "stderr"
        },
        {
          "output_type": "stream",
          "text": [
            "ATRS\n"
          ],
          "name": "stdout"
        },
        {
          "output_type": "stream",
          "text": [
            "\n",
            "  3%|▎         | 12/356 [00:10<05:45,  1.01s/it]\u001b[A"
          ],
          "name": "stderr"
        },
        {
          "output_type": "stream",
          "text": [
            "HMY\n"
          ],
          "name": "stdout"
        },
        {
          "output_type": "stream",
          "text": [
            "\n",
            "  4%|▎         | 13/356 [00:12<06:53,  1.20s/it]\u001b[A"
          ],
          "name": "stderr"
        },
        {
          "output_type": "stream",
          "text": [
            "VRAY\n"
          ],
          "name": "stdout"
        },
        {
          "output_type": "stream",
          "text": [
            "\n",
            "  4%|▍         | 14/356 [00:13<06:12,  1.09s/it]\u001b[A"
          ],
          "name": "stderr"
        },
        {
          "output_type": "stream",
          "text": [
            "OPK\n"
          ],
          "name": "stdout"
        },
        {
          "output_type": "stream",
          "text": [
            "\n",
            "  4%|▍         | 15/356 [00:13<05:12,  1.09it/s]\u001b[A"
          ],
          "name": "stderr"
        },
        {
          "output_type": "stream",
          "text": [
            "CVU\n"
          ],
          "name": "stdout"
        },
        {
          "output_type": "stream",
          "text": [
            "\n",
            "  4%|▍         | 16/356 [00:14<04:38,  1.22it/s]\u001b[A"
          ],
          "name": "stderr"
        },
        {
          "output_type": "stream",
          "text": [
            "DLPN\n"
          ],
          "name": "stdout"
        },
        {
          "output_type": "stream",
          "text": [
            "\n",
            "  5%|▍         | 17/356 [00:15<04:41,  1.20it/s]\u001b[A"
          ],
          "name": "stderr"
        },
        {
          "output_type": "stream",
          "text": [
            "LJPC\n"
          ],
          "name": "stdout"
        },
        {
          "output_type": "stream",
          "text": [
            "\n",
            "  5%|▌         | 18/356 [00:16<04:28,  1.26it/s]\u001b[A"
          ],
          "name": "stderr"
        },
        {
          "output_type": "stream",
          "text": [
            "TKC\n"
          ],
          "name": "stdout"
        },
        {
          "output_type": "stream",
          "text": [
            "\n",
            "  5%|▌         | 19/356 [00:17<04:58,  1.13it/s]\u001b[A"
          ],
          "name": "stderr"
        },
        {
          "output_type": "stream",
          "text": [
            "ADMS\n"
          ],
          "name": "stdout"
        },
        {
          "output_type": "stream",
          "text": [
            "\n",
            "  6%|▌         | 20/356 [00:18<04:46,  1.17it/s]\u001b[A"
          ],
          "name": "stderr"
        },
        {
          "output_type": "stream",
          "text": [
            "GTN\n"
          ],
          "name": "stdout"
        },
        {
          "output_type": "stream",
          "text": [
            "\n",
            "  6%|▌         | 21/356 [00:18<04:21,  1.28it/s]\u001b[A"
          ],
          "name": "stderr"
        },
        {
          "output_type": "stream",
          "text": [
            "DEA\n"
          ],
          "name": "stdout"
        },
        {
          "output_type": "stream",
          "text": [
            "\n",
            "  6%|▌         | 22/356 [00:29<21:37,  3.88s/it]\u001b[A"
          ],
          "name": "stderr"
        },
        {
          "output_type": "stream",
          "text": [
            "MFC\n"
          ],
          "name": "stdout"
        },
        {
          "output_type": "stream",
          "text": [
            "\n",
            "  6%|▋         | 23/356 [00:30<16:49,  3.03s/it]\u001b[A"
          ],
          "name": "stderr"
        },
        {
          "output_type": "stream",
          "text": [
            "BCOV\n"
          ],
          "name": "stdout"
        },
        {
          "output_type": "stream",
          "text": [
            "\n",
            "  7%|▋         | 24/356 [00:31<12:51,  2.32s/it]\u001b[A"
          ],
          "name": "stderr"
        },
        {
          "output_type": "stream",
          "text": [
            "GRBK\n"
          ],
          "name": "stdout"
        },
        {
          "output_type": "stream",
          "text": [
            "\n",
            "  7%|▋         | 25/356 [00:32<10:11,  1.85s/it]\u001b[A"
          ],
          "name": "stderr"
        },
        {
          "output_type": "stream",
          "text": [
            "ESCA\n"
          ],
          "name": "stdout"
        },
        {
          "output_type": "stream",
          "text": [
            "\n",
            "  7%|▋         | 26/356 [00:34<10:03,  1.83s/it]\u001b[A"
          ],
          "name": "stderr"
        },
        {
          "output_type": "stream",
          "text": [
            "STXB\n"
          ],
          "name": "stdout"
        },
        {
          "output_type": "stream",
          "text": [
            "\n",
            "  8%|▊         | 27/356 [00:34<08:01,  1.46s/it]\u001b[A"
          ],
          "name": "stderr"
        },
        {
          "output_type": "stream",
          "text": [
            "ECOM\n"
          ],
          "name": "stdout"
        },
        {
          "output_type": "stream",
          "text": [
            "\n",
            "  8%|▊         | 28/356 [00:35<06:59,  1.28s/it]\u001b[A"
          ],
          "name": "stderr"
        },
        {
          "output_type": "stream",
          "text": [
            "AMKR\n"
          ],
          "name": "stdout"
        },
        {
          "output_type": "stream",
          "text": [
            "\n",
            "  8%|▊         | 29/356 [00:36<05:54,  1.08s/it]\u001b[A"
          ],
          "name": "stderr"
        },
        {
          "output_type": "stream",
          "text": [
            "GNMK\n"
          ],
          "name": "stdout"
        },
        {
          "output_type": "stream",
          "text": [
            "\n",
            "  8%|▊         | 30/356 [00:36<05:13,  1.04it/s]\u001b[A"
          ],
          "name": "stderr"
        },
        {
          "output_type": "stream",
          "text": [
            "SFM\n"
          ],
          "name": "stdout"
        },
        {
          "output_type": "stream",
          "text": [
            "\n",
            "  9%|▊         | 31/356 [00:39<08:25,  1.55s/it]\u001b[A"
          ],
          "name": "stderr"
        },
        {
          "output_type": "stream",
          "text": [
            "CODI\n"
          ],
          "name": "stdout"
        },
        {
          "output_type": "stream",
          "text": [
            "\n",
            "  9%|▉         | 32/356 [00:41<08:51,  1.64s/it]\u001b[A"
          ],
          "name": "stderr"
        },
        {
          "output_type": "stream",
          "text": [
            "FOR\n"
          ],
          "name": "stdout"
        },
        {
          "output_type": "stream",
          "text": [
            "\n",
            "  9%|▉         | 33/356 [00:43<08:49,  1.64s/it]\u001b[A"
          ],
          "name": "stderr"
        },
        {
          "output_type": "stream",
          "text": [
            "LEVL\n"
          ],
          "name": "stdout"
        },
        {
          "output_type": "stream",
          "text": [
            "\n",
            " 10%|▉         | 34/356 [00:45<09:19,  1.74s/it]\u001b[A"
          ],
          "name": "stderr"
        },
        {
          "output_type": "stream",
          "text": [
            "LIVE\n"
          ],
          "name": "stdout"
        },
        {
          "output_type": "stream",
          "text": [
            "\n",
            " 10%|▉         | 35/356 [00:46<09:09,  1.71s/it]\u001b[A"
          ],
          "name": "stderr"
        },
        {
          "output_type": "stream",
          "text": [
            "SGC\n"
          ],
          "name": "stdout"
        },
        {
          "output_type": "stream",
          "text": [
            "\n",
            " 10%|█         | 36/356 [00:48<09:46,  1.83s/it]\u001b[A"
          ],
          "name": "stderr"
        },
        {
          "output_type": "stream",
          "text": [
            "ISDR\n"
          ],
          "name": "stdout"
        },
        {
          "output_type": "stream",
          "text": [
            "\n",
            " 10%|█         | 37/356 [00:50<09:53,  1.86s/it]\u001b[A"
          ],
          "name": "stderr"
        },
        {
          "output_type": "stream",
          "text": [
            "FMAO\n"
          ],
          "name": "stdout"
        },
        {
          "output_type": "stream",
          "text": [
            "\n",
            " 11%|█         | 38/356 [00:52<09:52,  1.86s/it]\u001b[A"
          ],
          "name": "stderr"
        },
        {
          "output_type": "stream",
          "text": [
            "GCBC\n"
          ],
          "name": "stdout"
        },
        {
          "output_type": "stream",
          "text": [
            "\n",
            " 11%|█         | 39/356 [00:54<10:08,  1.92s/it]\u001b[A"
          ],
          "name": "stderr"
        },
        {
          "output_type": "stream",
          "text": [
            "ARD\n"
          ],
          "name": "stdout"
        },
        {
          "output_type": "stream",
          "text": [
            "\n",
            " 11%|█         | 40/356 [00:56<09:33,  1.82s/it]\u001b[A"
          ],
          "name": "stderr"
        },
        {
          "output_type": "stream",
          "text": [
            "PINC\n"
          ],
          "name": "stdout"
        },
        {
          "output_type": "stream",
          "text": [
            "\n",
            " 12%|█▏        | 41/356 [00:59<11:55,  2.27s/it]\u001b[A"
          ],
          "name": "stderr"
        },
        {
          "output_type": "stream",
          "text": [
            "VNET\n"
          ],
          "name": "stdout"
        },
        {
          "output_type": "stream",
          "text": [
            "\n",
            " 12%|█▏        | 42/356 [01:01<10:55,  2.09s/it]\u001b[A"
          ],
          "name": "stderr"
        },
        {
          "output_type": "stream",
          "text": [
            "STAG\n"
          ],
          "name": "stdout"
        },
        {
          "output_type": "stream",
          "text": [
            "\n",
            " 12%|█▏        | 43/356 [01:03<10:26,  2.00s/it]\u001b[A"
          ],
          "name": "stderr"
        },
        {
          "output_type": "stream",
          "text": [
            "PRIM\n"
          ],
          "name": "stdout"
        },
        {
          "output_type": "stream",
          "text": [
            "\n",
            " 12%|█▏        | 44/356 [01:05<10:22,  1.99s/it]\u001b[A"
          ],
          "name": "stderr"
        },
        {
          "output_type": "stream",
          "text": [
            "STM\n"
          ],
          "name": "stdout"
        },
        {
          "output_type": "stream",
          "text": [
            "\n",
            " 13%|█▎        | 45/356 [01:07<10:29,  2.02s/it]\u001b[A"
          ],
          "name": "stderr"
        },
        {
          "output_type": "stream",
          "text": [
            "SEM\n"
          ],
          "name": "stdout"
        },
        {
          "output_type": "stream",
          "text": [
            "\n",
            " 13%|█▎        | 46/356 [01:09<10:27,  2.02s/it]\u001b[A"
          ],
          "name": "stderr"
        },
        {
          "output_type": "stream",
          "text": [
            "HWKN\n"
          ],
          "name": "stdout"
        },
        {
          "output_type": "stream",
          "text": [
            "\n",
            " 13%|█▎        | 47/356 [01:11<10:45,  2.09s/it]\u001b[A"
          ],
          "name": "stderr"
        },
        {
          "output_type": "stream",
          "text": [
            "TENB\n"
          ],
          "name": "stdout"
        },
        {
          "output_type": "stream",
          "text": [
            "\n",
            " 13%|█▎        | 48/356 [01:13<10:10,  1.98s/it]\u001b[A"
          ],
          "name": "stderr"
        },
        {
          "output_type": "stream",
          "text": [
            "VBFC\n"
          ],
          "name": "stdout"
        },
        {
          "output_type": "stream",
          "text": [
            "\n",
            " 14%|█▍        | 49/356 [01:15<10:17,  2.01s/it]\u001b[A"
          ],
          "name": "stderr"
        },
        {
          "output_type": "stream",
          "text": [
            "BXC\n"
          ],
          "name": "stdout"
        },
        {
          "output_type": "stream",
          "text": [
            "\n",
            " 14%|█▍        | 50/356 [01:17<10:08,  1.99s/it]\u001b[A"
          ],
          "name": "stderr"
        },
        {
          "output_type": "stream",
          "text": [
            "OLN\n"
          ],
          "name": "stdout"
        },
        {
          "output_type": "stream",
          "text": [
            "\n",
            " 14%|█▍        | 51/356 [01:19<10:26,  2.05s/it]\u001b[A"
          ],
          "name": "stderr"
        },
        {
          "output_type": "stream",
          "text": [
            "MBIN\n"
          ],
          "name": "stdout"
        },
        {
          "output_type": "stream",
          "text": [
            "\n",
            " 15%|█▍        | 52/356 [01:21<10:04,  1.99s/it]\u001b[A"
          ],
          "name": "stderr"
        },
        {
          "output_type": "stream",
          "text": [
            "WPM\n"
          ],
          "name": "stdout"
        },
        {
          "output_type": "stream",
          "text": [
            "\n",
            " 15%|█▍        | 53/356 [01:23<10:39,  2.11s/it]\u001b[A"
          ],
          "name": "stderr"
        },
        {
          "output_type": "stream",
          "text": [
            "ACLS\n"
          ],
          "name": "stdout"
        },
        {
          "output_type": "stream",
          "text": [
            "\n",
            " 15%|█▌        | 54/356 [01:25<09:53,  1.96s/it]\u001b[A"
          ],
          "name": "stderr"
        },
        {
          "output_type": "stream",
          "text": [
            "CWH\n"
          ],
          "name": "stdout"
        },
        {
          "output_type": "stream",
          "text": [
            "\n",
            " 15%|█▌        | 55/356 [01:27<09:52,  1.97s/it]\u001b[A"
          ],
          "name": "stderr"
        },
        {
          "output_type": "stream",
          "text": [
            "NSA\n"
          ],
          "name": "stdout"
        },
        {
          "output_type": "stream",
          "text": [
            "\n",
            " 16%|█▌        | 56/356 [01:29<09:36,  1.92s/it]\u001b[A"
          ],
          "name": "stderr"
        },
        {
          "output_type": "stream",
          "text": [
            "VCRA\n"
          ],
          "name": "stdout"
        },
        {
          "output_type": "stream",
          "text": [
            "\n",
            " 16%|█▌        | 57/356 [01:30<09:31,  1.91s/it]\u001b[A"
          ],
          "name": "stderr"
        },
        {
          "output_type": "stream",
          "text": [
            "AB\n"
          ],
          "name": "stdout"
        },
        {
          "output_type": "stream",
          "text": [
            "\n",
            " 16%|█▋        | 58/356 [01:33<10:03,  2.02s/it]\u001b[A"
          ],
          "name": "stderr"
        },
        {
          "output_type": "stream",
          "text": [
            "BOMN\n"
          ],
          "name": "stdout"
        },
        {
          "output_type": "stream",
          "text": [
            "\n",
            " 17%|█▋        | 59/356 [01:34<09:35,  1.94s/it]\u001b[A"
          ],
          "name": "stderr"
        },
        {
          "output_type": "stream",
          "text": [
            "FNF\n"
          ],
          "name": "stdout"
        },
        {
          "output_type": "stream",
          "text": [
            "\n",
            " 17%|█▋        | 60/356 [01:36<09:36,  1.95s/it]\u001b[A"
          ],
          "name": "stderr"
        },
        {
          "output_type": "stream",
          "text": [
            "BRKS\n"
          ],
          "name": "stdout"
        },
        {
          "output_type": "stream",
          "text": [
            "\n",
            " 17%|█▋        | 61/356 [01:39<09:49,  2.00s/it]\u001b[A"
          ],
          "name": "stderr"
        },
        {
          "output_type": "stream",
          "text": [
            "PATK\n"
          ],
          "name": "stdout"
        },
        {
          "output_type": "stream",
          "text": [
            "\n",
            " 17%|█▋        | 62/356 [01:41<10:20,  2.11s/it]\u001b[A"
          ],
          "name": "stderr"
        },
        {
          "output_type": "stream",
          "text": [
            "MNST\n"
          ],
          "name": "stdout"
        },
        {
          "output_type": "stream",
          "text": [
            "\n",
            " 18%|█▊        | 63/356 [01:43<10:10,  2.08s/it]\u001b[A"
          ],
          "name": "stderr"
        },
        {
          "output_type": "stream",
          "text": [
            "MTH\n"
          ],
          "name": "stdout"
        },
        {
          "output_type": "stream",
          "text": [
            "\n",
            " 18%|█▊        | 64/356 [01:45<09:49,  2.02s/it]\u001b[A"
          ],
          "name": "stderr"
        },
        {
          "output_type": "stream",
          "text": [
            "ENSG\n"
          ],
          "name": "stdout"
        },
        {
          "output_type": "stream",
          "text": [
            "\n",
            " 18%|█▊        | 65/356 [01:47<09:34,  1.97s/it]\u001b[A"
          ],
          "name": "stderr"
        },
        {
          "output_type": "stream",
          "text": [
            "SSTK\n"
          ],
          "name": "stdout"
        },
        {
          "output_type": "stream",
          "text": [
            "\n",
            " 19%|█▊        | 66/356 [01:48<09:18,  1.92s/it]\u001b[A"
          ],
          "name": "stderr"
        },
        {
          "output_type": "stream",
          "text": [
            "VICR\n"
          ],
          "name": "stdout"
        },
        {
          "output_type": "stream",
          "text": [
            "\n",
            " 19%|█▉        | 67/356 [01:50<09:01,  1.87s/it]\u001b[A"
          ],
          "name": "stderr"
        },
        {
          "output_type": "stream",
          "text": [
            "EBS\n"
          ],
          "name": "stdout"
        },
        {
          "output_type": "stream",
          "text": [
            "\n",
            " 19%|█▉        | 68/356 [01:52<09:19,  1.94s/it]\u001b[A"
          ],
          "name": "stderr"
        },
        {
          "output_type": "stream",
          "text": [
            "CHGG\n"
          ],
          "name": "stdout"
        },
        {
          "output_type": "stream",
          "text": [
            "\n",
            " 19%|█▉        | 69/356 [01:54<09:18,  1.95s/it]\u001b[A"
          ],
          "name": "stderr"
        },
        {
          "output_type": "stream",
          "text": [
            "PGR\n"
          ],
          "name": "stdout"
        },
        {
          "output_type": "stream",
          "text": [
            "\n",
            " 20%|█▉        | 70/356 [01:56<09:37,  2.02s/it]\u001b[A"
          ],
          "name": "stderr"
        },
        {
          "output_type": "stream",
          "text": [
            "TREX\n"
          ],
          "name": "stdout"
        },
        {
          "output_type": "stream",
          "text": [
            "\n",
            " 20%|█▉        | 71/356 [01:59<09:52,  2.08s/it]\u001b[A"
          ],
          "name": "stderr"
        },
        {
          "output_type": "stream",
          "text": [
            "FBHS\n"
          ],
          "name": "stdout"
        },
        {
          "output_type": "stream",
          "text": [
            "\n",
            " 20%|██        | 72/356 [02:01<09:58,  2.11s/it]\u001b[A"
          ],
          "name": "stderr"
        },
        {
          "output_type": "stream",
          "text": [
            "TTEC\n"
          ],
          "name": "stdout"
        },
        {
          "output_type": "stream",
          "text": [
            "\n",
            " 21%|██        | 73/356 [02:03<09:26,  2.00s/it]\u001b[A"
          ],
          "name": "stderr"
        },
        {
          "output_type": "stream",
          "text": [
            "FND\n"
          ],
          "name": "stdout"
        },
        {
          "output_type": "stream",
          "text": [
            "\n",
            " 21%|██        | 74/356 [02:04<08:33,  1.82s/it]\u001b[A"
          ],
          "name": "stderr"
        },
        {
          "output_type": "stream",
          "text": [
            "CCK\n"
          ],
          "name": "stdout"
        },
        {
          "output_type": "stream",
          "text": [
            "\n",
            " 21%|██        | 75/356 [02:06<09:00,  1.92s/it]\u001b[A"
          ],
          "name": "stderr"
        },
        {
          "output_type": "stream",
          "text": [
            "SAIC\n"
          ],
          "name": "stdout"
        },
        {
          "output_type": "stream",
          "text": [
            "\n",
            " 21%|██▏       | 76/356 [02:08<08:58,  1.92s/it]\u001b[A"
          ],
          "name": "stderr"
        },
        {
          "output_type": "stream",
          "text": [
            "QLYS\n"
          ],
          "name": "stdout"
        },
        {
          "output_type": "stream",
          "text": [
            "\n",
            " 22%|██▏       | 77/356 [02:10<08:49,  1.90s/it]\u001b[A"
          ],
          "name": "stderr"
        },
        {
          "output_type": "stream",
          "text": [
            "LOGI\n"
          ],
          "name": "stdout"
        },
        {
          "output_type": "stream",
          "text": [
            "\n",
            " 22%|██▏       | 78/356 [02:12<08:54,  1.92s/it]\u001b[A"
          ],
          "name": "stderr"
        },
        {
          "output_type": "stream",
          "text": [
            "ENTG\n"
          ],
          "name": "stdout"
        },
        {
          "output_type": "stream",
          "text": [
            "\n",
            " 22%|██▏       | 79/356 [02:14<08:38,  1.87s/it]\u001b[A"
          ],
          "name": "stderr"
        },
        {
          "output_type": "stream",
          "text": [
            "SPSC\n"
          ],
          "name": "stdout"
        },
        {
          "output_type": "stream",
          "text": [
            "\n",
            " 22%|██▏       | 80/356 [02:16<08:38,  1.88s/it]\u001b[A"
          ],
          "name": "stderr"
        },
        {
          "output_type": "stream",
          "text": [
            "EXPD\n"
          ],
          "name": "stdout"
        },
        {
          "output_type": "stream",
          "text": [
            "\n",
            " 23%|██▎       | 81/356 [02:18<09:30,  2.07s/it]\u001b[A"
          ],
          "name": "stderr"
        },
        {
          "output_type": "stream",
          "text": [
            "TTC\n"
          ],
          "name": "stdout"
        },
        {
          "output_type": "stream",
          "text": [
            "\n",
            " 23%|██▎       | 82/356 [02:20<09:34,  2.09s/it]\u001b[A"
          ],
          "name": "stderr"
        },
        {
          "output_type": "stream",
          "text": [
            "RGLD\n"
          ],
          "name": "stdout"
        },
        {
          "output_type": "stream",
          "text": [
            "\n",
            " 23%|██▎       | 83/356 [02:22<08:59,  1.98s/it]\u001b[A"
          ],
          "name": "stderr"
        },
        {
          "output_type": "stream",
          "text": [
            "AEIS\n"
          ],
          "name": "stdout"
        },
        {
          "output_type": "stream",
          "text": [
            "\n",
            " 24%|██▎       | 84/356 [02:24<08:40,  1.91s/it]\u001b[A"
          ],
          "name": "stderr"
        },
        {
          "output_type": "stream",
          "text": [
            "SSD\n"
          ],
          "name": "stdout"
        },
        {
          "output_type": "stream",
          "text": [
            "\n",
            " 24%|██▍       | 85/356 [02:26<09:19,  2.07s/it]\u001b[A"
          ],
          "name": "stderr"
        },
        {
          "output_type": "stream",
          "text": [
            "HRC\n"
          ],
          "name": "stdout"
        },
        {
          "output_type": "stream",
          "text": [
            "\n",
            " 24%|██▍       | 86/356 [02:28<09:26,  2.10s/it]\u001b[A"
          ],
          "name": "stderr"
        },
        {
          "output_type": "stream",
          "text": [
            "CPRT\n"
          ],
          "name": "stdout"
        },
        {
          "output_type": "stream",
          "text": [
            "\n",
            " 24%|██▍       | 87/356 [02:30<08:31,  1.90s/it]\u001b[A"
          ],
          "name": "stderr"
        },
        {
          "output_type": "stream",
          "text": [
            "WD\n"
          ],
          "name": "stdout"
        },
        {
          "output_type": "stream",
          "text": [
            "\n",
            " 25%|██▍       | 88/356 [02:31<08:07,  1.82s/it]\u001b[A"
          ],
          "name": "stderr"
        },
        {
          "output_type": "stream",
          "text": [
            "ICE\n"
          ],
          "name": "stdout"
        },
        {
          "output_type": "stream",
          "text": [
            "\n",
            " 25%|██▌       | 89/356 [02:33<08:16,  1.86s/it]\u001b[A"
          ],
          "name": "stderr"
        },
        {
          "output_type": "stream",
          "text": [
            "IBP\n"
          ],
          "name": "stdout"
        },
        {
          "output_type": "stream",
          "text": [
            "\n",
            " 25%|██▌       | 90/356 [02:36<08:39,  1.95s/it]\u001b[A"
          ],
          "name": "stderr"
        },
        {
          "output_type": "stream",
          "text": [
            "TER\n"
          ],
          "name": "stdout"
        },
        {
          "output_type": "stream",
          "text": [
            "\n",
            " 26%|██▌       | 91/356 [02:37<08:05,  1.83s/it]\u001b[A"
          ],
          "name": "stderr"
        },
        {
          "output_type": "stream",
          "text": [
            "YY\n"
          ],
          "name": "stdout"
        },
        {
          "output_type": "stream",
          "text": [
            "\n",
            " 26%|██▌       | 92/356 [02:39<08:06,  1.84s/it]\u001b[A"
          ],
          "name": "stderr"
        },
        {
          "output_type": "stream",
          "text": [
            "TSM\n"
          ],
          "name": "stdout"
        },
        {
          "output_type": "stream",
          "text": [
            "\n",
            " 26%|██▌       | 93/356 [02:41<08:02,  1.83s/it]\u001b[A"
          ],
          "name": "stderr"
        },
        {
          "output_type": "stream",
          "text": [
            "AMAT\n"
          ],
          "name": "stdout"
        },
        {
          "output_type": "stream",
          "text": [
            "\n",
            " 26%|██▋       | 94/356 [02:43<08:01,  1.84s/it]\u001b[A"
          ],
          "name": "stderr"
        },
        {
          "output_type": "stream",
          "text": [
            "ABT\n"
          ],
          "name": "stdout"
        },
        {
          "output_type": "stream",
          "text": [
            "\n",
            " 27%|██▋       | 95/356 [02:45<08:16,  1.90s/it]\u001b[A"
          ],
          "name": "stderr"
        },
        {
          "output_type": "stream",
          "text": [
            "GRVY\n"
          ],
          "name": "stdout"
        },
        {
          "output_type": "stream",
          "text": [
            "\n",
            " 27%|██▋       | 96/356 [02:51<13:23,  3.09s/it]\u001b[A"
          ],
          "name": "stderr"
        },
        {
          "output_type": "stream",
          "text": [
            "SJM\n"
          ],
          "name": "stdout"
        },
        {
          "output_type": "stream",
          "text": [
            "\n",
            " 27%|██▋       | 97/356 [02:52<11:41,  2.71s/it]\u001b[A"
          ],
          "name": "stderr"
        },
        {
          "output_type": "stream",
          "text": [
            "PKI\n"
          ],
          "name": "stdout"
        },
        {
          "output_type": "stream",
          "text": [
            "\n",
            " 28%|██▊       | 98/356 [02:55<11:33,  2.69s/it]\u001b[A"
          ],
          "name": "stderr"
        },
        {
          "output_type": "stream",
          "text": [
            "EXR\n"
          ],
          "name": "stdout"
        },
        {
          "output_type": "stream",
          "text": [
            "\n",
            " 28%|██▊       | 99/356 [02:57<10:54,  2.55s/it]\u001b[A"
          ],
          "name": "stderr"
        },
        {
          "output_type": "stream",
          "text": [
            "KMX\n"
          ],
          "name": "stdout"
        },
        {
          "output_type": "stream",
          "text": [
            "\n",
            " 28%|██▊       | 100/356 [03:03<07:49,  1.83s/it]\n"
          ],
          "name": "stderr"
        }
      ]
    },
    {
      "cell_type": "code",
      "metadata": {
        "id": "oi45Ffb_ycRk"
      },
      "source": [
        "rules = [col for col in df_out.columns if \"rule\" in col]\n",
        "df_out['Passed Tests'] = (df_out[list(rules)]).sum(1)"
      ],
      "execution_count": 42,
      "outputs": []
    },
    {
      "cell_type": "code",
      "metadata": {
        "id": "ZEkIa-4ZycRk",
        "colab": {
          "base_uri": "https://localhost:8080/",
          "height": 456
        },
        "outputId": "930bc492-7524-44a3-964d-bef290c42c33"
      },
      "source": [
        "df_out.sort_values('Passed Tests', ascending=False)"
      ],
      "execution_count": 43,
      "outputs": [
        {
          "output_type": "execute_result",
          "data": {
            "text/html": [
              "<div>\n",
              "<style scoped>\n",
              "    .dataframe tbody tr th:only-of-type {\n",
              "        vertical-align: middle;\n",
              "    }\n",
              "\n",
              "    .dataframe tbody tr th {\n",
              "        vertical-align: top;\n",
              "    }\n",
              "\n",
              "    .dataframe thead th {\n",
              "        text-align: right;\n",
              "    }\n",
              "</style>\n",
              "<table border=\"1\" class=\"dataframe\">\n",
              "  <thead>\n",
              "    <tr style=\"text-align: right;\">\n",
              "      <th></th>\n",
              "      <th>Ticker</th>\n",
              "      <th>SMA200_value</th>\n",
              "      <th>SMA150_value</th>\n",
              "      <th>SMA50_value</th>\n",
              "      <th>SMA200_percent</th>\n",
              "      <th>SMA50_percent</th>\n",
              "      <th>EPS_QoQ_percent</th>\n",
              "      <th>EPS_ttm</th>\n",
              "      <th>Sales_QoQ_percent</th>\n",
              "      <th>prev_close</th>\n",
              "      <th>week52_high</th>\n",
              "      <th>week52_low</th>\n",
              "      <th>Inst. Ownership</th>\n",
              "      <th>Shares Outstanding</th>\n",
              "      <th>eps_QoQ_yearly_rule</th>\n",
              "      <th>sales_QoQ_yearly_rule</th>\n",
              "      <th>shares_outstanding_rule</th>\n",
              "      <th>inst_ownership_rule</th>\n",
              "      <th>SMA200_slope_rule</th>\n",
              "      <th>SMA150_greater_SMA200_rule</th>\n",
              "      <th>SMA50_greater_SMA150_rule</th>\n",
              "      <th>close_greater_SMA50_rule</th>\n",
              "      <th>week52_span_rule</th>\n",
              "      <th>close_above_52weekhigh_rule</th>\n",
              "      <th>Passed Tests</th>\n",
              "    </tr>\n",
              "  </thead>\n",
              "  <tbody>\n",
              "    <tr>\n",
              "      <th>25</th>\n",
              "      <td>ESCA</td>\n",
              "      <td>20.570942</td>\n",
              "      <td>21.167019</td>\n",
              "      <td>21.823611</td>\n",
              "      <td>20.76</td>\n",
              "      <td>4.00</td>\n",
              "      <td>98.5</td>\n",
              "      <td>1.82</td>\n",
              "      <td>59.1</td>\n",
              "      <td>22.91</td>\n",
              "      <td>24.049999</td>\n",
              "      <td>4.750000</td>\n",
              "      <td>0.307</td>\n",
              "      <td>14030000.0</td>\n",
              "      <td>True</td>\n",
              "      <td>True</td>\n",
              "      <td>True</td>\n",
              "      <td>True</td>\n",
              "      <td>True</td>\n",
              "      <td>True</td>\n",
              "      <td>True</td>\n",
              "      <td>True</td>\n",
              "      <td>True</td>\n",
              "      <td>True</td>\n",
              "      <td>10</td>\n",
              "    </tr>\n",
              "    <tr>\n",
              "      <th>10</th>\n",
              "      <td>MOSY</td>\n",
              "      <td>2.498696</td>\n",
              "      <td>2.803365</td>\n",
              "      <td>4.387778</td>\n",
              "      <td>92.46</td>\n",
              "      <td>11.34</td>\n",
              "      <td>76.0</td>\n",
              "      <td>-1.44</td>\n",
              "      <td>66.7</td>\n",
              "      <td>4.71</td>\n",
              "      <td>6.260000</td>\n",
              "      <td>0.840000</td>\n",
              "      <td>0.096</td>\n",
              "      <td>3550000.0</td>\n",
              "      <td>True</td>\n",
              "      <td>True</td>\n",
              "      <td>True</td>\n",
              "      <td>True</td>\n",
              "      <td>True</td>\n",
              "      <td>True</td>\n",
              "      <td>True</td>\n",
              "      <td>True</td>\n",
              "      <td>True</td>\n",
              "      <td>True</td>\n",
              "      <td>10</td>\n",
              "    </tr>\n",
              "    <tr>\n",
              "      <th>26</th>\n",
              "      <td>STXB</td>\n",
              "      <td>16.353442</td>\n",
              "      <td>17.746106</td>\n",
              "      <td>20.912778</td>\n",
              "      <td>54.78</td>\n",
              "      <td>16.01</td>\n",
              "      <td>108.6</td>\n",
              "      <td>1.79</td>\n",
              "      <td>24.4</td>\n",
              "      <td>22.57</td>\n",
              "      <td>24.180000</td>\n",
              "      <td>9.020000</td>\n",
              "      <td>0.389</td>\n",
              "      <td>17170000.0</td>\n",
              "      <td>True</td>\n",
              "      <td>True</td>\n",
              "      <td>True</td>\n",
              "      <td>False</td>\n",
              "      <td>True</td>\n",
              "      <td>True</td>\n",
              "      <td>True</td>\n",
              "      <td>True</td>\n",
              "      <td>True</td>\n",
              "      <td>True</td>\n",
              "      <td>9</td>\n",
              "    </tr>\n",
              "    <tr>\n",
              "      <th>57</th>\n",
              "      <td>AB</td>\n",
              "      <td>33.012391</td>\n",
              "      <td>34.510961</td>\n",
              "      <td>37.775556</td>\n",
              "      <td>31.88</td>\n",
              "      <td>11.27</td>\n",
              "      <td>10.1</td>\n",
              "      <td>2.84</td>\n",
              "      <td>15.4</td>\n",
              "      <td>40.37</td>\n",
              "      <td>41.220001</td>\n",
              "      <td>14.660000</td>\n",
              "      <td>0.187</td>\n",
              "      <td>101230000.0</td>\n",
              "      <td>True</td>\n",
              "      <td>True</td>\n",
              "      <td>False</td>\n",
              "      <td>True</td>\n",
              "      <td>True</td>\n",
              "      <td>True</td>\n",
              "      <td>True</td>\n",
              "      <td>True</td>\n",
              "      <td>True</td>\n",
              "      <td>True</td>\n",
              "      <td>9</td>\n",
              "    </tr>\n",
              "    <tr>\n",
              "      <th>31</th>\n",
              "      <td>CODI</td>\n",
              "      <td>20.028913</td>\n",
              "      <td>20.692019</td>\n",
              "      <td>22.932222</td>\n",
              "      <td>26.02</td>\n",
              "      <td>7.62</td>\n",
              "      <td>119.8</td>\n",
              "      <td>-0.21</td>\n",
              "      <td>22.7</td>\n",
              "      <td>23.77</td>\n",
              "      <td>24.430000</td>\n",
              "      <td>11.150000</td>\n",
              "      <td>0.334</td>\n",
              "      <td>64940000.0</td>\n",
              "      <td>True</td>\n",
              "      <td>True</td>\n",
              "      <td>False</td>\n",
              "      <td>True</td>\n",
              "      <td>True</td>\n",
              "      <td>True</td>\n",
              "      <td>True</td>\n",
              "      <td>True</td>\n",
              "      <td>True</td>\n",
              "      <td>True</td>\n",
              "      <td>9</td>\n",
              "    </tr>\n",
              "    <tr>\n",
              "      <th>...</th>\n",
              "      <td>...</td>\n",
              "      <td>...</td>\n",
              "      <td>...</td>\n",
              "      <td>...</td>\n",
              "      <td>...</td>\n",
              "      <td>...</td>\n",
              "      <td>...</td>\n",
              "      <td>...</td>\n",
              "      <td>...</td>\n",
              "      <td>...</td>\n",
              "      <td>...</td>\n",
              "      <td>...</td>\n",
              "      <td>...</td>\n",
              "      <td>...</td>\n",
              "      <td>...</td>\n",
              "      <td>...</td>\n",
              "      <td>...</td>\n",
              "      <td>...</td>\n",
              "      <td>...</td>\n",
              "      <td>...</td>\n",
              "      <td>...</td>\n",
              "      <td>...</td>\n",
              "      <td>...</td>\n",
              "      <td>...</td>\n",
              "      <td>...</td>\n",
              "    </tr>\n",
              "    <tr>\n",
              "      <th>67</th>\n",
              "      <td>EBS</td>\n",
              "      <td>98.319167</td>\n",
              "      <td>96.462837</td>\n",
              "      <td>104.394584</td>\n",
              "      <td>-7.95</td>\n",
              "      <td>-13.47</td>\n",
              "      <td>283.0</td>\n",
              "      <td>5.63</td>\n",
              "      <td>61.8</td>\n",
              "      <td>91.65</td>\n",
              "      <td>134.940002</td>\n",
              "      <td>49.340000</td>\n",
              "      <td>0.849</td>\n",
              "      <td>53300000.0</td>\n",
              "      <td>True</td>\n",
              "      <td>True</td>\n",
              "      <td>False</td>\n",
              "      <td>False</td>\n",
              "      <td>False</td>\n",
              "      <td>False</td>\n",
              "      <td>True</td>\n",
              "      <td>False</td>\n",
              "      <td>True</td>\n",
              "      <td>False</td>\n",
              "      <td>4</td>\n",
              "    </tr>\n",
              "    <tr>\n",
              "      <th>40</th>\n",
              "      <td>PINC</td>\n",
              "      <td>34.201848</td>\n",
              "      <td>34.768317</td>\n",
              "      <td>34.264028</td>\n",
              "      <td>-0.34</td>\n",
              "      <td>-2.38</td>\n",
              "      <td>105.2</td>\n",
              "      <td>4.23</td>\n",
              "      <td>32.3</td>\n",
              "      <td>34.00</td>\n",
              "      <td>37.419998</td>\n",
              "      <td>27.400000</td>\n",
              "      <td>0.675</td>\n",
              "      <td>122130000.0</td>\n",
              "      <td>True</td>\n",
              "      <td>True</td>\n",
              "      <td>False</td>\n",
              "      <td>False</td>\n",
              "      <td>False</td>\n",
              "      <td>True</td>\n",
              "      <td>False</td>\n",
              "      <td>False</td>\n",
              "      <td>False</td>\n",
              "      <td>True</td>\n",
              "      <td>4</td>\n",
              "    </tr>\n",
              "    <tr>\n",
              "      <th>52</th>\n",
              "      <td>WPM</td>\n",
              "      <td>43.960326</td>\n",
              "      <td>41.719087</td>\n",
              "      <td>38.912917</td>\n",
              "      <td>-11.79</td>\n",
              "      <td>-0.27</td>\n",
              "      <td>101.8</td>\n",
              "      <td>1.13</td>\n",
              "      <td>28.2</td>\n",
              "      <td>40.12</td>\n",
              "      <td>56.209999</td>\n",
              "      <td>23.740000</td>\n",
              "      <td>0.641</td>\n",
              "      <td>449320000.0</td>\n",
              "      <td>True</td>\n",
              "      <td>True</td>\n",
              "      <td>False</td>\n",
              "      <td>False</td>\n",
              "      <td>False</td>\n",
              "      <td>False</td>\n",
              "      <td>False</td>\n",
              "      <td>True</td>\n",
              "      <td>True</td>\n",
              "      <td>False</td>\n",
              "      <td>4</td>\n",
              "    </tr>\n",
              "    <tr>\n",
              "      <th>9</th>\n",
              "      <td>QTNT</td>\n",
              "      <td>5.449348</td>\n",
              "      <td>5.523077</td>\n",
              "      <td>4.815000</td>\n",
              "      <td>-31.36</td>\n",
              "      <td>-19.46</td>\n",
              "      <td>20.9</td>\n",
              "      <td>-1.10</td>\n",
              "      <td>11.4</td>\n",
              "      <td>4.13</td>\n",
              "      <td>9.260000</td>\n",
              "      <td>2.540000</td>\n",
              "      <td>0.923</td>\n",
              "      <td>101020000.0</td>\n",
              "      <td>True</td>\n",
              "      <td>True</td>\n",
              "      <td>False</td>\n",
              "      <td>False</td>\n",
              "      <td>False</td>\n",
              "      <td>True</td>\n",
              "      <td>False</td>\n",
              "      <td>False</td>\n",
              "      <td>True</td>\n",
              "      <td>False</td>\n",
              "      <td>4</td>\n",
              "    </tr>\n",
              "    <tr>\n",
              "      <th>21</th>\n",
              "      <td>DEA</td>\n",
              "      <td>22.274638</td>\n",
              "      <td>22.010865</td>\n",
              "      <td>22.014445</td>\n",
              "      <td>-5.39</td>\n",
              "      <td>-2.89</td>\n",
              "      <td>47.5</td>\n",
              "      <td>0.15</td>\n",
              "      <td>7.2</td>\n",
              "      <td>21.61</td>\n",
              "      <td>29.320000</td>\n",
              "      <td>20.690001</td>\n",
              "      <td>0.993</td>\n",
              "      <td>81440000.0</td>\n",
              "      <td>True</td>\n",
              "      <td>True</td>\n",
              "      <td>False</td>\n",
              "      <td>False</td>\n",
              "      <td>False</td>\n",
              "      <td>False</td>\n",
              "      <td>True</td>\n",
              "      <td>False</td>\n",
              "      <td>False</td>\n",
              "      <td>False</td>\n",
              "      <td>3</td>\n",
              "    </tr>\n",
              "  </tbody>\n",
              "</table>\n",
              "<p>100 rows × 25 columns</p>\n",
              "</div>"
            ],
            "text/plain": [
              "   Ticker  SMA200_value  ...  close_above_52weekhigh_rule  Passed Tests\n",
              "25   ESCA     20.570942  ...                         True            10\n",
              "10   MOSY      2.498696  ...                         True            10\n",
              "26   STXB     16.353442  ...                         True             9\n",
              "57     AB     33.012391  ...                         True             9\n",
              "31   CODI     20.028913  ...                         True             9\n",
              "..    ...           ...  ...                          ...           ...\n",
              "67    EBS     98.319167  ...                        False             4\n",
              "40   PINC     34.201848  ...                         True             4\n",
              "52    WPM     43.960326  ...                        False             4\n",
              "9    QTNT      5.449348  ...                        False             4\n",
              "21    DEA     22.274638  ...                        False             3\n",
              "\n",
              "[100 rows x 25 columns]"
            ]
          },
          "metadata": {
            "tags": []
          },
          "execution_count": 43
        }
      ]
    }
  ]
}