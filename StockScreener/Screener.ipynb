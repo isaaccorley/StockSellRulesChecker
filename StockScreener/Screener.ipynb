{
  "nbformat": 4,
  "nbformat_minor": 0,
  "metadata": {
    "kernelspec": {
      "display_name": "Python 3",
      "language": "python",
      "name": "python3"
    },
    "language_info": {
      "codemirror_mode": {
        "name": "ipython",
        "version": 3
      },
      "file_extension": ".py",
      "mimetype": "text/x-python",
      "name": "python",
      "nbconvert_exporter": "python",
      "pygments_lexer": "ipython3",
      "version": "3.6.9"
    },
    "colab": {
      "name": "Screener.ipynb",
      "provenance": [],
      "include_colab_link": true
    }
  },
  "cells": [
    {
      "cell_type": "markdown",
      "metadata": {
        "id": "view-in-github",
        "colab_type": "text"
      },
      "source": [
        "<a href=\"https://colab.research.google.com/github/jonlwowski012/StockSellRulesChecker/blob/master/StockScreener/Screener.ipynb\" target=\"_parent\"><img src=\"https://colab.research.google.com/assets/colab-badge.svg\" alt=\"Open In Colab\"/></a>"
      ]
    },
    {
      "cell_type": "code",
      "metadata": {
        "id": "jiQYNbnwycRf",
        "colab": {
          "base_uri": "https://localhost:8080/"
        },
        "outputId": "9cecca51-1a2a-4371-8a8c-f5e54a9616cd"
      },
      "source": [
        "! git clone https://github.com/jonlwowski012/StockSellRulesChecker.git\n",
        "! pip install -r StockSellRulesChecker/StockScreener/requirements.txt\n",
        "! pip install -U git+https://github.com/mariostoev/finviz"
      ],
      "execution_count": 1,
      "outputs": [
        {
          "output_type": "stream",
          "text": [
            "fatal: destination path 'StockSellRulesChecker' already exists and is not an empty directory.\n",
            "Requirement already satisfied: pandas==1.1.3 in /usr/local/lib/python3.7/dist-packages (from -r StockSellRulesChecker/StockScreener/requirements.txt (line 1)) (1.1.3)\n",
            "Requirement already satisfied: finviz in /usr/local/lib/python3.7/dist-packages (from -r StockSellRulesChecker/StockScreener/requirements.txt (line 2)) (1.3.4)\n",
            "Requirement already satisfied: stockquotes==2.0.1 in /usr/local/lib/python3.7/dist-packages (from -r StockSellRulesChecker/StockScreener/requirements.txt (line 3)) (2.0.1)\n",
            "Requirement already satisfied: nest_asyncio in /usr/local/lib/python3.7/dist-packages (from -r StockSellRulesChecker/StockScreener/requirements.txt (line 4)) (1.5.1)\n",
            "Requirement already satisfied: yfinance in /usr/local/lib/python3.7/dist-packages (from -r StockSellRulesChecker/StockScreener/requirements.txt (line 5)) (0.1.55)\n",
            "Requirement already satisfied: python-dateutil>=2.7.3 in /usr/local/lib/python3.7/dist-packages (from pandas==1.1.3->-r StockSellRulesChecker/StockScreener/requirements.txt (line 1)) (2.8.1)\n",
            "Requirement already satisfied: numpy>=1.15.4 in /usr/local/lib/python3.7/dist-packages (from pandas==1.1.3->-r StockSellRulesChecker/StockScreener/requirements.txt (line 1)) (1.19.5)\n",
            "Requirement already satisfied: pytz>=2017.2 in /usr/local/lib/python3.7/dist-packages (from pandas==1.1.3->-r StockSellRulesChecker/StockScreener/requirements.txt (line 1)) (2018.9)\n",
            "Requirement already satisfied: urllib3 in /usr/local/lib/python3.7/dist-packages (from finviz->-r StockSellRulesChecker/StockScreener/requirements.txt (line 2)) (1.24.3)\n",
            "Requirement already satisfied: cssselect in /usr/local/lib/python3.7/dist-packages (from finviz->-r StockSellRulesChecker/StockScreener/requirements.txt (line 2)) (1.1.0)\n",
            "Requirement already satisfied: aiohttp in /usr/local/lib/python3.7/dist-packages (from finviz->-r StockSellRulesChecker/StockScreener/requirements.txt (line 2)) (3.7.4.post0)\n",
            "Requirement already satisfied: requests in /usr/local/lib/python3.7/dist-packages (from finviz->-r StockSellRulesChecker/StockScreener/requirements.txt (line 2)) (2.23.0)\n",
            "Requirement already satisfied: user-agent in /usr/local/lib/python3.7/dist-packages (from finviz->-r StockSellRulesChecker/StockScreener/requirements.txt (line 2)) (0.1.9)\n",
            "Requirement already satisfied: lxml in /usr/local/lib/python3.7/dist-packages (from finviz->-r StockSellRulesChecker/StockScreener/requirements.txt (line 2)) (4.2.6)\n",
            "Requirement already satisfied: multitasking>=0.0.7 in /usr/local/lib/python3.7/dist-packages (from yfinance->-r StockSellRulesChecker/StockScreener/requirements.txt (line 5)) (0.0.9)\n",
            "Requirement already satisfied: six>=1.5 in /usr/local/lib/python3.7/dist-packages (from python-dateutil>=2.7.3->pandas==1.1.3->-r StockSellRulesChecker/StockScreener/requirements.txt (line 1)) (1.15.0)\n",
            "Requirement already satisfied: yarl<2.0,>=1.0 in /usr/local/lib/python3.7/dist-packages (from aiohttp->finviz->-r StockSellRulesChecker/StockScreener/requirements.txt (line 2)) (1.6.3)\n",
            "Requirement already satisfied: typing-extensions>=3.6.5 in /usr/local/lib/python3.7/dist-packages (from aiohttp->finviz->-r StockSellRulesChecker/StockScreener/requirements.txt (line 2)) (3.7.4.3)\n",
            "Requirement already satisfied: multidict<7.0,>=4.5 in /usr/local/lib/python3.7/dist-packages (from aiohttp->finviz->-r StockSellRulesChecker/StockScreener/requirements.txt (line 2)) (5.1.0)\n",
            "Requirement already satisfied: attrs>=17.3.0 in /usr/local/lib/python3.7/dist-packages (from aiohttp->finviz->-r StockSellRulesChecker/StockScreener/requirements.txt (line 2)) (20.3.0)\n",
            "Requirement already satisfied: chardet<5.0,>=2.0 in /usr/local/lib/python3.7/dist-packages (from aiohttp->finviz->-r StockSellRulesChecker/StockScreener/requirements.txt (line 2)) (3.0.4)\n",
            "Requirement already satisfied: async-timeout<4.0,>=3.0 in /usr/local/lib/python3.7/dist-packages (from aiohttp->finviz->-r StockSellRulesChecker/StockScreener/requirements.txt (line 2)) (3.0.1)\n",
            "Requirement already satisfied: certifi>=2017.4.17 in /usr/local/lib/python3.7/dist-packages (from requests->finviz->-r StockSellRulesChecker/StockScreener/requirements.txt (line 2)) (2020.12.5)\n",
            "Requirement already satisfied: idna<3,>=2.5 in /usr/local/lib/python3.7/dist-packages (from requests->finviz->-r StockSellRulesChecker/StockScreener/requirements.txt (line 2)) (2.10)\n",
            "Collecting git+https://github.com/mariostoev/finviz\n",
            "  Cloning https://github.com/mariostoev/finviz to /tmp/pip-req-build-y_h253u2\n",
            "  Running command git clone -q https://github.com/mariostoev/finviz /tmp/pip-req-build-y_h253u2\n",
            "  Installing build dependencies ... \u001b[?25l\u001b[?25hdone\n",
            "  Getting requirements to build wheel ... \u001b[?25l\u001b[?25hdone\n",
            "    Preparing wheel metadata ... \u001b[?25l\u001b[?25hdone\n",
            "Requirement already satisfied, skipping upgrade: urllib3 in /usr/local/lib/python3.7/dist-packages (from finviz==1.3.4) (1.24.3)\n",
            "Requirement already satisfied, skipping upgrade: lxml in /usr/local/lib/python3.7/dist-packages (from finviz==1.3.4) (4.2.6)\n",
            "Requirement already satisfied, skipping upgrade: cssselect in /usr/local/lib/python3.7/dist-packages (from finviz==1.3.4) (1.1.0)\n",
            "Requirement already satisfied, skipping upgrade: user-agent in /usr/local/lib/python3.7/dist-packages (from finviz==1.3.4) (0.1.9)\n",
            "Requirement already satisfied, skipping upgrade: aiohttp in /usr/local/lib/python3.7/dist-packages (from finviz==1.3.4) (3.7.4.post0)\n",
            "Requirement already satisfied, skipping upgrade: requests in /usr/local/lib/python3.7/dist-packages (from finviz==1.3.4) (2.23.0)\n",
            "Requirement already satisfied, skipping upgrade: six in /usr/local/lib/python3.7/dist-packages (from user-agent->finviz==1.3.4) (1.15.0)\n",
            "Requirement already satisfied, skipping upgrade: attrs>=17.3.0 in /usr/local/lib/python3.7/dist-packages (from aiohttp->finviz==1.3.4) (20.3.0)\n",
            "Requirement already satisfied, skipping upgrade: yarl<2.0,>=1.0 in /usr/local/lib/python3.7/dist-packages (from aiohttp->finviz==1.3.4) (1.6.3)\n",
            "Requirement already satisfied, skipping upgrade: multidict<7.0,>=4.5 in /usr/local/lib/python3.7/dist-packages (from aiohttp->finviz==1.3.4) (5.1.0)\n",
            "Requirement already satisfied, skipping upgrade: async-timeout<4.0,>=3.0 in /usr/local/lib/python3.7/dist-packages (from aiohttp->finviz==1.3.4) (3.0.1)\n",
            "Requirement already satisfied, skipping upgrade: typing-extensions>=3.6.5 in /usr/local/lib/python3.7/dist-packages (from aiohttp->finviz==1.3.4) (3.7.4.3)\n",
            "Requirement already satisfied, skipping upgrade: chardet<5.0,>=2.0 in /usr/local/lib/python3.7/dist-packages (from aiohttp->finviz==1.3.4) (3.0.4)\n",
            "Requirement already satisfied, skipping upgrade: certifi>=2017.4.17 in /usr/local/lib/python3.7/dist-packages (from requests->finviz==1.3.4) (2020.12.5)\n",
            "Requirement already satisfied, skipping upgrade: idna<3,>=2.5 in /usr/local/lib/python3.7/dist-packages (from requests->finviz==1.3.4) (2.10)\n",
            "Building wheels for collected packages: finviz\n",
            "  Building wheel for finviz (PEP 517) ... \u001b[?25l\u001b[?25hdone\n",
            "  Created wheel for finviz: filename=finviz-1.3.4-cp37-none-any.whl size=16979 sha256=e7c9b60a7e25c98db9bd4264fdb271fdaf415adef1bef3611de4b55a097d4a31\n",
            "  Stored in directory: /tmp/pip-ephem-wheel-cache-wlhx8qvu/wheels/98/cc/6a/68893eb662f0f196f8e153e9ce4424a8ae9e1f022fd64e4d6d\n",
            "Successfully built finviz\n",
            "Installing collected packages: finviz\n",
            "  Found existing installation: finviz 1.3.4\n",
            "    Uninstalling finviz-1.3.4:\n",
            "      Successfully uninstalled finviz-1.3.4\n",
            "Successfully installed finviz-1.3.4\n"
          ],
          "name": "stdout"
        }
      ]
    },
    {
      "cell_type": "code",
      "metadata": {
        "id": "HejzLL23ycRh"
      },
      "source": [
        "from finviz.screener import Screener\n",
        "import nest_asyncio\n",
        "import finviz\n",
        "import pandas_datareader as pdr\n",
        "import yfinance as yf\n",
        "yf.pdr_override() # <== that's all it takes :-)\n",
        "\n",
        "import datetime\n",
        "import stockquotes\n",
        "import pandas as pd\n",
        "import tqdm\n",
        "nest_asyncio.apply()\n",
        "\n",
        "import time"
      ],
      "execution_count": 2,
      "outputs": []
    },
    {
      "cell_type": "code",
      "metadata": {
        "id": "W9nnHWzXycRh"
      },
      "source": [
        "eps_5year_over5pct = True\n",
        "eps_qoq_over5pct = True\n",
        "eps_yoy_over5pct = True\n",
        "sales_5years_over5pct = True\n",
        "sales_qoq_over5pct = True\n",
        "\n",
        "filters = []\n",
        "if eps_5year_over5pct:\n",
        "  filters.append('fa_eps5years_o5')\n",
        "if eps_qoq_over5pct:\n",
        "  filters.append('fa_epsqoq_o5')\n",
        "if eps_yoy_over5pct:\n",
        "  filters.append('fa_epsyoy_o5')\n",
        "if sales_5years_over5pct:\n",
        "  filters.append('fa_sales5years_o5')\n",
        "if sales_qoq_over5pct:\n",
        "  filters.append('fa_salesqoq_o5')\n",
        "\n",
        "stock_list = Screener(filters=filters, table='Performance', order='price')  "
      ],
      "execution_count": 3,
      "outputs": []
    },
    {
      "cell_type": "code",
      "metadata": {
        "id": "1XPzaeV1ycRi",
        "colab": {
          "base_uri": "https://localhost:8080/"
        },
        "outputId": "11c1b838-cca7-459c-afd9-478ccc59e765"
      },
      "source": [
        "print(len(stock_list.data))"
      ],
      "execution_count": 4,
      "outputs": [
        {
          "output_type": "stream",
          "text": [
            "367\n"
          ],
          "name": "stdout"
        }
      ]
    },
    {
      "cell_type": "code",
      "metadata": {
        "id": "U8AVr63rycRi",
        "colab": {
          "base_uri": "https://localhost:8080/"
        },
        "outputId": "7934dd5c-092b-423e-bb6d-37a84c171ff6"
      },
      "source": [
        "def moving_average(yahoo_df, days, delta=0):\n",
        "    df = yahoo_df.reset_index()\n",
        "    curr_date = df['Date'].max() - datetime.timedelta(days=delta)\n",
        "    end_date = curr_date - datetime.timedelta(days=days) - datetime.timedelta(days=delta)\n",
        "    \n",
        "    df_days = df[df['Date'] >= end_date]\n",
        "    df_days = df_days[df_days['Date'] <= curr_date]\n",
        "    return float(df_days['Close'].mean())\n",
        "\n",
        "def week52_low_high(yahoo_df):\n",
        "    df = yahoo_df.reset_index()\n",
        "    curr_date = df['Date'].max()\n",
        "    end_date = curr_date - datetime.timedelta(days=365)\n",
        "    \n",
        "    df_days = df[df['Date'] >= end_date]\n",
        "    return float(df_days['Close'].max()), float(df_days['Close'].min())\n",
        "\n",
        "def SMA200_slope_positive_rule(yahoo_df, days=21):\n",
        "  for day in range(days):\n",
        "    if moving_average(yahoo_df, days=200, delta=day) > moving_average(yahoo_df, days=200, delta=day+1):\n",
        "      continue\n",
        "    else:\n",
        "      return False\n",
        "  return True\n",
        "\n",
        "screened_stocks = {}\n",
        "for stock in tqdm.tqdm(stock_list, total=len(stock_list.data)):\n",
        "  print(stock['Ticker'])\n",
        "  if stock[\"Ticker\"] == \"\":\n",
        "    continue\n",
        "  screened_stocks[stock['Ticker']] = {}\n",
        "  finviz_stats = finviz.get_stock(stock['Ticker'])\n",
        "  try:\n",
        "      yahoo_df = pdr.get_data_yahoo(stock['Ticker'], interval = \"d\")\n",
        "  except:\n",
        "    continue\n",
        "\n",
        "  SMA200_value = moving_average(yahoo_df, days=200)\n",
        "  SMA150_value = moving_average(yahoo_df, days=150)\n",
        "  SMA50_value = moving_average(yahoo_df, days=50)\n",
        "  SMA200_percent = float(finviz_stats['SMA200'].replace(\"%\",\"\"))\n",
        "  SMA50_percent = float(finviz_stats['SMA50'].replace(\"%\",\"\"))\n",
        "  volume = float(finviz_stats['Volume'].replace(\",\",\"\"))\n",
        "\n",
        "  try:\n",
        "    EPS_ttm = float(finviz_stats['EPS (ttm)'])\n",
        "  except:\n",
        "    EPS_ttm = 0\n",
        "\n",
        "  try:\n",
        "    EPS_QoQ_percent = float(finviz_stats['EPS Q/Q'].replace(\"%\",\"\"))\n",
        "  except:\n",
        "    EPS_QoQ_percent = 0\n",
        "\n",
        "  try:\n",
        "    Sales_QoQ_percent = float(finviz_stats['Sales Q/Q'].replace(\"%\",\"\"))\n",
        "  except:\n",
        "    Sales_QoQ_percent = 0\n",
        "\n",
        "  try:\n",
        "    inst_own = float(finviz_stats['Inst Own'].replace(\"%\",\"\"))\n",
        "  except:\n",
        "    inst_own = 0\n",
        "  \n",
        "  shares_outstanding = finviz_stats['Shs Outstand']\n",
        "  if 'M' in shares_outstanding:\n",
        "    shares_outstanding = float(shares_outstanding.replace(\"M\", \"\"))*1e6\n",
        "  elif 'B' in shares_outstanding:\n",
        "    shares_outstanding = float(shares_outstanding.replace(\"B\", \"\"))*1e9\n",
        "  elif 'T' in shares_outstanding:\n",
        "    shares_outstanding = float(shares_outstanding.replace(\"T\", \"\"))*1e12\n",
        "  else:\n",
        "    shares_outstanding = 0\n",
        "\n",
        "  prev_close = float(finviz_stats['Prev Close'].replace(\"$\",\"\"))\n",
        "  week52_high, week52_low = week52_low_high(yahoo_df)\n",
        "  \n",
        "  screened_stocks[stock['Ticker']]['SMA200_value'] = SMA200_value\n",
        "  screened_stocks[stock['Ticker']]['SMA150_value'] = SMA150_value\n",
        "  screened_stocks[stock['Ticker']]['SMA50_value'] = SMA50_value\n",
        "  screened_stocks[stock['Ticker']]['SMA200_percent'] = SMA200_percent\n",
        "  screened_stocks[stock['Ticker']]['SMA50_percent'] = SMA50_percent\n",
        "  screened_stocks[stock['Ticker']]['EPS_QoQ_percent'] = EPS_QoQ_percent\n",
        "  screened_stocks[stock['Ticker']]['EPS_ttm'] = EPS_ttm\n",
        "  screened_stocks[stock['Ticker']]['Sales_QoQ_percent'] = Sales_QoQ_percent\n",
        "  screened_stocks[stock['Ticker']]['prev_close'] = prev_close\n",
        "  screened_stocks[stock['Ticker']]['week52_high'] = week52_high\n",
        "  screened_stocks[stock['Ticker']]['week52_low'] = week52_low\n",
        "  screened_stocks[stock['Ticker']]['Inst. Ownership'] = inst_own\n",
        "  screened_stocks[stock['Ticker']]['Shares Outstanding'] = shares_outstanding\n",
        "  screened_stocks[stock['Ticker']]['volume'] = volume\n",
        "\n",
        "  # volume*price > $15mm rule\n",
        "  if volume*prev_close > 15000000:\n",
        "    vol_price_rule = True\n",
        "  else:\n",
        "    vol_price_rule = False\n",
        "  screened_stocks[stock['Ticker']]['vol_price_rule'] = vol_price_rule\n",
        "\n",
        "  # EPS TTM > $1 Rule\n",
        "  if EPS_ttm >= 1.0:\n",
        "    eps_ttm_rule = True\n",
        "  else:\n",
        "    eps_ttm_rule = False\n",
        "  screened_stocks[stock['Ticker']]['eps_ttm_rule'] = eps_ttm_rule\n",
        "\n",
        "  # EPS QoQ Yearly > 18% rule\n",
        "  if EPS_QoQ_percent >= 18:\n",
        "    eps_QoQ_yearly_rule = True\n",
        "  else:\n",
        "    eps_QoQ_yearly_rule = False\n",
        "  screened_stocks[stock['Ticker']]['eps_QoQ_yearly_rule'] = eps_QoQ_yearly_rule\n",
        "\n",
        "  # Sales QoQ Yearly > 25% rule\n",
        "  if Sales_QoQ_percent >= 25:\n",
        "    sales_QoQ_yearly_rule = True\n",
        "  else:\n",
        "    sales_QoQ_yearly_rule = False\n",
        "  screened_stocks[stock['Ticker']]['sales_QoQ_yearly_rule'] = sales_QoQ_yearly_rule\n",
        "\n",
        "  # Shares Outstanding <= 25 mil\n",
        "  if shares_outstanding <= 25e6:\n",
        "    shares_outstanding_rule = True\n",
        "  else:\n",
        "    shares_outstanding_rule = False\n",
        "  screened_stocks[stock['Ticker']]['shares_outstanding_rule'] = shares_outstanding_rule\n",
        "\n",
        "  # Institutional Ownership < 35%\n",
        "  if 0.05 <= inst_own <= 35:\n",
        "    inst_ownership_rule = True\n",
        "  else:\n",
        "    inst_ownership_rule = False\n",
        "  screened_stocks[stock['Ticker']]['inst_ownership_rule'] = inst_ownership_rule\n",
        "\n",
        "  # Positive 200d MA positive\n",
        "  SMA200_slope_rule = SMA200_slope_positive_rule(yahoo_df, days=21)\n",
        "  screened_stocks[stock['Ticker']]['SMA200_slope_rule'] = SMA200_slope_rule\n",
        "      \n",
        "  # 150d MA greater than 200d MA\n",
        "  if SMA150_value > SMA200_value:\n",
        "      SMA150_greater_SMA200_rule = True\n",
        "  else:\n",
        "      SMA150_greater_SMA200_rule = False\n",
        "  screened_stocks[stock['Ticker']]['SMA150_greater_SMA200_rule'] = SMA150_greater_SMA200_rule\n",
        "      \n",
        "  # 50d MA greater than 150d MA\n",
        "  if SMA50_value > SMA150_value:\n",
        "      SMA50_greater_SMA150_rule = True\n",
        "  else:\n",
        "      SMA50_greater_SMA150_rule = False\n",
        "  screened_stocks[stock['Ticker']]['SMA50_greater_SMA150_rule'] = SMA50_greater_SMA150_rule\n",
        "      \n",
        "  # Close above 50d MA\n",
        "  if prev_close > SMA50_value:\n",
        "      close_greater_SMA50_rule = True\n",
        "  else:\n",
        "      close_greater_SMA50_rule = False\n",
        "  screened_stocks[stock['Ticker']]['close_greater_SMA50_rule'] = close_greater_SMA50_rule\n",
        "      \n",
        "  # 52 week high low span rule\n",
        "  if 0.75*week52_high > 1.25*week52_low:\n",
        "      week52_span_rule = True\n",
        "  else:\n",
        "      week52_span_rule = False\n",
        "  screened_stocks[stock['Ticker']]['week52_span_rule'] = week52_span_rule\n",
        "  \n",
        "  # Close above 52 week high - 25%\n",
        "  if prev_close > 0.75*week52_high:\n",
        "      close_above_52weekhigh_rule = True\n",
        "  else:\n",
        "      close_above_52weekhigh_rule = False\n",
        "  screened_stocks[stock['Ticker']]['close_above_52weekhigh_rule'] = close_above_52weekhigh_rule\n",
        "\n",
        "output_list = []\n",
        "for stock in screened_stocks.keys():\n",
        "    cols = [\"Ticker\"] + list(screened_stocks[stock].keys())\n",
        "    temp_list = []\n",
        "    temp_list.append(stock)\n",
        "    for rule in screened_stocks[stock].keys():\n",
        "        temp_list.append(screened_stocks[stock][rule])\n",
        "    output_list.append(temp_list)\n",
        "        \n",
        "df_out = pd.DataFrame(output_list,columns=cols)\n",
        "\n",
        "    \n"
      ],
      "execution_count": 5,
      "outputs": [
        {
          "output_type": "stream",
          "text": [
            "\r  0%|          | 0/367 [00:00<?, ?it/s]"
          ],
          "name": "stderr"
        },
        {
          "output_type": "stream",
          "text": [
            "ISR\n"
          ],
          "name": "stdout"
        },
        {
          "output_type": "stream",
          "text": [
            "\r  0%|          | 1/367 [00:03<20:55,  3.43s/it]"
          ],
          "name": "stderr"
        },
        {
          "output_type": "stream",
          "text": [
            "SMA200_slope_rule:  True\n",
            "COCP\n"
          ],
          "name": "stdout"
        },
        {
          "output_type": "stream",
          "text": [
            "\r  1%|          | 2/367 [00:06<19:42,  3.24s/it]"
          ],
          "name": "stderr"
        },
        {
          "output_type": "stream",
          "text": [
            "SMA200_slope_rule:  False\n",
            "CHNR\n"
          ],
          "name": "stdout"
        },
        {
          "output_type": "stream",
          "text": [
            "\r  1%|          | 3/367 [00:09<19:24,  3.20s/it]"
          ],
          "name": "stderr"
        },
        {
          "output_type": "stream",
          "text": [
            "SMA200_slope_rule:  True\n",
            "NBRV\n"
          ],
          "name": "stdout"
        },
        {
          "output_type": "stream",
          "text": [
            "\r  1%|          | 4/367 [00:12<19:34,  3.23s/it]"
          ],
          "name": "stderr"
        },
        {
          "output_type": "stream",
          "text": [
            "SMA200_slope_rule:  False\n",
            "PRPO\n"
          ],
          "name": "stdout"
        },
        {
          "output_type": "stream",
          "text": [
            "\r  1%|▏         | 5/367 [00:15<19:20,  3.21s/it]"
          ],
          "name": "stderr"
        },
        {
          "output_type": "stream",
          "text": [
            "SMA200_slope_rule:  False\n",
            "VTVT\n"
          ],
          "name": "stdout"
        },
        {
          "output_type": "stream",
          "text": [
            "\r  2%|▏         | 6/367 [00:19<19:25,  3.23s/it]"
          ],
          "name": "stderr"
        },
        {
          "output_type": "stream",
          "text": [
            "SMA200_slope_rule:  False\n",
            "XIN\n"
          ],
          "name": "stdout"
        },
        {
          "output_type": "stream",
          "text": [
            "\r  2%|▏         | 7/367 [00:22<19:49,  3.30s/it]"
          ],
          "name": "stderr"
        },
        {
          "output_type": "stream",
          "text": [
            "SMA200_slope_rule:  True\n",
            "HGBL\n"
          ],
          "name": "stdout"
        },
        {
          "output_type": "stream",
          "text": [
            "\r  2%|▏         | 8/367 [00:25<19:37,  3.28s/it]"
          ],
          "name": "stderr"
        },
        {
          "output_type": "stream",
          "text": [
            "SMA200_slope_rule:  False\n",
            "IAG\n"
          ],
          "name": "stdout"
        },
        {
          "output_type": "stream",
          "text": [
            "\r  2%|▏         | 9/367 [00:28<18:19,  3.07s/it]"
          ],
          "name": "stderr"
        },
        {
          "output_type": "stream",
          "text": [
            "SMA200_slope_rule:  False\n",
            "CKPT\n"
          ],
          "name": "stdout"
        },
        {
          "output_type": "stream",
          "text": [
            "\r  3%|▎         | 10/367 [00:31<18:40,  3.14s/it]"
          ],
          "name": "stderr"
        },
        {
          "output_type": "stream",
          "text": [
            "SMA200_slope_rule:  True\n",
            "DPW\n"
          ],
          "name": "stdout"
        },
        {
          "output_type": "stream",
          "text": [
            "\r  3%|▎         | 11/367 [00:34<18:53,  3.19s/it]"
          ],
          "name": "stderr"
        },
        {
          "output_type": "stream",
          "text": [
            "SMA200_slope_rule:  False\n",
            "CNFR\n"
          ],
          "name": "stdout"
        },
        {
          "output_type": "stream",
          "text": [
            "\r  3%|▎         | 12/367 [00:38<19:23,  3.28s/it]"
          ],
          "name": "stderr"
        },
        {
          "output_type": "stream",
          "text": [
            "SMA200_slope_rule:  False\n",
            "QTNT\n"
          ],
          "name": "stdout"
        },
        {
          "output_type": "stream",
          "text": [
            "\r  4%|▎         | 13/367 [00:41<19:16,  3.27s/it]"
          ],
          "name": "stderr"
        },
        {
          "output_type": "stream",
          "text": [
            "SMA200_slope_rule:  False\n",
            "MOSY\n"
          ],
          "name": "stdout"
        },
        {
          "output_type": "stream",
          "text": [
            "\r  4%|▍         | 14/367 [00:44<17:59,  3.06s/it]"
          ],
          "name": "stderr"
        },
        {
          "output_type": "stream",
          "text": [
            "SMA200_slope_rule:  True\n",
            "ATRS\n"
          ],
          "name": "stdout"
        },
        {
          "output_type": "stream",
          "text": [
            "\r  4%|▍         | 15/367 [00:47<18:44,  3.19s/it]"
          ],
          "name": "stderr"
        },
        {
          "output_type": "stream",
          "text": [
            "SMA200_slope_rule:  True\n",
            "VRAY\n"
          ],
          "name": "stdout"
        },
        {
          "output_type": "stream",
          "text": [
            "\r  4%|▍         | 16/367 [00:50<18:38,  3.19s/it]"
          ],
          "name": "stderr"
        },
        {
          "output_type": "stream",
          "text": [
            "SMA200_slope_rule:  True\n",
            "HMY\n"
          ],
          "name": "stdout"
        },
        {
          "output_type": "stream",
          "text": [
            "\r  5%|▍         | 17/367 [00:53<18:20,  3.14s/it]"
          ],
          "name": "stderr"
        },
        {
          "output_type": "stream",
          "text": [
            "SMA200_slope_rule:  False\n",
            "SELB\n"
          ],
          "name": "stdout"
        },
        {
          "output_type": "stream",
          "text": [
            "\r  5%|▍         | 18/367 [00:57<18:53,  3.25s/it]"
          ],
          "name": "stderr"
        },
        {
          "output_type": "stream",
          "text": [
            "SMA200_slope_rule:  True\n",
            "CVU\n"
          ],
          "name": "stdout"
        },
        {
          "output_type": "stream",
          "text": [
            "\r  5%|▌         | 19/367 [01:01<19:21,  3.34s/it]"
          ],
          "name": "stderr"
        },
        {
          "output_type": "stream",
          "text": [
            "SMA200_slope_rule:  False\n",
            "OPK\n"
          ],
          "name": "stdout"
        },
        {
          "output_type": "stream",
          "text": [
            "\r  5%|▌         | 20/367 [01:04<19:05,  3.30s/it]"
          ],
          "name": "stderr"
        },
        {
          "output_type": "stream",
          "text": [
            "SMA200_slope_rule:  False\n",
            "LJPC\n"
          ],
          "name": "stdout"
        },
        {
          "output_type": "stream",
          "text": [
            "\r  6%|▌         | 21/367 [01:07<19:22,  3.36s/it]"
          ],
          "name": "stderr"
        },
        {
          "output_type": "stream",
          "text": [
            "SMA200_slope_rule:  True\n",
            "TKC\n"
          ],
          "name": "stdout"
        },
        {
          "output_type": "stream",
          "text": [
            "\r  6%|▌         | 22/367 [01:11<19:18,  3.36s/it]"
          ],
          "name": "stderr"
        },
        {
          "output_type": "stream",
          "text": [
            "SMA200_slope_rule:  False\n",
            "ADMS\n"
          ],
          "name": "stdout"
        },
        {
          "output_type": "stream",
          "text": [
            "\r  6%|▋         | 23/367 [01:14<19:21,  3.38s/it]"
          ],
          "name": "stderr"
        },
        {
          "output_type": "stream",
          "text": [
            "SMA200_slope_rule:  False\n",
            "DLPN\n"
          ],
          "name": "stdout"
        },
        {
          "output_type": "stream",
          "text": [
            "\r  7%|▋         | 24/367 [01:17<18:54,  3.31s/it]"
          ],
          "name": "stderr"
        },
        {
          "output_type": "stream",
          "text": [
            "SMA200_slope_rule:  False\n",
            "CERS\n"
          ],
          "name": "stdout"
        },
        {
          "output_type": "stream",
          "text": [
            "\r  7%|▋         | 25/367 [01:20<18:42,  3.28s/it]"
          ],
          "name": "stderr"
        },
        {
          "output_type": "stream",
          "text": [
            "SMA200_slope_rule:  False\n",
            "SID\n"
          ],
          "name": "stdout"
        },
        {
          "output_type": "stream",
          "text": [
            "\r  7%|▋         | 26/367 [01:24<19:15,  3.39s/it]"
          ],
          "name": "stderr"
        },
        {
          "output_type": "stream",
          "text": [
            "SMA200_slope_rule:  True\n",
            "MEDS\n"
          ],
          "name": "stdout"
        },
        {
          "output_type": "stream",
          "text": [
            "\r  7%|▋         | 27/367 [01:27<19:08,  3.38s/it]"
          ],
          "name": "stderr"
        },
        {
          "output_type": "stream",
          "text": [
            "SMA200_slope_rule:  False\n",
            "CXDO\n"
          ],
          "name": "stdout"
        },
        {
          "output_type": "stream",
          "text": [
            "\r  8%|▊         | 28/367 [01:30<18:26,  3.26s/it]"
          ],
          "name": "stderr"
        },
        {
          "output_type": "stream",
          "text": [
            "SMA200_slope_rule:  False\n",
            "SIGA\n"
          ],
          "name": "stdout"
        },
        {
          "output_type": "stream",
          "text": [
            "\r  8%|▊         | 29/367 [01:35<20:10,  3.58s/it]"
          ],
          "name": "stderr"
        },
        {
          "output_type": "stream",
          "text": [
            "SMA200_slope_rule:  False\n",
            "KGC\n"
          ],
          "name": "stdout"
        },
        {
          "output_type": "stream",
          "text": [
            "\r  8%|▊         | 30/367 [01:38<19:40,  3.50s/it]"
          ],
          "name": "stderr"
        },
        {
          "output_type": "stream",
          "text": [
            "SMA200_slope_rule:  False\n",
            "SNOA\n"
          ],
          "name": "stdout"
        },
        {
          "output_type": "stream",
          "text": [
            "\r  8%|▊         | 31/367 [01:41<18:53,  3.37s/it]"
          ],
          "name": "stderr"
        },
        {
          "output_type": "stream",
          "text": [
            "SMA200_slope_rule:  False\n",
            "LEAF\n"
          ],
          "name": "stdout"
        },
        {
          "output_type": "stream",
          "text": [
            "\r  9%|▊         | 32/367 [01:43<17:00,  3.05s/it]"
          ],
          "name": "stderr"
        },
        {
          "output_type": "stream",
          "text": [
            "SMA200_slope_rule:  False\n",
            "OESX\n"
          ],
          "name": "stdout"
        },
        {
          "output_type": "stream",
          "text": [
            "\r  9%|▉         | 33/367 [01:47<18:01,  3.24s/it]"
          ],
          "name": "stderr"
        },
        {
          "output_type": "stream",
          "text": [
            "SMA200_slope_rule:  False\n",
            "OIIM\n"
          ],
          "name": "stdout"
        },
        {
          "output_type": "stream",
          "text": [
            "\r  9%|▉         | 34/367 [01:50<17:54,  3.23s/it]"
          ],
          "name": "stderr"
        },
        {
          "output_type": "stream",
          "text": [
            "SMA200_slope_rule:  True\n",
            "CTMX\n"
          ],
          "name": "stdout"
        },
        {
          "output_type": "stream",
          "text": [
            "\r 10%|▉         | 35/367 [01:53<17:11,  3.11s/it]"
          ],
          "name": "stderr"
        },
        {
          "output_type": "stream",
          "text": [
            "SMA200_slope_rule:  False\n",
            "IMGN\n"
          ],
          "name": "stdout"
        },
        {
          "output_type": "stream",
          "text": [
            "\r 10%|▉         | 36/367 [01:56<16:40,  3.02s/it]"
          ],
          "name": "stderr"
        },
        {
          "output_type": "stream",
          "text": [
            "SMA200_slope_rule:  True\n",
            "RBBN\n"
          ],
          "name": "stdout"
        },
        {
          "output_type": "stream",
          "text": [
            "\r 10%|█         | 37/367 [01:59<17:24,  3.17s/it]"
          ],
          "name": "stderr"
        },
        {
          "output_type": "stream",
          "text": [
            "SMA200_slope_rule:  True\n",
            "CTSO\n"
          ],
          "name": "stdout"
        },
        {
          "output_type": "stream",
          "text": [
            "\r 10%|█         | 38/367 [02:03<17:44,  3.24s/it]"
          ],
          "name": "stderr"
        },
        {
          "output_type": "stream",
          "text": [
            "SMA200_slope_rule:  False\n",
            "GLRE\n"
          ],
          "name": "stdout"
        },
        {
          "output_type": "stream",
          "text": [
            "\r 11%|█         | 39/367 [02:06<18:02,  3.30s/it]"
          ],
          "name": "stderr"
        },
        {
          "output_type": "stream",
          "text": [
            "SMA200_slope_rule:  True\n",
            "DRD\n"
          ],
          "name": "stdout"
        },
        {
          "output_type": "stream",
          "text": [
            "\r 11%|█         | 40/367 [02:10<18:22,  3.37s/it]"
          ],
          "name": "stderr"
        },
        {
          "output_type": "stream",
          "text": [
            "SMA200_slope_rule:  False\n",
            "CDE\n"
          ],
          "name": "stdout"
        },
        {
          "output_type": "stream",
          "text": [
            "\r 11%|█         | 41/367 [02:13<18:52,  3.47s/it]"
          ],
          "name": "stderr"
        },
        {
          "output_type": "stream",
          "text": [
            "SMA200_slope_rule:  False\n",
            "DVAX\n"
          ],
          "name": "stdout"
        },
        {
          "output_type": "stream",
          "text": [
            "\r 11%|█▏        | 42/367 [02:16<17:01,  3.14s/it]"
          ],
          "name": "stderr"
        },
        {
          "output_type": "stream",
          "text": [
            "SMA200_slope_rule:  False\n",
            "LFC\n"
          ],
          "name": "stdout"
        },
        {
          "output_type": "stream",
          "text": [
            "\r 12%|█▏        | 43/367 [02:19<17:13,  3.19s/it]"
          ],
          "name": "stderr"
        },
        {
          "output_type": "stream",
          "text": [
            "SMA200_slope_rule:  False\n",
            "APT\n"
          ],
          "name": "stdout"
        },
        {
          "output_type": "stream",
          "text": [
            "\r 12%|█▏        | 44/367 [02:23<17:27,  3.24s/it]"
          ],
          "name": "stderr"
        },
        {
          "output_type": "stream",
          "text": [
            "SMA200_slope_rule:  False\n",
            "WYY\n"
          ],
          "name": "stdout"
        },
        {
          "output_type": "stream",
          "text": [
            "\r 12%|█▏        | 45/367 [02:26<17:45,  3.31s/it]"
          ],
          "name": "stderr"
        },
        {
          "output_type": "stream",
          "text": [
            "SMA200_slope_rule:  True\n",
            "FPI\n"
          ],
          "name": "stdout"
        },
        {
          "output_type": "stream",
          "text": [
            "\r 13%|█▎        | 46/367 [02:30<18:38,  3.48s/it]"
          ],
          "name": "stderr"
        },
        {
          "output_type": "stream",
          "text": [
            "SMA200_slope_rule:  True\n",
            "FRBA\n"
          ],
          "name": "stdout"
        },
        {
          "output_type": "stream",
          "text": [
            "\r 13%|█▎        | 47/367 [02:34<18:57,  3.55s/it]"
          ],
          "name": "stderr"
        },
        {
          "output_type": "stream",
          "text": [
            "SMA200_slope_rule:  True\n",
            "INVA\n"
          ],
          "name": "stdout"
        },
        {
          "output_type": "stream",
          "text": [
            "\r 13%|█▎        | 48/367 [02:37<18:07,  3.41s/it]"
          ],
          "name": "stderr"
        },
        {
          "output_type": "stream",
          "text": [
            "SMA200_slope_rule:  False\n",
            "GLUU\n"
          ],
          "name": "stdout"
        },
        {
          "output_type": "stream",
          "text": [
            "\r 13%|█▎        | 49/367 [02:40<17:16,  3.26s/it]"
          ],
          "name": "stderr"
        },
        {
          "output_type": "stream",
          "text": [
            "SMA200_slope_rule:  False\n",
            "CSBR\n"
          ],
          "name": "stdout"
        },
        {
          "output_type": "stream",
          "text": [
            "\r 14%|█▎        | 50/367 [02:43<17:11,  3.25s/it]"
          ],
          "name": "stderr"
        },
        {
          "output_type": "stream",
          "text": [
            "SMA200_slope_rule:  False\n",
            "QRTEA\n"
          ],
          "name": "stdout"
        },
        {
          "output_type": "stream",
          "text": [
            "\r 14%|█▍        | 51/367 [02:46<17:14,  3.27s/it]"
          ],
          "name": "stderr"
        },
        {
          "output_type": "stream",
          "text": [
            "SMA200_slope_rule:  False\n",
            "IEC\n"
          ],
          "name": "stdout"
        },
        {
          "output_type": "stream",
          "text": [
            "\r 14%|█▍        | 52/367 [02:50<17:33,  3.35s/it]"
          ],
          "name": "stderr"
        },
        {
          "output_type": "stream",
          "text": [
            "SMA200_slope_rule:  True\n",
            "HIMX\n"
          ],
          "name": "stdout"
        },
        {
          "output_type": "stream",
          "text": [
            "\r 14%|█▍        | 53/367 [02:53<17:55,  3.42s/it]"
          ],
          "name": "stderr"
        },
        {
          "output_type": "stream",
          "text": [
            "SMA200_slope_rule:  True\n",
            "GAIA\n"
          ],
          "name": "stdout"
        },
        {
          "output_type": "stream",
          "text": [
            "\r 15%|█▍        | 54/367 [02:57<17:56,  3.44s/it]"
          ],
          "name": "stderr"
        },
        {
          "output_type": "stream",
          "text": [
            "SMA200_slope_rule:  False\n",
            "SSSS\n"
          ],
          "name": "stdout"
        },
        {
          "output_type": "stream",
          "text": [
            "\r 15%|█▍        | 55/367 [03:00<17:36,  3.39s/it]"
          ],
          "name": "stderr"
        },
        {
          "output_type": "stream",
          "text": [
            "SMA200_slope_rule:  False\n",
            "SMED\n"
          ],
          "name": "stdout"
        },
        {
          "output_type": "stream",
          "text": [
            "\r 15%|█▌        | 56/367 [03:03<16:32,  3.19s/it]"
          ],
          "name": "stderr"
        },
        {
          "output_type": "stream",
          "text": [
            "SMA200_slope_rule:  True\n",
            "MYO\n"
          ],
          "name": "stdout"
        },
        {
          "output_type": "stream",
          "text": [
            "\r 16%|█▌        | 57/367 [03:06<16:41,  3.23s/it]"
          ],
          "name": "stderr"
        },
        {
          "output_type": "stream",
          "text": [
            "SMA200_slope_rule:  True\n",
            "ATCO\n"
          ],
          "name": "stdout"
        },
        {
          "output_type": "stream",
          "text": [
            "\r 16%|█▌        | 58/367 [03:10<17:30,  3.40s/it]"
          ],
          "name": "stderr"
        },
        {
          "output_type": "stream",
          "text": [
            "SMA200_slope_rule:  True\n",
            "VLRS\n"
          ],
          "name": "stdout"
        },
        {
          "output_type": "stream",
          "text": [
            "\r 16%|█▌        | 59/367 [03:12<16:03,  3.13s/it]"
          ],
          "name": "stderr"
        },
        {
          "output_type": "stream",
          "text": [
            "SMA200_slope_rule:  True\n",
            "SSRM\n"
          ],
          "name": "stdout"
        },
        {
          "output_type": "stream",
          "text": [
            "\r 16%|█▋        | 60/367 [03:16<16:20,  3.19s/it]"
          ],
          "name": "stderr"
        },
        {
          "output_type": "stream",
          "text": [
            "SMA200_slope_rule:  False\n",
            "AMRB\n"
          ],
          "name": "stdout"
        },
        {
          "output_type": "stream",
          "text": [
            "\r 17%|█▋        | 61/367 [03:20<17:14,  3.38s/it]"
          ],
          "name": "stderr"
        },
        {
          "output_type": "stream",
          "text": [
            "SMA200_slope_rule:  True\n",
            "WKHS\n"
          ],
          "name": "stdout"
        },
        {
          "output_type": "stream",
          "text": [
            "\r 17%|█▋        | 62/367 [03:23<17:22,  3.42s/it]"
          ],
          "name": "stderr"
        },
        {
          "output_type": "stream",
          "text": [
            "SMA200_slope_rule:  False\n",
            "FMNB\n"
          ],
          "name": "stdout"
        },
        {
          "output_type": "stream",
          "text": [
            "\r 17%|█▋        | 63/367 [03:26<16:41,  3.30s/it]"
          ],
          "name": "stderr"
        },
        {
          "output_type": "stream",
          "text": [
            "SMA200_slope_rule:  True\n",
            "MGIC\n"
          ],
          "name": "stdout"
        },
        {
          "output_type": "stream",
          "text": [
            "\r 17%|█▋        | 64/367 [03:29<16:32,  3.28s/it]"
          ],
          "name": "stderr"
        },
        {
          "output_type": "stream",
          "text": [
            "SMA200_slope_rule:  False\n",
            "PLYM\n"
          ],
          "name": "stdout"
        },
        {
          "output_type": "stream",
          "text": [
            "\r 18%|█▊        | 65/367 [03:33<16:33,  3.29s/it]"
          ],
          "name": "stderr"
        },
        {
          "output_type": "stream",
          "text": [
            "SMA200_slope_rule:  False\n",
            "VALE\n"
          ],
          "name": "stdout"
        },
        {
          "output_type": "stream",
          "text": [
            "\r 18%|█▊        | 66/367 [03:36<17:10,  3.43s/it]"
          ],
          "name": "stderr"
        },
        {
          "output_type": "stream",
          "text": [
            "SMA200_slope_rule:  True\n",
            "FHN\n"
          ],
          "name": "stdout"
        },
        {
          "output_type": "stream",
          "text": [
            "\r 18%|█▊        | 67/367 [03:39<16:07,  3.23s/it]"
          ],
          "name": "stderr"
        },
        {
          "output_type": "stream",
          "text": [
            "SMA200_slope_rule:  True\n",
            "FNWB\n"
          ],
          "name": "stdout"
        },
        {
          "output_type": "stream",
          "text": [
            "\r 19%|█▊        | 68/367 [03:42<15:17,  3.07s/it]"
          ],
          "name": "stderr"
        },
        {
          "output_type": "stream",
          "text": [
            "SMA200_slope_rule:  True\n",
            "NLS\n"
          ],
          "name": "stdout"
        },
        {
          "output_type": "stream",
          "text": [
            "\r 19%|█▉        | 69/367 [03:44<14:40,  2.95s/it]"
          ],
          "name": "stderr"
        },
        {
          "output_type": "stream",
          "text": [
            "SMA200_slope_rule:  False\n",
            "ERII\n"
          ],
          "name": "stdout"
        },
        {
          "output_type": "stream",
          "text": [
            "\r 19%|█▉        | 70/367 [03:47<13:36,  2.75s/it]"
          ],
          "name": "stderr"
        },
        {
          "output_type": "stream",
          "text": [
            "SMA200_slope_rule:  True\n",
            "ACI\n"
          ],
          "name": "stdout"
        },
        {
          "output_type": "stream",
          "text": [
            "\r 19%|█▉        | 71/367 [03:50<14:12,  2.88s/it]"
          ],
          "name": "stderr"
        },
        {
          "output_type": "stream",
          "text": [
            "SMA200_slope_rule:  False\n",
            "FCCY\n"
          ],
          "name": "stdout"
        },
        {
          "output_type": "stream",
          "text": [
            "\r 20%|█▉        | 72/367 [03:54<15:13,  3.10s/it]"
          ],
          "name": "stderr"
        },
        {
          "output_type": "stream",
          "text": [
            "SMA200_slope_rule:  True\n",
            "OVLY\n"
          ],
          "name": "stdout"
        },
        {
          "output_type": "stream",
          "text": [
            "\r 20%|█▉        | 73/367 [03:57<16:06,  3.29s/it]"
          ],
          "name": "stderr"
        },
        {
          "output_type": "stream",
          "text": [
            "SMA200_slope_rule:  True\n",
            "INFY\n"
          ],
          "name": "stdout"
        },
        {
          "output_type": "stream",
          "text": [
            "\r 20%|██        | 74/367 [04:01<16:34,  3.39s/it]"
          ],
          "name": "stderr"
        },
        {
          "output_type": "stream",
          "text": [
            "SMA200_slope_rule:  True\n",
            "OPCH\n"
          ],
          "name": "stdout"
        },
        {
          "output_type": "stream",
          "text": [
            "\r 20%|██        | 75/367 [04:04<16:23,  3.37s/it]"
          ],
          "name": "stderr"
        },
        {
          "output_type": "stream",
          "text": [
            "SMA200_slope_rule:  True\n",
            "XENE\n"
          ],
          "name": "stdout"
        },
        {
          "output_type": "stream",
          "text": [
            "\r 21%|██        | 76/367 [04:07<15:25,  3.18s/it]"
          ],
          "name": "stderr"
        },
        {
          "output_type": "stream",
          "text": [
            "SMA200_slope_rule:  False\n",
            "NODK\n"
          ],
          "name": "stdout"
        },
        {
          "output_type": "stream",
          "text": [
            "\r 21%|██        | 77/367 [04:10<15:41,  3.25s/it]"
          ],
          "name": "stderr"
        },
        {
          "output_type": "stream",
          "text": [
            "SMA200_slope_rule:  True\n",
            "GOOD\n"
          ],
          "name": "stdout"
        },
        {
          "output_type": "stream",
          "text": [
            "\r 21%|██▏       | 78/367 [04:14<16:04,  3.34s/it]"
          ],
          "name": "stderr"
        },
        {
          "output_type": "stream",
          "text": [
            "SMA200_slope_rule:  False\n",
            "CARA\n"
          ],
          "name": "stdout"
        },
        {
          "output_type": "stream",
          "text": [
            "\r 22%|██▏       | 79/367 [04:17<16:02,  3.34s/it]"
          ],
          "name": "stderr"
        },
        {
          "output_type": "stream",
          "text": [
            "SMA200_slope_rule:  False\n",
            "FEYE\n"
          ],
          "name": "stdout"
        },
        {
          "output_type": "stream",
          "text": [
            "\r 22%|██▏       | 80/367 [04:21<16:25,  3.43s/it]"
          ],
          "name": "stderr"
        },
        {
          "output_type": "stream",
          "text": [
            "SMA200_slope_rule:  True\n",
            "DRIO\n"
          ],
          "name": "stdout"
        },
        {
          "output_type": "stream",
          "text": [
            "\r 22%|██▏       | 81/367 [04:25<16:42,  3.50s/it]"
          ],
          "name": "stderr"
        },
        {
          "output_type": "stream",
          "text": [
            "SMA200_slope_rule:  False\n",
            "GTN\n"
          ],
          "name": "stdout"
        },
        {
          "output_type": "stream",
          "text": [
            "\r 22%|██▏       | 82/367 [04:27<15:45,  3.32s/it]"
          ],
          "name": "stderr"
        },
        {
          "output_type": "stream",
          "text": [
            "SMA200_slope_rule:  True\n",
            "CFBK\n"
          ],
          "name": "stdout"
        },
        {
          "output_type": "stream",
          "text": [
            "\r 23%|██▎       | 83/367 [04:32<17:02,  3.60s/it]"
          ],
          "name": "stderr"
        },
        {
          "output_type": "stream",
          "text": [
            "SMA200_slope_rule:  True\n",
            "CBNK\n"
          ],
          "name": "stdout"
        },
        {
          "output_type": "stream",
          "text": [
            "\r 23%|██▎       | 84/367 [04:35<16:38,  3.53s/it]"
          ],
          "name": "stderr"
        },
        {
          "output_type": "stream",
          "text": [
            "SMA200_slope_rule:  True\n",
            "GSBD\n"
          ],
          "name": "stdout"
        },
        {
          "output_type": "stream",
          "text": [
            "\r 23%|██▎       | 85/367 [04:39<16:50,  3.58s/it]"
          ],
          "name": "stderr"
        },
        {
          "output_type": "stream",
          "text": [
            "SMA200_slope_rule:  True\n",
            "TGNA\n"
          ],
          "name": "stdout"
        },
        {
          "output_type": "stream",
          "text": [
            "\r 23%|██▎       | 86/367 [04:42<16:16,  3.47s/it]"
          ],
          "name": "stderr"
        },
        {
          "output_type": "stream",
          "text": [
            "SMA200_slope_rule:  True\n",
            "HMNF\n"
          ],
          "name": "stdout"
        },
        {
          "output_type": "stream",
          "text": [
            "\r 24%|██▎       | 87/367 [04:45<15:54,  3.41s/it]"
          ],
          "name": "stderr"
        },
        {
          "output_type": "stream",
          "text": [
            "SMA200_slope_rule:  True\n",
            "AMRS\n"
          ],
          "name": "stdout"
        },
        {
          "output_type": "stream",
          "text": [
            "\r 24%|██▍       | 88/367 [04:48<15:31,  3.34s/it]"
          ],
          "name": "stderr"
        },
        {
          "output_type": "stream",
          "text": [
            "SMA200_slope_rule:  True\n",
            "DEA\n"
          ],
          "name": "stdout"
        },
        {
          "output_type": "stream",
          "text": [
            "\r 24%|██▍       | 89/367 [04:52<16:05,  3.47s/it]"
          ],
          "name": "stderr"
        },
        {
          "output_type": "stream",
          "text": [
            "SMA200_slope_rule:  False\n",
            "MFC\n"
          ],
          "name": "stdout"
        },
        {
          "output_type": "stream",
          "text": [
            "\r 25%|██▍       | 90/367 [04:56<16:35,  3.59s/it]"
          ],
          "name": "stderr"
        },
        {
          "output_type": "stream",
          "text": [
            "SMA200_slope_rule:  True\n",
            "BCOV\n"
          ],
          "name": "stdout"
        },
        {
          "output_type": "stream",
          "text": [
            "\r 25%|██▍       | 91/367 [04:59<16:07,  3.50s/it]"
          ],
          "name": "stderr"
        },
        {
          "output_type": "stream",
          "text": [
            "SMA200_slope_rule:  True\n",
            "ORRF\n"
          ],
          "name": "stdout"
        },
        {
          "output_type": "stream",
          "text": [
            "\r 25%|██▌       | 92/367 [05:03<16:20,  3.57s/it]"
          ],
          "name": "stderr"
        },
        {
          "output_type": "stream",
          "text": [
            "SMA200_slope_rule:  True\n",
            "ESCA\n"
          ],
          "name": "stdout"
        },
        {
          "output_type": "stream",
          "text": [
            "\r 25%|██▌       | 93/367 [05:07<16:02,  3.51s/it]"
          ],
          "name": "stderr"
        },
        {
          "output_type": "stream",
          "text": [
            "SMA200_slope_rule:  True\n",
            "GRBK\n"
          ],
          "name": "stdout"
        },
        {
          "output_type": "stream",
          "text": [
            "\r 26%|██▌       | 94/367 [05:10<16:04,  3.53s/it]"
          ],
          "name": "stderr"
        },
        {
          "output_type": "stream",
          "text": [
            "SMA200_slope_rule:  True\n",
            "STXB\n"
          ],
          "name": "stdout"
        },
        {
          "output_type": "stream",
          "text": [
            "\r 26%|██▌       | 95/367 [05:13<15:49,  3.49s/it]"
          ],
          "name": "stderr"
        },
        {
          "output_type": "stream",
          "text": [
            "SMA200_slope_rule:  True\n",
            "TBBK\n"
          ],
          "name": "stdout"
        },
        {
          "output_type": "stream",
          "text": [
            "\r 26%|██▌       | 96/367 [05:17<15:40,  3.47s/it]"
          ],
          "name": "stderr"
        },
        {
          "output_type": "stream",
          "text": [
            "SMA200_slope_rule:  True\n",
            "FOR\n"
          ],
          "name": "stdout"
        },
        {
          "output_type": "stream",
          "text": [
            "\r 26%|██▋       | 97/367 [05:20<14:33,  3.24s/it]"
          ],
          "name": "stderr"
        },
        {
          "output_type": "stream",
          "text": [
            "SMA200_slope_rule:  True\n",
            "LEVL\n"
          ],
          "name": "stdout"
        },
        {
          "output_type": "stream",
          "text": [
            "\r 27%|██▋       | 98/367 [05:23<14:40,  3.27s/it]"
          ],
          "name": "stderr"
        },
        {
          "output_type": "stream",
          "text": [
            "SMA200_slope_rule:  True\n",
            "AMKR\n"
          ],
          "name": "stdout"
        },
        {
          "output_type": "stream",
          "text": [
            "\r 27%|██▋       | 99/367 [05:26<14:52,  3.33s/it]"
          ],
          "name": "stderr"
        },
        {
          "output_type": "stream",
          "text": [
            "SMA200_slope_rule:  True\n",
            "ECOM\n"
          ],
          "name": "stdout"
        },
        {
          "output_type": "stream",
          "text": [
            "\r 27%|██▋       | 100/367 [05:30<14:47,  3.32s/it]"
          ],
          "name": "stderr"
        },
        {
          "output_type": "stream",
          "text": [
            "SMA200_slope_rule:  False\n",
            "SFM\n"
          ],
          "name": "stdout"
        },
        {
          "output_type": "stream",
          "text": [
            "\r 28%|██▊       | 101/367 [05:32<13:43,  3.10s/it]"
          ],
          "name": "stderr"
        },
        {
          "output_type": "stream",
          "text": [
            "SMA200_slope_rule:  False\n",
            "GNMK\n"
          ],
          "name": "stdout"
        },
        {
          "output_type": "stream",
          "text": [
            "\r 28%|██▊       | 102/367 [05:36<13:49,  3.13s/it]"
          ],
          "name": "stderr"
        },
        {
          "output_type": "stream",
          "text": [
            "SMA200_slope_rule:  False\n",
            "ISDR\n"
          ],
          "name": "stdout"
        },
        {
          "output_type": "stream",
          "text": [
            "\r 28%|██▊       | 103/367 [05:39<14:40,  3.33s/it]"
          ],
          "name": "stderr"
        },
        {
          "output_type": "stream",
          "text": [
            "SMA200_slope_rule:  True\n",
            "CODI\n"
          ],
          "name": "stdout"
        },
        {
          "output_type": "stream",
          "text": [
            "\r 28%|██▊       | 104/367 [05:43<14:55,  3.40s/it]"
          ],
          "name": "stderr"
        },
        {
          "output_type": "stream",
          "text": [
            "SMA200_slope_rule:  True\n",
            "LIVE\n"
          ],
          "name": "stdout"
        },
        {
          "output_type": "stream",
          "text": [
            "\r 29%|██▊       | 105/367 [05:46<15:00,  3.44s/it]"
          ],
          "name": "stderr"
        },
        {
          "output_type": "stream",
          "text": [
            "SMA200_slope_rule:  True\n",
            "MYFW\n"
          ],
          "name": "stdout"
        },
        {
          "output_type": "stream",
          "text": [
            "\r 29%|██▉       | 106/367 [05:50<14:41,  3.38s/it]"
          ],
          "name": "stderr"
        },
        {
          "output_type": "stream",
          "text": [
            "SMA200_slope_rule:  True\n",
            "GCBC\n"
          ],
          "name": "stdout"
        },
        {
          "output_type": "stream",
          "text": [
            "\r 29%|██▉       | 107/367 [05:54<15:16,  3.52s/it]"
          ],
          "name": "stderr"
        },
        {
          "output_type": "stream",
          "text": [
            "SMA200_slope_rule:  True\n",
            "DRNA\n"
          ],
          "name": "stdout"
        },
        {
          "output_type": "stream",
          "text": [
            "\r 29%|██▉       | 108/367 [05:57<14:56,  3.46s/it]"
          ],
          "name": "stderr"
        },
        {
          "output_type": "stream",
          "text": [
            "SMA200_slope_rule:  False\n",
            "ARD\n"
          ],
          "name": "stdout"
        },
        {
          "output_type": "stream",
          "text": [
            "\r 30%|██▉       | 109/367 [06:00<14:51,  3.45s/it]"
          ],
          "name": "stderr"
        },
        {
          "output_type": "stream",
          "text": [
            "SMA200_slope_rule:  True\n",
            "FMAO\n"
          ],
          "name": "stdout"
        },
        {
          "output_type": "stream",
          "text": [
            "\r 30%|██▉       | 110/367 [06:04<14:52,  3.47s/it]"
          ],
          "name": "stderr"
        },
        {
          "output_type": "stream",
          "text": [
            "SMA200_slope_rule:  True\n",
            "GFF\n"
          ],
          "name": "stdout"
        },
        {
          "output_type": "stream",
          "text": [
            "\r 30%|███       | 111/367 [06:07<15:02,  3.52s/it]"
          ],
          "name": "stderr"
        },
        {
          "output_type": "stream",
          "text": [
            "SMA200_slope_rule:  False\n",
            "BE\n"
          ],
          "name": "stdout"
        },
        {
          "output_type": "stream",
          "text": [
            "\r 31%|███       | 112/367 [06:11<14:45,  3.47s/it]"
          ],
          "name": "stderr"
        },
        {
          "output_type": "stream",
          "text": [
            "SMA200_slope_rule:  True\n",
            "COHN\n"
          ],
          "name": "stdout"
        },
        {
          "output_type": "stream",
          "text": [
            "\r 31%|███       | 113/367 [06:14<14:10,  3.35s/it]"
          ],
          "name": "stderr"
        },
        {
          "output_type": "stream",
          "text": [
            "SMA200_slope_rule:  False\n",
            "MPB\n"
          ],
          "name": "stdout"
        },
        {
          "output_type": "stream",
          "text": [
            "\r 31%|███       | 114/367 [06:18<14:38,  3.47s/it]"
          ],
          "name": "stderr"
        },
        {
          "output_type": "stream",
          "text": [
            "SMA200_slope_rule:  True\n",
            "SGC\n"
          ],
          "name": "stdout"
        },
        {
          "output_type": "stream",
          "text": [
            "\r 31%|███▏      | 115/367 [06:21<14:59,  3.57s/it]"
          ],
          "name": "stderr"
        },
        {
          "output_type": "stream",
          "text": [
            "SMA200_slope_rule:  True\n",
            "AUDC\n"
          ],
          "name": "stdout"
        },
        {
          "output_type": "stream",
          "text": [
            "\r 32%|███▏      | 116/367 [06:25<14:52,  3.56s/it]"
          ],
          "name": "stderr"
        },
        {
          "output_type": "stream",
          "text": [
            "SMA200_slope_rule:  False\n",
            "VUZI\n"
          ],
          "name": "stdout"
        },
        {
          "output_type": "stream",
          "text": [
            "\r 32%|███▏      | 117/367 [06:28<14:48,  3.55s/it]"
          ],
          "name": "stderr"
        },
        {
          "output_type": "stream",
          "text": [
            "SMA200_slope_rule:  True\n",
            "RBNC\n"
          ],
          "name": "stdout"
        },
        {
          "output_type": "stream",
          "text": [
            "\r 32%|███▏      | 118/367 [06:32<15:00,  3.61s/it]"
          ],
          "name": "stderr"
        },
        {
          "output_type": "stream",
          "text": [
            "SMA200_slope_rule:  True\n",
            "FLWS\n"
          ],
          "name": "stdout"
        },
        {
          "output_type": "stream",
          "text": [
            "\r 32%|███▏      | 119/367 [06:35<14:23,  3.48s/it]"
          ],
          "name": "stderr"
        },
        {
          "output_type": "stream",
          "text": [
            "SMA200_slope_rule:  False\n",
            "AZRE\n"
          ],
          "name": "stdout"
        },
        {
          "output_type": "stream",
          "text": [
            "\r 33%|███▎      | 120/367 [06:39<14:05,  3.42s/it]"
          ],
          "name": "stderr"
        },
        {
          "output_type": "stream",
          "text": [
            "SMA200_slope_rule:  False\n",
            "ATLC\n"
          ],
          "name": "stdout"
        },
        {
          "output_type": "stream",
          "text": [
            "\r 33%|███▎      | 121/367 [06:42<14:02,  3.42s/it]"
          ],
          "name": "stderr"
        },
        {
          "output_type": "stream",
          "text": [
            "SMA200_slope_rule:  True\n",
            "SPNS\n"
          ],
          "name": "stdout"
        },
        {
          "output_type": "stream",
          "text": [
            "\r 33%|███▎      | 122/367 [06:46<14:36,  3.58s/it]"
          ],
          "name": "stderr"
        },
        {
          "output_type": "stream",
          "text": [
            "SMA200_slope_rule:  False\n",
            "CLFD\n"
          ],
          "name": "stdout"
        },
        {
          "output_type": "stream",
          "text": [
            "\r 34%|███▎      | 123/367 [06:49<14:21,  3.53s/it]"
          ],
          "name": "stderr"
        },
        {
          "output_type": "stream",
          "text": [
            "SMA200_slope_rule:  True\n",
            "CUBI\n"
          ],
          "name": "stdout"
        },
        {
          "output_type": "stream",
          "text": [
            "\r 34%|███▍      | 124/367 [06:53<14:29,  3.58s/it]"
          ],
          "name": "stderr"
        },
        {
          "output_type": "stream",
          "text": [
            "SMA200_slope_rule:  True\n",
            "VNET\n"
          ],
          "name": "stdout"
        },
        {
          "output_type": "stream",
          "text": [
            "\r 34%|███▍      | 125/367 [06:57<14:12,  3.52s/it]"
          ],
          "name": "stderr"
        },
        {
          "output_type": "stream",
          "text": [
            "SMA200_slope_rule:  True\n",
            "ECHO\n"
          ],
          "name": "stdout"
        },
        {
          "output_type": "stream",
          "text": [
            "\r 34%|███▍      | 126/367 [07:00<14:04,  3.50s/it]"
          ],
          "name": "stderr"
        },
        {
          "output_type": "stream",
          "text": [
            "SMA200_slope_rule:  True\n",
            "BGS\n"
          ],
          "name": "stdout"
        },
        {
          "output_type": "stream",
          "text": [
            "\r 35%|███▍      | 127/367 [07:04<14:30,  3.63s/it]"
          ],
          "name": "stderr"
        },
        {
          "output_type": "stream",
          "text": [
            "SMA200_slope_rule:  False\n",
            "PRIM\n"
          ],
          "name": "stdout"
        },
        {
          "output_type": "stream",
          "text": [
            "\r 35%|███▍      | 128/367 [07:07<14:20,  3.60s/it]"
          ],
          "name": "stderr"
        },
        {
          "output_type": "stream",
          "text": [
            "SMA200_slope_rule:  True\n",
            "PINC\n"
          ],
          "name": "stdout"
        },
        {
          "output_type": "stream",
          "text": [
            "\r 35%|███▌      | 129/367 [07:11<13:59,  3.53s/it]"
          ],
          "name": "stderr"
        },
        {
          "output_type": "stream",
          "text": [
            "SMA200_slope_rule:  False\n",
            "PAAS\n"
          ],
          "name": "stdout"
        },
        {
          "output_type": "stream",
          "text": [
            "\r 35%|███▌      | 130/367 [07:14<13:40,  3.46s/it]"
          ],
          "name": "stderr"
        },
        {
          "output_type": "stream",
          "text": [
            "SMA200_slope_rule:  False\n",
            "QURE\n"
          ],
          "name": "stdout"
        },
        {
          "output_type": "stream",
          "text": [
            "\r 36%|███▌      | 131/367 [07:18<14:12,  3.61s/it]"
          ],
          "name": "stderr"
        },
        {
          "output_type": "stream",
          "text": [
            "SMA200_slope_rule:  False\n",
            "STAG\n"
          ],
          "name": "stdout"
        },
        {
          "output_type": "stream",
          "text": [
            "\r 36%|███▌      | 132/367 [07:22<14:20,  3.66s/it]"
          ],
          "name": "stderr"
        },
        {
          "output_type": "stream",
          "text": [
            "SMA200_slope_rule:  False\n",
            "ROL\n"
          ],
          "name": "stdout"
        },
        {
          "output_type": "stream",
          "text": [
            "\r 36%|███▌      | 133/367 [07:25<14:07,  3.62s/it]"
          ],
          "name": "stderr"
        },
        {
          "output_type": "stream",
          "text": [
            "SMA200_slope_rule:  False\n",
            "EGOV\n"
          ],
          "name": "stdout"
        },
        {
          "output_type": "stream",
          "text": [
            "\r 37%|███▋      | 134/367 [07:29<14:03,  3.62s/it]"
          ],
          "name": "stderr"
        },
        {
          "output_type": "stream",
          "text": [
            "SMA200_slope_rule:  True\n",
            "SEM\n"
          ],
          "name": "stdout"
        },
        {
          "output_type": "stream",
          "text": [
            "\r 37%|███▋      | 135/367 [07:32<13:41,  3.54s/it]"
          ],
          "name": "stderr"
        },
        {
          "output_type": "stream",
          "text": [
            "SMA200_slope_rule:  True\n",
            "HWKN\n"
          ],
          "name": "stdout"
        },
        {
          "output_type": "stream",
          "text": [
            "\r 37%|███▋      | 136/367 [07:35<12:37,  3.28s/it]"
          ],
          "name": "stderr"
        },
        {
          "output_type": "stream",
          "text": [
            "SMA200_slope_rule:  False\n",
            "STM\n"
          ],
          "name": "stdout"
        },
        {
          "output_type": "stream",
          "text": [
            "\r 37%|███▋      | 137/367 [07:39<13:14,  3.45s/it]"
          ],
          "name": "stderr"
        },
        {
          "output_type": "stream",
          "text": [
            "SMA200_slope_rule:  False\n",
            "TENB\n"
          ],
          "name": "stdout"
        },
        {
          "output_type": "stream",
          "text": [
            "\r 38%|███▊      | 138/367 [07:41<12:03,  3.16s/it]"
          ],
          "name": "stderr"
        },
        {
          "output_type": "stream",
          "text": [
            "SMA200_slope_rule:  False\n",
            "ACLS\n"
          ],
          "name": "stdout"
        },
        {
          "output_type": "stream",
          "text": [
            "\r 38%|███▊      | 139/367 [07:45<12:03,  3.17s/it]"
          ],
          "name": "stderr"
        },
        {
          "output_type": "stream",
          "text": [
            "SMA200_slope_rule:  False\n",
            "NSA\n"
          ],
          "name": "stdout"
        },
        {
          "output_type": "stream",
          "text": [
            "\r 38%|███▊      | 140/367 [07:48<11:45,  3.11s/it]"
          ],
          "name": "stderr"
        },
        {
          "output_type": "stream",
          "text": [
            "SMA200_slope_rule:  True\n",
            "VCRA\n"
          ],
          "name": "stdout"
        },
        {
          "output_type": "stream",
          "text": [
            "\r 38%|███▊      | 141/367 [07:51<12:13,  3.25s/it]"
          ],
          "name": "stderr"
        },
        {
          "output_type": "stream",
          "text": [
            "SMA200_slope_rule:  True\n",
            "WPM\n"
          ],
          "name": "stdout"
        },
        {
          "output_type": "stream",
          "text": [
            "\r 39%|███▊      | 142/367 [07:55<12:35,  3.36s/it]"
          ],
          "name": "stderr"
        },
        {
          "output_type": "stream",
          "text": [
            "SMA200_slope_rule:  False\n",
            "FNF\n"
          ],
          "name": "stdout"
        },
        {
          "output_type": "stream",
          "text": [
            "\r 39%|███▉      | 143/367 [07:58<12:56,  3.47s/it]"
          ],
          "name": "stderr"
        },
        {
          "output_type": "stream",
          "text": [
            "SMA200_slope_rule:  True\n",
            "BOMN\n"
          ],
          "name": "stdout"
        },
        {
          "output_type": "stream",
          "text": [
            "\r 39%|███▉      | 144/367 [08:02<12:52,  3.46s/it]"
          ],
          "name": "stderr"
        },
        {
          "output_type": "stream",
          "text": [
            "SMA200_slope_rule:  True\n",
            "CWH\n"
          ],
          "name": "stdout"
        },
        {
          "output_type": "stream",
          "text": [
            "\r 40%|███▉      | 145/367 [08:05<11:58,  3.24s/it]"
          ],
          "name": "stderr"
        },
        {
          "output_type": "stream",
          "text": [
            "SMA200_slope_rule:  False\n",
            "OLN\n"
          ],
          "name": "stdout"
        },
        {
          "output_type": "stream",
          "text": [
            "\r 40%|███▉      | 146/367 [08:09<12:57,  3.52s/it]"
          ],
          "name": "stderr"
        },
        {
          "output_type": "stream",
          "text": [
            "SMA200_slope_rule:  True\n",
            "MBIN\n"
          ],
          "name": "stdout"
        },
        {
          "output_type": "stream",
          "text": [
            "\r 40%|████      | 147/367 [08:12<12:50,  3.50s/it]"
          ],
          "name": "stderr"
        },
        {
          "output_type": "stream",
          "text": [
            "SMA200_slope_rule:  True\n",
            "BXC\n"
          ],
          "name": "stdout"
        },
        {
          "output_type": "stream",
          "text": [
            "\r 40%|████      | 148/367 [08:16<12:35,  3.45s/it]"
          ],
          "name": "stderr"
        },
        {
          "output_type": "stream",
          "text": [
            "SMA200_slope_rule:  True\n",
            "VBFC\n"
          ],
          "name": "stdout"
        },
        {
          "output_type": "stream",
          "text": [
            "\r 41%|████      | 149/367 [08:19<12:38,  3.48s/it]"
          ],
          "name": "stderr"
        },
        {
          "output_type": "stream",
          "text": [
            "SMA200_slope_rule:  True\n",
            "SLGN\n"
          ],
          "name": "stdout"
        },
        {
          "output_type": "stream",
          "text": [
            "\r 41%|████      | 150/367 [08:23<12:47,  3.54s/it]"
          ],
          "name": "stderr"
        },
        {
          "output_type": "stream",
          "text": [
            "SMA200_slope_rule:  False\n",
            "BSY\n"
          ],
          "name": "stdout"
        },
        {
          "output_type": "stream",
          "text": [
            "\r 41%|████      | 151/367 [08:25<11:33,  3.21s/it]"
          ],
          "name": "stderr"
        },
        {
          "output_type": "stream",
          "text": [
            "SMA200_slope_rule:  False\n",
            "OPY\n"
          ],
          "name": "stdout"
        },
        {
          "output_type": "stream",
          "text": [
            "\r 41%|████▏     | 152/367 [08:29<11:59,  3.35s/it]"
          ],
          "name": "stderr"
        },
        {
          "output_type": "stream",
          "text": [
            "SMA200_slope_rule:  True\n",
            "AB\n"
          ],
          "name": "stdout"
        },
        {
          "output_type": "stream",
          "text": [
            "\r 42%|████▏     | 153/367 [08:32<11:36,  3.25s/it]"
          ],
          "name": "stderr"
        },
        {
          "output_type": "stream",
          "text": [
            "SMA200_slope_rule:  True\n",
            "JYNT\n"
          ],
          "name": "stdout"
        },
        {
          "output_type": "stream",
          "text": [
            "\r 42%|████▏     | 154/367 [08:35<11:24,  3.21s/it]"
          ],
          "name": "stderr"
        },
        {
          "output_type": "stream",
          "text": [
            "SMA200_slope_rule:  True\n",
            "EYE\n"
          ],
          "name": "stdout"
        },
        {
          "output_type": "stream",
          "text": [
            "\r 42%|████▏     | 155/367 [08:38<11:35,  3.28s/it]"
          ],
          "name": "stderr"
        },
        {
          "output_type": "stream",
          "text": [
            "SMA200_slope_rule:  False\n",
            "HALO\n"
          ],
          "name": "stdout"
        },
        {
          "output_type": "stream",
          "text": [
            "\r 43%|████▎     | 156/367 [08:42<11:48,  3.36s/it]"
          ],
          "name": "stderr"
        },
        {
          "output_type": "stream",
          "text": [
            "SMA200_slope_rule:  True\n",
            "BZUN\n"
          ],
          "name": "stdout"
        },
        {
          "output_type": "stream",
          "text": [
            "\r 43%|████▎     | 157/367 [08:45<11:48,  3.37s/it]"
          ],
          "name": "stderr"
        },
        {
          "output_type": "stream",
          "text": [
            "SMA200_slope_rule:  False\n",
            "FOCS\n"
          ],
          "name": "stdout"
        },
        {
          "output_type": "stream",
          "text": [
            "\r 43%|████▎     | 158/367 [08:49<11:44,  3.37s/it]"
          ],
          "name": "stderr"
        },
        {
          "output_type": "stream",
          "text": [
            "SMA200_slope_rule:  True\n",
            "BRO\n"
          ],
          "name": "stdout"
        },
        {
          "output_type": "stream",
          "text": [
            "\r 43%|████▎     | 159/367 [08:52<11:56,  3.45s/it]"
          ],
          "name": "stderr"
        },
        {
          "output_type": "stream",
          "text": [
            "SMA200_slope_rule:  False\n",
            "NRIM\n"
          ],
          "name": "stdout"
        },
        {
          "output_type": "stream",
          "text": [
            "\r 44%|████▎     | 160/367 [08:56<11:57,  3.46s/it]"
          ],
          "name": "stderr"
        },
        {
          "output_type": "stream",
          "text": [
            "SMA200_slope_rule:  True\n",
            "SKY\n"
          ],
          "name": "stdout"
        },
        {
          "output_type": "stream",
          "text": [
            "\r 44%|████▍     | 161/367 [08:59<11:20,  3.30s/it]"
          ],
          "name": "stderr"
        },
        {
          "output_type": "stream",
          "text": [
            "SMA200_slope_rule:  True\n",
            "VIPS\n"
          ],
          "name": "stdout"
        },
        {
          "output_type": "stream",
          "text": [
            "\r 44%|████▍     | 162/367 [09:01<10:27,  3.06s/it]"
          ],
          "name": "stderr"
        },
        {
          "output_type": "stream",
          "text": [
            "SMA200_slope_rule:  True\n",
            "KNX\n"
          ],
          "name": "stdout"
        },
        {
          "output_type": "stream",
          "text": [
            "\r 44%|████▍     | 163/367 [09:05<11:12,  3.30s/it]"
          ],
          "name": "stderr"
        },
        {
          "output_type": "stream",
          "text": [
            "SMA200_slope_rule:  False\n",
            "CHCT\n"
          ],
          "name": "stdout"
        },
        {
          "output_type": "stream",
          "text": [
            "\r 45%|████▍     | 164/367 [09:09<11:20,  3.35s/it]"
          ],
          "name": "stderr"
        },
        {
          "output_type": "stream",
          "text": [
            "SMA200_slope_rule:  False\n",
            "BLDR\n"
          ],
          "name": "stdout"
        },
        {
          "output_type": "stream",
          "text": [
            "\r 45%|████▍     | 165/367 [09:12<11:24,  3.39s/it]"
          ],
          "name": "stderr"
        },
        {
          "output_type": "stream",
          "text": [
            "SMA200_slope_rule:  True\n",
            "CALX\n"
          ],
          "name": "stdout"
        },
        {
          "output_type": "stream",
          "text": [
            "\r 45%|████▌     | 166/367 [09:15<11:06,  3.31s/it]"
          ],
          "name": "stderr"
        },
        {
          "output_type": "stream",
          "text": [
            "SMA200_slope_rule:  True\n",
            "JOE\n"
          ],
          "name": "stdout"
        },
        {
          "output_type": "stream",
          "text": [
            "\r 46%|████▌     | 167/367 [09:19<11:16,  3.38s/it]"
          ],
          "name": "stderr"
        },
        {
          "output_type": "stream",
          "text": [
            "SMA200_slope_rule:  True\n",
            "ICHR\n"
          ],
          "name": "stdout"
        },
        {
          "output_type": "stream",
          "text": [
            "\r 46%|████▌     | 168/367 [09:22<10:46,  3.25s/it]"
          ],
          "name": "stderr"
        },
        {
          "output_type": "stream",
          "text": [
            "SMA200_slope_rule:  False\n",
            "FAST\n"
          ],
          "name": "stdout"
        },
        {
          "output_type": "stream",
          "text": [
            "\r 46%|████▌     | 169/367 [09:26<11:15,  3.41s/it]"
          ],
          "name": "stderr"
        },
        {
          "output_type": "stream",
          "text": [
            "SMA200_slope_rule:  False\n",
            "LMAT\n"
          ],
          "name": "stdout"
        },
        {
          "output_type": "stream",
          "text": [
            "\r 46%|████▋     | 170/367 [09:28<10:36,  3.23s/it]"
          ],
          "name": "stderr"
        },
        {
          "output_type": "stream",
          "text": [
            "SMA200_slope_rule:  True\n",
            "IESC\n"
          ],
          "name": "stdout"
        },
        {
          "output_type": "stream",
          "text": [
            "\r 47%|████▋     | 171/367 [09:32<10:30,  3.22s/it]"
          ],
          "name": "stderr"
        },
        {
          "output_type": "stream",
          "text": [
            "SMA200_slope_rule:  True\n",
            "FFIN\n"
          ],
          "name": "stdout"
        },
        {
          "output_type": "stream",
          "text": [
            "\r 47%|████▋     | 172/367 [09:35<10:26,  3.21s/it]"
          ],
          "name": "stderr"
        },
        {
          "output_type": "stream",
          "text": [
            "SMA200_slope_rule:  True\n",
            "PHM\n"
          ],
          "name": "stdout"
        },
        {
          "output_type": "stream",
          "text": [
            "\r 47%|████▋     | 173/367 [09:38<10:26,  3.23s/it]"
          ],
          "name": "stderr"
        },
        {
          "output_type": "stream",
          "text": [
            "SMA200_slope_rule:  False\n",
            "QGEN\n"
          ],
          "name": "stdout"
        },
        {
          "output_type": "stream",
          "text": [
            "\r 47%|████▋     | 174/367 [09:42<11:01,  3.43s/it]"
          ],
          "name": "stderr"
        },
        {
          "output_type": "stream",
          "text": [
            "SMA200_slope_rule:  False\n",
            "PCH\n"
          ],
          "name": "stdout"
        },
        {
          "output_type": "stream",
          "text": [
            "\r 48%|████▊     | 175/367 [09:46<11:19,  3.54s/it]"
          ],
          "name": "stderr"
        },
        {
          "output_type": "stream",
          "text": [
            "SMA200_slope_rule:  True\n",
            "EXPI\n"
          ],
          "name": "stdout"
        },
        {
          "output_type": "stream",
          "text": [
            "\r 48%|████▊     | 176/367 [09:50<11:30,  3.62s/it]"
          ],
          "name": "stderr"
        },
        {
          "output_type": "stream",
          "text": [
            "SMA200_slope_rule:  True\n",
            "AX\n"
          ],
          "name": "stdout"
        },
        {
          "output_type": "stream",
          "text": [
            "\r 48%|████▊     | 177/367 [09:53<11:10,  3.53s/it]"
          ],
          "name": "stderr"
        },
        {
          "output_type": "stream",
          "text": [
            "SMA200_slope_rule:  True\n",
            "TPB\n"
          ],
          "name": "stdout"
        },
        {
          "output_type": "stream",
          "text": [
            "\r 49%|████▊     | 178/367 [09:57<11:22,  3.61s/it]"
          ],
          "name": "stderr"
        },
        {
          "output_type": "stream",
          "text": [
            "SMA200_slope_rule:  True\n",
            "CENT\n"
          ],
          "name": "stdout"
        },
        {
          "output_type": "stream",
          "text": [
            "\r 49%|████▉     | 179/367 [10:00<10:57,  3.50s/it]"
          ],
          "name": "stderr"
        },
        {
          "output_type": "stream",
          "text": [
            "SMA200_slope_rule:  False\n",
            "UCTT\n"
          ],
          "name": "stdout"
        },
        {
          "output_type": "stream",
          "text": [
            "\r 49%|████▉     | 180/367 [10:03<10:53,  3.49s/it]"
          ],
          "name": "stderr"
        },
        {
          "output_type": "stream",
          "text": [
            "SMA200_slope_rule:  True\n",
            "LPX\n"
          ],
          "name": "stdout"
        },
        {
          "output_type": "stream",
          "text": [
            "\r 49%|████▉     | 181/367 [10:07<11:07,  3.59s/it]"
          ],
          "name": "stderr"
        },
        {
          "output_type": "stream",
          "text": [
            "SMA200_slope_rule:  True\n",
            "GRWG\n"
          ],
          "name": "stdout"
        },
        {
          "output_type": "stream",
          "text": [
            "\r 50%|████▉     | 182/367 [10:11<10:57,  3.55s/it]"
          ],
          "name": "stderr"
        },
        {
          "output_type": "stream",
          "text": [
            "SMA200_slope_rule:  True\n",
            "MHO\n"
          ],
          "name": "stdout"
        },
        {
          "output_type": "stream",
          "text": [
            "\r 50%|████▉     | 183/367 [10:14<10:59,  3.58s/it]"
          ],
          "name": "stderr"
        },
        {
          "output_type": "stream",
          "text": [
            "SMA200_slope_rule:  True\n",
            "XPEL\n"
          ],
          "name": "stdout"
        },
        {
          "output_type": "stream",
          "text": [
            "\r 50%|█████     | 184/367 [10:17<10:30,  3.44s/it]"
          ],
          "name": "stderr"
        },
        {
          "output_type": "stream",
          "text": [
            "SMA200_slope_rule:  True\n",
            "MC\n"
          ],
          "name": "stdout"
        },
        {
          "output_type": "stream",
          "text": [
            "\r 50%|█████     | 185/367 [10:21<10:54,  3.60s/it]"
          ],
          "name": "stderr"
        },
        {
          "output_type": "stream",
          "text": [
            "SMA200_slope_rule:  True\n",
            "RILY\n"
          ],
          "name": "stdout"
        },
        {
          "output_type": "stream",
          "text": [
            "\r 51%|█████     | 186/367 [10:25<11:18,  3.75s/it]"
          ],
          "name": "stderr"
        },
        {
          "output_type": "stream",
          "text": [
            "SMA200_slope_rule:  True\n",
            "MDC\n"
          ],
          "name": "stdout"
        },
        {
          "output_type": "stream",
          "text": [
            "\r 51%|█████     | 187/367 [10:29<11:17,  3.76s/it]"
          ],
          "name": "stderr"
        },
        {
          "output_type": "stream",
          "text": [
            "SMA200_slope_rule:  True\n",
            "BERY\n"
          ],
          "name": "stdout"
        },
        {
          "output_type": "stream",
          "text": [
            "\r 51%|█████     | 188/367 [10:32<10:09,  3.41s/it]"
          ],
          "name": "stderr"
        },
        {
          "output_type": "stream",
          "text": [
            "SMA200_slope_rule:  False\n",
            "BCC\n"
          ],
          "name": "stdout"
        },
        {
          "output_type": "stream",
          "text": [
            "\r 51%|█████▏    | 189/367 [10:35<09:33,  3.22s/it]"
          ],
          "name": "stderr"
        },
        {
          "output_type": "stream",
          "text": [
            "SMA200_slope_rule:  False\n",
            "AAWW\n"
          ],
          "name": "stdout"
        },
        {
          "output_type": "stream",
          "text": [
            "\r 52%|█████▏    | 190/367 [10:38<09:38,  3.27s/it]"
          ],
          "name": "stderr"
        },
        {
          "output_type": "stream",
          "text": [
            "SMA200_slope_rule:  False\n",
            "VCEL\n"
          ],
          "name": "stdout"
        },
        {
          "output_type": "stream",
          "text": [
            "\r 52%|█████▏    | 191/367 [10:41<09:22,  3.19s/it]"
          ],
          "name": "stderr"
        },
        {
          "output_type": "stream",
          "text": [
            "SMA200_slope_rule:  True\n",
            "ONTO\n"
          ],
          "name": "stdout"
        },
        {
          "output_type": "stream",
          "text": [
            "\r 52%|█████▏    | 192/367 [10:44<09:15,  3.17s/it]"
          ],
          "name": "stderr"
        },
        {
          "output_type": "stream",
          "text": [
            "SMA200_slope_rule:  True\n",
            "GBCI\n"
          ],
          "name": "stdout"
        },
        {
          "output_type": "stream",
          "text": [
            "\r 53%|█████▎    | 193/367 [10:47<08:39,  2.99s/it]"
          ],
          "name": "stderr"
        },
        {
          "output_type": "stream",
          "text": [
            "SMA200_slope_rule:  True\n",
            "AEM\n"
          ],
          "name": "stdout"
        },
        {
          "output_type": "stream",
          "text": [
            "\r 53%|█████▎    | 194/367 [10:51<09:20,  3.24s/it]"
          ],
          "name": "stderr"
        },
        {
          "output_type": "stream",
          "text": [
            "SMA200_slope_rule:  False\n",
            "RIOT\n"
          ],
          "name": "stdout"
        },
        {
          "output_type": "stream",
          "text": [
            "\r 53%|█████▎    | 195/367 [10:54<09:45,  3.41s/it]"
          ],
          "name": "stderr"
        },
        {
          "output_type": "stream",
          "text": [
            "SMA200_slope_rule:  True\n",
            "DSGX\n"
          ],
          "name": "stdout"
        },
        {
          "output_type": "stream",
          "text": [
            "\r 53%|█████▎    | 196/367 [10:57<09:12,  3.23s/it]"
          ],
          "name": "stderr"
        },
        {
          "output_type": "stream",
          "text": [
            "SMA200_slope_rule:  False\n",
            "HZO\n"
          ],
          "name": "stdout"
        },
        {
          "output_type": "stream",
          "text": [
            "\r 54%|█████▎    | 197/367 [11:01<09:15,  3.27s/it]"
          ],
          "name": "stderr"
        },
        {
          "output_type": "stream",
          "text": [
            "SMA200_slope_rule:  True\n",
            "CCS\n"
          ],
          "name": "stdout"
        },
        {
          "output_type": "stream",
          "text": [
            "\r 54%|█████▍    | 198/367 [11:04<09:18,  3.31s/it]"
          ],
          "name": "stderr"
        },
        {
          "output_type": "stream",
          "text": [
            "SMA200_slope_rule:  True\n",
            "PFSI\n"
          ],
          "name": "stdout"
        },
        {
          "output_type": "stream",
          "text": [
            "\r 54%|█████▍    | 199/367 [11:08<09:34,  3.42s/it]"
          ],
          "name": "stderr"
        },
        {
          "output_type": "stream",
          "text": [
            "SMA200_slope_rule:  True\n",
            "LOB\n"
          ],
          "name": "stdout"
        },
        {
          "output_type": "stream",
          "text": [
            "\r 54%|█████▍    | 200/367 [11:11<09:44,  3.50s/it]"
          ],
          "name": "stderr"
        },
        {
          "output_type": "stream",
          "text": [
            "SMA200_slope_rule:  True\n",
            "BWXT\n"
          ],
          "name": "stdout"
        },
        {
          "output_type": "stream",
          "text": [
            "\r 55%|█████▍    | 201/367 [11:15<09:59,  3.61s/it]"
          ],
          "name": "stderr"
        },
        {
          "output_type": "stream",
          "text": [
            "SMA200_slope_rule:  False\n",
            "SF\n"
          ],
          "name": "stdout"
        },
        {
          "output_type": "stream",
          "text": [
            "\r 55%|█████▌    | 202/367 [11:19<10:12,  3.71s/it]"
          ],
          "name": "stderr"
        },
        {
          "output_type": "stream",
          "text": [
            "SMA200_slope_rule:  True\n",
            "SLP\n"
          ],
          "name": "stdout"
        },
        {
          "output_type": "stream",
          "text": [
            "\r 55%|█████▌    | 203/367 [11:23<10:07,  3.70s/it]"
          ],
          "name": "stderr"
        },
        {
          "output_type": "stream",
          "text": [
            "SMA200_slope_rule:  False\n",
            "BOOT\n"
          ],
          "name": "stdout"
        },
        {
          "output_type": "stream",
          "text": [
            "\r 56%|█████▌    | 204/367 [11:26<09:25,  3.47s/it]"
          ],
          "name": "stderr"
        },
        {
          "output_type": "stream",
          "text": [
            "SMA200_slope_rule:  True\n",
            "HLI\n"
          ],
          "name": "stdout"
        },
        {
          "output_type": "stream",
          "text": [
            "\r 56%|█████▌    | 205/367 [11:29<09:06,  3.37s/it]"
          ],
          "name": "stderr"
        },
        {
          "output_type": "stream",
          "text": [
            "SMA200_slope_rule:  True\n",
            "SWX\n"
          ],
          "name": "stdout"
        },
        {
          "output_type": "stream",
          "text": [
            "\r 56%|█████▌    | 206/367 [11:32<09:13,  3.44s/it]"
          ],
          "name": "stderr"
        },
        {
          "output_type": "stream",
          "text": [
            "SMA200_slope_rule:  False\n",
            "CDNA\n"
          ],
          "name": "stdout"
        },
        {
          "output_type": "stream",
          "text": [
            "\r 56%|█████▋    | 207/367 [11:36<09:08,  3.43s/it]"
          ],
          "name": "stderr"
        },
        {
          "output_type": "stream",
          "text": [
            "SMA200_slope_rule:  True\n",
            "PJT\n"
          ],
          "name": "stdout"
        },
        {
          "output_type": "stream",
          "text": [
            "\r 57%|█████▋    | 208/367 [11:39<08:36,  3.25s/it]"
          ],
          "name": "stderr"
        },
        {
          "output_type": "stream",
          "text": [
            "SMA200_slope_rule:  False\n",
            "PCRX\n"
          ],
          "name": "stdout"
        },
        {
          "output_type": "stream",
          "text": [
            "\r 57%|█████▋    | 209/367 [11:42<08:43,  3.31s/it]"
          ],
          "name": "stderr"
        },
        {
          "output_type": "stream",
          "text": [
            "SMA200_slope_rule:  True\n",
            "UFPI\n"
          ],
          "name": "stdout"
        },
        {
          "output_type": "stream",
          "text": [
            "\r 57%|█████▋    | 210/367 [11:46<08:55,  3.41s/it]"
          ],
          "name": "stderr"
        },
        {
          "output_type": "stream",
          "text": [
            "SMA200_slope_rule:  False\n",
            "CRAI\n"
          ],
          "name": "stdout"
        },
        {
          "output_type": "stream",
          "text": [
            "\r 57%|█████▋    | 211/367 [11:49<08:58,  3.45s/it]"
          ],
          "name": "stderr"
        },
        {
          "output_type": "stream",
          "text": [
            "SMA200_slope_rule:  True\n",
            "MYRG\n"
          ],
          "name": "stdout"
        },
        {
          "output_type": "stream",
          "text": [
            "\r 58%|█████▊    | 212/367 [11:52<08:07,  3.15s/it]"
          ],
          "name": "stderr"
        },
        {
          "output_type": "stream",
          "text": [
            "SMA200_slope_rule:  True\n",
            "HOLX\n"
          ],
          "name": "stdout"
        },
        {
          "output_type": "stream",
          "text": [
            "\r 58%|█████▊    | 213/367 [11:55<08:21,  3.25s/it]"
          ],
          "name": "stderr"
        },
        {
          "output_type": "stream",
          "text": [
            "SMA200_slope_rule:  False\n",
            "SCCO\n"
          ],
          "name": "stdout"
        },
        {
          "output_type": "stream",
          "text": [
            "\r 58%|█████▊    | 214/367 [11:59<08:34,  3.36s/it]"
          ],
          "name": "stderr"
        },
        {
          "output_type": "stream",
          "text": [
            "SMA200_slope_rule:  True\n",
            "FSFG\n"
          ],
          "name": "stdout"
        },
        {
          "output_type": "stream",
          "text": [
            "\r 59%|█████▊    | 215/367 [12:03<08:48,  3.48s/it]"
          ],
          "name": "stderr"
        },
        {
          "output_type": "stream",
          "text": [
            "SMA200_slope_rule:  True\n",
            "BKI\n"
          ],
          "name": "stdout"
        },
        {
          "output_type": "stream",
          "text": [
            "\r 59%|█████▉    | 216/367 [12:05<08:15,  3.28s/it]"
          ],
          "name": "stderr"
        },
        {
          "output_type": "stream",
          "text": [
            "SMA200_slope_rule:  False\n",
            "SAFE\n"
          ],
          "name": "stdout"
        },
        {
          "output_type": "stream",
          "text": [
            "\r 59%|█████▉    | 217/367 [12:09<08:29,  3.40s/it]"
          ],
          "name": "stderr"
        },
        {
          "output_type": "stream",
          "text": [
            "SMA200_slope_rule:  True\n",
            "YETI\n"
          ],
          "name": "stdout"
        },
        {
          "output_type": "stream",
          "text": [
            "\r 59%|█████▉    | 218/367 [12:12<08:18,  3.34s/it]"
          ],
          "name": "stderr"
        },
        {
          "output_type": "stream",
          "text": [
            "SMA200_slope_rule:  True\n",
            "OSTK\n"
          ],
          "name": "stdout"
        },
        {
          "output_type": "stream",
          "text": [
            "\r 60%|█████▉    | 219/367 [12:16<08:17,  3.36s/it]"
          ],
          "name": "stderr"
        },
        {
          "output_type": "stream",
          "text": [
            "SMA200_slope_rule:  False\n",
            "IBKR\n"
          ],
          "name": "stdout"
        },
        {
          "output_type": "stream",
          "text": [
            "\r 60%|█████▉    | 220/367 [12:20<08:34,  3.50s/it]"
          ],
          "name": "stderr"
        },
        {
          "output_type": "stream",
          "text": [
            "SMA200_slope_rule:  True\n",
            "CRUS\n"
          ],
          "name": "stdout"
        },
        {
          "output_type": "stream",
          "text": [
            "\r 60%|██████    | 221/367 [12:23<08:05,  3.33s/it]"
          ],
          "name": "stderr"
        },
        {
          "output_type": "stream",
          "text": [
            "SMA200_slope_rule:  True\n",
            "AMD\n"
          ],
          "name": "stdout"
        },
        {
          "output_type": "stream",
          "text": [
            "\r 60%|██████    | 222/367 [12:25<07:13,  2.99s/it]"
          ],
          "name": "stderr"
        },
        {
          "output_type": "stream",
          "text": [
            "SMA200_slope_rule:  False\n",
            "DQ\n"
          ],
          "name": "stdout"
        },
        {
          "output_type": "stream",
          "text": [
            "\r 61%|██████    | 223/367 [12:28<07:32,  3.14s/it]"
          ],
          "name": "stderr"
        },
        {
          "output_type": "stream",
          "text": [
            "SMA200_slope_rule:  True\n",
            "APPS\n"
          ],
          "name": "stdout"
        },
        {
          "output_type": "stream",
          "text": [
            "\r 61%|██████    | 224/367 [12:32<07:42,  3.23s/it]"
          ],
          "name": "stderr"
        },
        {
          "output_type": "stream",
          "text": [
            "SMA200_slope_rule:  True\n",
            "TBK\n"
          ],
          "name": "stdout"
        },
        {
          "output_type": "stream",
          "text": [
            "\r 61%|██████▏   | 225/367 [12:35<07:44,  3.27s/it]"
          ],
          "name": "stderr"
        },
        {
          "output_type": "stream",
          "text": [
            "SMA200_slope_rule:  True\n",
            "DHI\n"
          ],
          "name": "stdout"
        },
        {
          "output_type": "stream",
          "text": [
            "\r 62%|██████▏   | 226/367 [12:39<07:54,  3.37s/it]"
          ],
          "name": "stderr"
        },
        {
          "output_type": "stream",
          "text": [
            "SMA200_slope_rule:  False\n",
            "PATK\n"
          ],
          "name": "stdout"
        },
        {
          "output_type": "stream",
          "text": [
            "\r 62%|██████▏   | 227/367 [12:42<07:53,  3.38s/it]"
          ],
          "name": "stderr"
        },
        {
          "output_type": "stream",
          "text": [
            "SMA200_slope_rule:  False\n",
            "JD\n"
          ],
          "name": "stdout"
        },
        {
          "output_type": "stream",
          "text": [
            "\r 62%|██████▏   | 228/367 [12:44<07:07,  3.08s/it]"
          ],
          "name": "stderr"
        },
        {
          "output_type": "stream",
          "text": [
            "SMA200_slope_rule:  False\n",
            "NVMI\n"
          ],
          "name": "stdout"
        },
        {
          "output_type": "stream",
          "text": [
            "\r 62%|██████▏   | 229/367 [12:48<07:24,  3.22s/it]"
          ],
          "name": "stderr"
        },
        {
          "output_type": "stream",
          "text": [
            "SMA200_slope_rule:  True\n",
            "BRKS\n"
          ],
          "name": "stdout"
        },
        {
          "output_type": "stream",
          "text": [
            "\r 63%|██████▎   | 230/367 [12:52<07:36,  3.33s/it]"
          ],
          "name": "stderr"
        },
        {
          "output_type": "stream",
          "text": [
            "SMA200_slope_rule:  True\n",
            "ALRM\n"
          ],
          "name": "stdout"
        },
        {
          "output_type": "stream",
          "text": [
            "\r 63%|██████▎   | 231/367 [12:55<07:40,  3.39s/it]"
          ],
          "name": "stderr"
        },
        {
          "output_type": "stream",
          "text": [
            "SMA200_slope_rule:  True\n",
            "FORTY\n"
          ],
          "name": "stdout"
        },
        {
          "output_type": "stream",
          "text": [
            "\r 63%|██████▎   | 232/367 [12:59<07:41,  3.42s/it]"
          ],
          "name": "stderr"
        },
        {
          "output_type": "stream",
          "text": [
            "SMA200_slope_rule:  False\n",
            "VICR\n"
          ],
          "name": "stdout"
        },
        {
          "output_type": "stream",
          "text": [
            "\r 63%|██████▎   | 233/367 [13:01<07:01,  3.14s/it]"
          ],
          "name": "stderr"
        },
        {
          "output_type": "stream",
          "text": [
            "SMA200_slope_rule:  False\n",
            "MTH\n"
          ],
          "name": "stdout"
        },
        {
          "output_type": "stream",
          "text": [
            "\r 64%|██████▍   | 234/367 [13:04<07:10,  3.23s/it]"
          ],
          "name": "stderr"
        },
        {
          "output_type": "stream",
          "text": [
            "SMA200_slope_rule:  False\n",
            "MNST\n"
          ],
          "name": "stdout"
        },
        {
          "output_type": "stream",
          "text": [
            "\r 64%|██████▍   | 235/367 [13:08<07:16,  3.31s/it]"
          ],
          "name": "stderr"
        },
        {
          "output_type": "stream",
          "text": [
            "SMA200_slope_rule:  True\n",
            "ENSG\n"
          ],
          "name": "stdout"
        },
        {
          "output_type": "stream",
          "text": [
            "\r 64%|██████▍   | 236/367 [13:12<07:56,  3.64s/it]"
          ],
          "name": "stderr"
        },
        {
          "output_type": "stream",
          "text": [
            "SMA200_slope_rule:  True\n",
            "TREX\n"
          ],
          "name": "stdout"
        },
        {
          "output_type": "stream",
          "text": [
            "\r 65%|██████▍   | 237/367 [13:15<07:10,  3.31s/it]"
          ],
          "name": "stderr"
        },
        {
          "output_type": "stream",
          "text": [
            "SMA200_slope_rule:  True\n",
            "SSTK\n"
          ],
          "name": "stdout"
        },
        {
          "output_type": "stream",
          "text": [
            "\r 65%|██████▍   | 238/367 [13:19<07:20,  3.41s/it]"
          ],
          "name": "stderr"
        },
        {
          "output_type": "stream",
          "text": [
            "SMA200_slope_rule:  True\n",
            "PGR\n"
          ],
          "name": "stdout"
        },
        {
          "output_type": "stream",
          "text": [
            "\r 65%|██████▌   | 239/367 [13:22<07:25,  3.48s/it]"
          ],
          "name": "stderr"
        },
        {
          "output_type": "stream",
          "text": [
            "SMA200_slope_rule:  False\n",
            "EBS\n"
          ],
          "name": "stdout"
        },
        {
          "output_type": "stream",
          "text": [
            "\r 65%|██████▌   | 240/367 [13:25<06:57,  3.28s/it]"
          ],
          "name": "stderr"
        },
        {
          "output_type": "stream",
          "text": [
            "SMA200_slope_rule:  False\n",
            "FBHS\n"
          ],
          "name": "stdout"
        },
        {
          "output_type": "stream",
          "text": [
            "\r 66%|██████▌   | 241/367 [13:29<07:15,  3.46s/it]"
          ],
          "name": "stderr"
        },
        {
          "output_type": "stream",
          "text": [
            "SMA200_slope_rule:  True\n",
            "CHGG\n"
          ],
          "name": "stdout"
        },
        {
          "output_type": "stream",
          "text": [
            "\r 66%|██████▌   | 242/367 [13:32<07:12,  3.46s/it]"
          ],
          "name": "stderr"
        },
        {
          "output_type": "stream",
          "text": [
            "SMA200_slope_rule:  False\n",
            "TTEC\n"
          ],
          "name": "stdout"
        },
        {
          "output_type": "stream",
          "text": [
            "\r 66%|██████▌   | 243/367 [13:36<07:24,  3.58s/it]"
          ],
          "name": "stderr"
        },
        {
          "output_type": "stream",
          "text": [
            "SMA200_slope_rule:  True\n",
            "SAIC\n"
          ],
          "name": "stdout"
        },
        {
          "output_type": "stream",
          "text": [
            "\r 66%|██████▋   | 244/367 [13:40<07:38,  3.73s/it]"
          ],
          "name": "stderr"
        },
        {
          "output_type": "stream",
          "text": [
            "SMA200_slope_rule:  True\n",
            "CCK\n"
          ],
          "name": "stdout"
        },
        {
          "output_type": "stream",
          "text": [
            "\r 67%|██████▋   | 245/367 [13:43<07:10,  3.53s/it]"
          ],
          "name": "stderr"
        },
        {
          "output_type": "stream",
          "text": [
            "SMA200_slope_rule:  True\n",
            "FND\n"
          ],
          "name": "stdout"
        },
        {
          "output_type": "stream",
          "text": [
            "\r 67%|██████▋   | 246/367 [13:47<07:10,  3.56s/it]"
          ],
          "name": "stderr"
        },
        {
          "output_type": "stream",
          "text": [
            "SMA200_slope_rule:  True\n",
            "QLYS\n"
          ],
          "name": "stdout"
        },
        {
          "output_type": "stream",
          "text": [
            "\r 67%|██████▋   | 247/367 [13:51<07:05,  3.55s/it]"
          ],
          "name": "stderr"
        },
        {
          "output_type": "stream",
          "text": [
            "SMA200_slope_rule:  False\n",
            "LOGI\n"
          ],
          "name": "stdout"
        },
        {
          "output_type": "stream",
          "text": [
            "\r 68%|██████▊   | 248/367 [13:54<07:16,  3.67s/it]"
          ],
          "name": "stderr"
        },
        {
          "output_type": "stream",
          "text": [
            "SMA200_slope_rule:  True\n",
            "SPSC\n"
          ],
          "name": "stdout"
        },
        {
          "output_type": "stream",
          "text": [
            "\r 68%|██████▊   | 249/367 [13:58<07:11,  3.66s/it]"
          ],
          "name": "stderr"
        },
        {
          "output_type": "stream",
          "text": [
            "SMA200_slope_rule:  True\n",
            "WD\n"
          ],
          "name": "stdout"
        },
        {
          "output_type": "stream",
          "text": [
            "\r 68%|██████▊   | 250/367 [14:01<06:37,  3.40s/it]"
          ],
          "name": "stderr"
        },
        {
          "output_type": "stream",
          "text": [
            "SMA200_slope_rule:  True\n",
            "ENTG\n"
          ],
          "name": "stdout"
        },
        {
          "output_type": "stream",
          "text": [
            "\r 68%|██████▊   | 251/367 [14:04<06:31,  3.38s/it]"
          ],
          "name": "stderr"
        },
        {
          "output_type": "stream",
          "text": [
            "SMA200_slope_rule:  True\n",
            "TTC\n"
          ],
          "name": "stdout"
        },
        {
          "output_type": "stream",
          "text": [
            "\r 69%|██████▊   | 252/367 [14:08<06:48,  3.55s/it]"
          ],
          "name": "stderr"
        },
        {
          "output_type": "stream",
          "text": [
            "SMA200_slope_rule:  True\n",
            "EXPD\n"
          ],
          "name": "stdout"
        },
        {
          "output_type": "stream",
          "text": [
            "\r 69%|██████▉   | 253/367 [14:12<07:06,  3.74s/it]"
          ],
          "name": "stderr"
        },
        {
          "output_type": "stream",
          "text": [
            "SMA200_slope_rule:  True\n",
            "AEIS\n"
          ],
          "name": "stdout"
        },
        {
          "output_type": "stream",
          "text": [
            "\r 69%|██████▉   | 254/367 [14:16<07:07,  3.78s/it]"
          ],
          "name": "stderr"
        },
        {
          "output_type": "stream",
          "text": [
            "SMA200_slope_rule:  True\n",
            "SSD\n"
          ],
          "name": "stdout"
        },
        {
          "output_type": "stream",
          "text": [
            "\r 69%|██████▉   | 255/367 [14:20<07:05,  3.80s/it]"
          ],
          "name": "stderr"
        },
        {
          "output_type": "stream",
          "text": [
            "SMA200_slope_rule:  False\n",
            "RGLD\n"
          ],
          "name": "stdout"
        },
        {
          "output_type": "stream",
          "text": [
            "\r 70%|██████▉   | 256/367 [14:24<07:20,  3.97s/it]"
          ],
          "name": "stderr"
        },
        {
          "output_type": "stream",
          "text": [
            "SMA200_slope_rule:  False\n",
            "CPRT\n"
          ],
          "name": "stdout"
        },
        {
          "output_type": "stream",
          "text": [
            "\r 70%|███████   | 257/367 [14:28<06:57,  3.80s/it]"
          ],
          "name": "stderr"
        },
        {
          "output_type": "stream",
          "text": [
            "SMA200_slope_rule:  False\n",
            "HRC\n"
          ],
          "name": "stdout"
        },
        {
          "output_type": "stream",
          "text": [
            "\r 70%|███████   | 258/367 [14:31<06:17,  3.47s/it]"
          ],
          "name": "stderr"
        },
        {
          "output_type": "stream",
          "text": [
            "SMA200_slope_rule:  False\n",
            "DLTR\n"
          ],
          "name": "stdout"
        },
        {
          "output_type": "stream",
          "text": [
            "\r 71%|███████   | 259/367 [14:34<06:19,  3.51s/it]"
          ],
          "name": "stderr"
        },
        {
          "output_type": "stream",
          "text": [
            "SMA200_slope_rule:  True\n",
            "ICE\n"
          ],
          "name": "stdout"
        },
        {
          "output_type": "stream",
          "text": [
            "\r 71%|███████   | 260/367 [14:37<05:52,  3.29s/it]"
          ],
          "name": "stderr"
        },
        {
          "output_type": "stream",
          "text": [
            "SMA200_slope_rule:  True\n",
            "IBP\n"
          ],
          "name": "stdout"
        },
        {
          "output_type": "stream",
          "text": [
            "\r 71%|███████   | 261/367 [14:40<05:51,  3.32s/it]"
          ],
          "name": "stderr"
        },
        {
          "output_type": "stream",
          "text": [
            "SMA200_slope_rule:  True\n",
            "TSM\n"
          ],
          "name": "stdout"
        },
        {
          "output_type": "stream",
          "text": [
            "\r 71%|███████▏  | 262/367 [14:44<05:57,  3.40s/it]"
          ],
          "name": "stderr"
        },
        {
          "output_type": "stream",
          "text": [
            "SMA200_slope_rule:  True\n",
            "AMAT\n"
          ],
          "name": "stdout"
        },
        {
          "output_type": "stream",
          "text": [
            "\r 72%|███████▏  | 263/367 [14:48<06:06,  3.52s/it]"
          ],
          "name": "stderr"
        },
        {
          "output_type": "stream",
          "text": [
            "SMA200_slope_rule:  True\n",
            "TER\n"
          ],
          "name": "stdout"
        },
        {
          "output_type": "stream",
          "text": [
            "\r 72%|███████▏  | 264/367 [14:50<05:37,  3.28s/it]"
          ],
          "name": "stderr"
        },
        {
          "output_type": "stream",
          "text": [
            "SMA200_slope_rule:  True\n",
            "YY\n"
          ],
          "name": "stdout"
        },
        {
          "output_type": "stream",
          "text": [
            "\r 72%|███████▏  | 265/367 [14:54<05:39,  3.33s/it]"
          ],
          "name": "stderr"
        },
        {
          "output_type": "stream",
          "text": [
            "SMA200_slope_rule:  True\n",
            "ABT\n"
          ],
          "name": "stdout"
        },
        {
          "output_type": "stream",
          "text": [
            "\r 72%|███████▏  | 266/367 [14:58<06:04,  3.61s/it]"
          ],
          "name": "stderr"
        },
        {
          "output_type": "stream",
          "text": [
            "SMA200_slope_rule:  True\n",
            "GRVY\n"
          ],
          "name": "stdout"
        },
        {
          "output_type": "stream",
          "text": [
            "\r 73%|███████▎  | 267/367 [15:01<05:46,  3.47s/it]"
          ],
          "name": "stderr"
        },
        {
          "output_type": "stream",
          "text": [
            "SMA200_slope_rule:  False\n",
            "EXR\n"
          ],
          "name": "stdout"
        },
        {
          "output_type": "stream",
          "text": [
            "\r 73%|███████▎  | 268/367 [15:04<05:27,  3.30s/it]"
          ],
          "name": "stderr"
        },
        {
          "output_type": "stream",
          "text": [
            "SMA200_slope_rule:  True\n",
            "SJM\n"
          ],
          "name": "stdout"
        },
        {
          "output_type": "stream",
          "text": [
            "\r 73%|███████▎  | 269/367 [15:08<05:33,  3.40s/it]"
          ],
          "name": "stderr"
        },
        {
          "output_type": "stream",
          "text": [
            "SMA200_slope_rule:  False\n",
            "PKI\n"
          ],
          "name": "stdout"
        },
        {
          "output_type": "stream",
          "text": [
            "\r 74%|███████▎  | 270/367 [15:11<05:33,  3.44s/it]"
          ],
          "name": "stderr"
        },
        {
          "output_type": "stream",
          "text": [
            "SMA200_slope_rule:  False\n",
            "KMX\n"
          ],
          "name": "stdout"
        },
        {
          "output_type": "stream",
          "text": [
            "\r 74%|███████▍  | 271/367 [15:15<05:34,  3.49s/it]"
          ],
          "name": "stderr"
        },
        {
          "output_type": "stream",
          "text": [
            "SMA200_slope_rule:  False\n",
            "AVLR\n"
          ],
          "name": "stdout"
        },
        {
          "output_type": "stream",
          "text": [
            "\r 74%|███████▍  | 272/367 [15:19<05:40,  3.58s/it]"
          ],
          "name": "stderr"
        },
        {
          "output_type": "stream",
          "text": [
            "SMA200_slope_rule:  False\n",
            "QDEL\n"
          ],
          "name": "stdout"
        },
        {
          "output_type": "stream",
          "text": [
            "\r 74%|███████▍  | 273/367 [15:22<05:31,  3.52s/it]"
          ],
          "name": "stderr"
        },
        {
          "output_type": "stream",
          "text": [
            "SMA200_slope_rule:  False\n",
            "EVR\n"
          ],
          "name": "stdout"
        },
        {
          "output_type": "stream",
          "text": [
            "\r 75%|███████▍  | 274/367 [15:26<05:25,  3.50s/it]"
          ],
          "name": "stderr"
        },
        {
          "output_type": "stream",
          "text": [
            "SMA200_slope_rule:  True\n",
            "LCII\n"
          ],
          "name": "stdout"
        },
        {
          "output_type": "stream",
          "text": [
            "\r 75%|███████▍  | 275/367 [15:28<05:04,  3.31s/it]"
          ],
          "name": "stderr"
        },
        {
          "output_type": "stream",
          "text": [
            "SMA200_slope_rule:  False\n",
            "LGIH\n"
          ],
          "name": "stdout"
        },
        {
          "output_type": "stream",
          "text": [
            "\r 75%|███████▌  | 276/367 [15:32<04:56,  3.26s/it]"
          ],
          "name": "stderr"
        },
        {
          "output_type": "stream",
          "text": [
            "SMA200_slope_rule:  False\n",
            "SNBR\n"
          ],
          "name": "stdout"
        },
        {
          "output_type": "stream",
          "text": [
            "\r 75%|███████▌  | 277/367 [15:35<05:05,  3.39s/it]"
          ],
          "name": "stderr"
        },
        {
          "output_type": "stream",
          "text": [
            "SMA200_slope_rule:  True\n",
            "NDAQ\n"
          ],
          "name": "stdout"
        },
        {
          "output_type": "stream",
          "text": [
            "\r 76%|███████▌  | 278/367 [15:39<05:11,  3.50s/it]"
          ],
          "name": "stderr"
        },
        {
          "output_type": "stream",
          "text": [
            "SMA200_slope_rule:  False\n",
            "JOUT\n"
          ],
          "name": "stdout"
        },
        {
          "output_type": "stream",
          "text": [
            "\r 76%|███████▌  | 279/367 [15:43<05:15,  3.59s/it]"
          ],
          "name": "stderr"
        },
        {
          "output_type": "stream",
          "text": [
            "SMA200_slope_rule:  True\n",
            "SGEN\n"
          ],
          "name": "stdout"
        },
        {
          "output_type": "stream",
          "text": [
            "\r 76%|███████▋  | 280/367 [15:46<05:04,  3.50s/it]"
          ],
          "name": "stderr"
        },
        {
          "output_type": "stream",
          "text": [
            "SMA200_slope_rule:  False\n",
            "PRI\n"
          ],
          "name": "stdout"
        },
        {
          "output_type": "stream",
          "text": [
            "\r 77%|███████▋  | 281/367 [15:50<05:02,  3.51s/it]"
          ],
          "name": "stderr"
        },
        {
          "output_type": "stream",
          "text": [
            "SMA200_slope_rule:  False\n",
            "NXST\n"
          ],
          "name": "stdout"
        },
        {
          "output_type": "stream",
          "text": [
            "\r 77%|███████▋  | 282/367 [15:53<04:49,  3.40s/it]"
          ],
          "name": "stderr"
        },
        {
          "output_type": "stream",
          "text": [
            "SMA200_slope_rule:  True\n",
            "CRMT\n"
          ],
          "name": "stdout"
        },
        {
          "output_type": "stream",
          "text": [
            "\r 77%|███████▋  | 283/367 [15:56<04:46,  3.41s/it]"
          ],
          "name": "stderr"
        },
        {
          "output_type": "stream",
          "text": [
            "SMA200_slope_rule:  True\n",
            "CDW\n"
          ],
          "name": "stdout"
        },
        {
          "output_type": "stream",
          "text": [
            "\r 77%|███████▋  | 284/367 [15:59<04:37,  3.35s/it]"
          ],
          "name": "stderr"
        },
        {
          "output_type": "stream",
          "text": [
            "SMA200_slope_rule:  True\n",
            "ARE\n"
          ],
          "name": "stdout"
        },
        {
          "output_type": "stream",
          "text": [
            "\r 78%|███████▊  | 285/367 [16:03<04:29,  3.29s/it]"
          ],
          "name": "stderr"
        },
        {
          "output_type": "stream",
          "text": [
            "SMA200_slope_rule:  False\n",
            "MEDP\n"
          ],
          "name": "stdout"
        },
        {
          "output_type": "stream",
          "text": [
            "\r 78%|███████▊  | 286/367 [16:06<04:28,  3.31s/it]"
          ],
          "name": "stderr"
        },
        {
          "output_type": "stream",
          "text": [
            "SMA200_slope_rule:  True\n",
            "ITIC\n"
          ],
          "name": "stdout"
        },
        {
          "output_type": "stream",
          "text": [
            "\r 78%|███████▊  | 287/367 [16:10<04:34,  3.44s/it]"
          ],
          "name": "stderr"
        },
        {
          "output_type": "stream",
          "text": [
            "SMA200_slope_rule:  True\n",
            "FRC\n"
          ],
          "name": "stdout"
        },
        {
          "output_type": "stream",
          "text": [
            "\r 78%|███████▊  | 288/367 [16:13<04:37,  3.51s/it]"
          ],
          "name": "stderr"
        },
        {
          "output_type": "stream",
          "text": [
            "SMA200_slope_rule:  True\n",
            "KNSL\n"
          ],
          "name": "stdout"
        },
        {
          "output_type": "stream",
          "text": [
            "\r 79%|███████▊  | 289/367 [16:16<04:12,  3.24s/it]"
          ],
          "name": "stderr"
        },
        {
          "output_type": "stream",
          "text": [
            "SMA200_slope_rule:  False\n",
            "TROW\n"
          ],
          "name": "stdout"
        },
        {
          "output_type": "stream",
          "text": [
            "\r 79%|███████▉  | 290/367 [16:20<04:15,  3.32s/it]"
          ],
          "name": "stderr"
        },
        {
          "output_type": "stream",
          "text": [
            "SMA200_slope_rule:  True\n",
            "VRSK\n"
          ],
          "name": "stdout"
        },
        {
          "output_type": "stream",
          "text": [
            "\r 79%|███████▉  | 291/367 [16:23<04:14,  3.35s/it]"
          ],
          "name": "stderr"
        },
        {
          "output_type": "stream",
          "text": [
            "SMA200_slope_rule:  False\n",
            "MKSI\n"
          ],
          "name": "stdout"
        },
        {
          "output_type": "stream",
          "text": [
            "\r 80%|███████▉  | 292/367 [16:26<04:11,  3.35s/it]"
          ],
          "name": "stderr"
        },
        {
          "output_type": "stream",
          "text": [
            "SMA200_slope_rule:  True\n",
            "FTNT\n"
          ],
          "name": "stdout"
        },
        {
          "output_type": "stream",
          "text": [
            "\r 80%|███████▉  | 293/367 [16:30<04:09,  3.38s/it]"
          ],
          "name": "stderr"
        },
        {
          "output_type": "stream",
          "text": [
            "SMA200_slope_rule:  False\n",
            "PCTY\n"
          ],
          "name": "stdout"
        },
        {
          "output_type": "stream",
          "text": [
            "\r 80%|████████  | 294/367 [16:33<04:11,  3.44s/it]"
          ],
          "name": "stderr"
        },
        {
          "output_type": "stream",
          "text": [
            "SMA200_slope_rule:  False\n",
            "SITE\n"
          ],
          "name": "stdout"
        },
        {
          "output_type": "stream",
          "text": [
            "\r 80%|████████  | 295/367 [16:37<04:07,  3.44s/it]"
          ],
          "name": "stderr"
        },
        {
          "output_type": "stream",
          "text": [
            "SMA200_slope_rule:  True\n",
            "QRVO\n"
          ],
          "name": "stdout"
        },
        {
          "output_type": "stream",
          "text": [
            "\r 81%|████████  | 296/367 [16:40<04:03,  3.43s/it]"
          ],
          "name": "stderr"
        },
        {
          "output_type": "stream",
          "text": [
            "SMA200_slope_rule:  True\n",
            "RMD\n"
          ],
          "name": "stdout"
        },
        {
          "output_type": "stream",
          "text": [
            "\r 81%|████████  | 297/367 [16:44<04:00,  3.43s/it]"
          ],
          "name": "stderr"
        },
        {
          "output_type": "stream",
          "text": [
            "SMA200_slope_rule:  False\n",
            "DG\n"
          ],
          "name": "stdout"
        },
        {
          "output_type": "stream",
          "text": [
            "\r 81%|████████  | 298/367 [16:47<03:58,  3.46s/it]"
          ],
          "name": "stderr"
        },
        {
          "output_type": "stream",
          "text": [
            "SMA200_slope_rule:  False\n",
            "HCA\n"
          ],
          "name": "stdout"
        },
        {
          "output_type": "stream",
          "text": [
            "\r 81%|████████▏ | 299/367 [16:51<03:58,  3.51s/it]"
          ],
          "name": "stderr"
        },
        {
          "output_type": "stream",
          "text": [
            "SMA200_slope_rule:  True\n",
            "STMP\n"
          ],
          "name": "stdout"
        },
        {
          "output_type": "stream",
          "text": [
            "\r 82%|████████▏ | 300/367 [16:55<04:01,  3.60s/it]"
          ],
          "name": "stderr"
        },
        {
          "output_type": "stream",
          "text": [
            "SMA200_slope_rule:  False\n",
            "SWK\n"
          ],
          "name": "stdout"
        },
        {
          "output_type": "stream",
          "text": [
            "\r 82%|████████▏ | 301/367 [16:58<03:57,  3.60s/it]"
          ],
          "name": "stderr"
        },
        {
          "output_type": "stream",
          "text": [
            "SMA200_slope_rule:  True\n",
            "HII\n"
          ],
          "name": "stdout"
        },
        {
          "output_type": "stream",
          "text": [
            "\r 82%|████████▏ | 302/367 [17:02<03:57,  3.66s/it]"
          ],
          "name": "stderr"
        },
        {
          "output_type": "stream",
          "text": [
            "SMA200_slope_rule:  False\n",
            "RGEN\n"
          ],
          "name": "stdout"
        },
        {
          "output_type": "stream",
          "text": [
            "\r 83%|████████▎ | 303/367 [17:05<03:49,  3.59s/it]"
          ],
          "name": "stderr"
        },
        {
          "output_type": "stream",
          "text": [
            "SMA200_slope_rule:  True\n",
            "BLD\n"
          ],
          "name": "stdout"
        },
        {
          "output_type": "stream",
          "text": [
            "\r 83%|████████▎ | 304/367 [17:09<03:46,  3.59s/it]"
          ],
          "name": "stderr"
        },
        {
          "output_type": "stream",
          "text": [
            "SMA200_slope_rule:  True\n",
            "ETSY\n"
          ],
          "name": "stdout"
        },
        {
          "output_type": "stream",
          "text": [
            "\r 83%|████████▎ | 305/367 [17:12<03:40,  3.56s/it]"
          ],
          "name": "stderr"
        },
        {
          "output_type": "stream",
          "text": [
            "SMA200_slope_rule:  True\n",
            "SAIA\n"
          ],
          "name": "stdout"
        },
        {
          "output_type": "stream",
          "text": [
            "\r 83%|████████▎ | 306/367 [17:16<03:34,  3.52s/it]"
          ],
          "name": "stderr"
        },
        {
          "output_type": "stream",
          "text": [
            "SMA200_slope_rule:  True\n",
            "MASI\n"
          ],
          "name": "stdout"
        },
        {
          "output_type": "stream",
          "text": [
            "\r 84%|████████▎ | 307/367 [17:20<03:37,  3.63s/it]"
          ],
          "name": "stderr"
        },
        {
          "output_type": "stream",
          "text": [
            "SMA200_slope_rule:  False\n",
            "DHR\n"
          ],
          "name": "stdout"
        },
        {
          "output_type": "stream",
          "text": [
            "\r 84%|████████▍ | 308/367 [17:24<03:41,  3.76s/it]"
          ],
          "name": "stderr"
        },
        {
          "output_type": "stream",
          "text": [
            "SMA200_slope_rule:  False\n",
            "SNPS\n"
          ],
          "name": "stdout"
        },
        {
          "output_type": "stream",
          "text": [
            "\r 84%|████████▍ | 309/367 [17:27<03:31,  3.65s/it]"
          ],
          "name": "stderr"
        },
        {
          "output_type": "stream",
          "text": [
            "SMA200_slope_rule:  False\n",
            "MSFT\n"
          ],
          "name": "stdout"
        },
        {
          "output_type": "stream",
          "text": [
            "\r 84%|████████▍ | 310/367 [17:30<03:15,  3.43s/it]"
          ],
          "name": "stderr"
        },
        {
          "output_type": "stream",
          "text": [
            "SMA200_slope_rule:  False\n",
            "ODFL\n"
          ],
          "name": "stdout"
        },
        {
          "output_type": "stream",
          "text": [
            "\r 85%|████████▍ | 311/367 [17:34<03:16,  3.50s/it]"
          ],
          "name": "stderr"
        },
        {
          "output_type": "stream",
          "text": [
            "SMA200_slope_rule:  True\n",
            "MORN\n"
          ],
          "name": "stdout"
        },
        {
          "output_type": "stream",
          "text": [
            "\r 85%|████████▌ | 312/367 [17:37<03:02,  3.32s/it]"
          ],
          "name": "stderr"
        },
        {
          "output_type": "stream",
          "text": [
            "SMA200_slope_rule:  True\n",
            "MED\n"
          ],
          "name": "stdout"
        },
        {
          "output_type": "stream",
          "text": [
            "\r 85%|████████▌ | 313/367 [17:40<03:03,  3.41s/it]"
          ],
          "name": "stderr"
        },
        {
          "output_type": "stream",
          "text": [
            "SMA200_slope_rule:  True\n",
            "BABA\n"
          ],
          "name": "stdout"
        },
        {
          "output_type": "stream",
          "text": [
            "\r 86%|████████▌ | 314/367 [17:44<03:01,  3.42s/it]"
          ],
          "name": "stderr"
        },
        {
          "output_type": "stream",
          "text": [
            "SMA200_slope_rule:  False\n",
            "LH\n"
          ],
          "name": "stdout"
        },
        {
          "output_type": "stream",
          "text": [
            "\r 86%|████████▌ | 315/367 [17:47<02:57,  3.42s/it]"
          ],
          "name": "stderr"
        },
        {
          "output_type": "stream",
          "text": [
            "SMA200_slope_rule:  True\n",
            "PYPL\n"
          ],
          "name": "stdout"
        },
        {
          "output_type": "stream",
          "text": [
            "\r 86%|████████▌ | 316/367 [17:51<02:56,  3.46s/it]"
          ],
          "name": "stderr"
        },
        {
          "output_type": "stream",
          "text": [
            "SMA200_slope_rule:  True\n",
            "CI\n"
          ],
          "name": "stdout"
        },
        {
          "output_type": "stream",
          "text": [
            "\r 86%|████████▋ | 317/367 [17:54<02:54,  3.50s/it]"
          ],
          "name": "stderr"
        },
        {
          "output_type": "stream",
          "text": [
            "SMA200_slope_rule:  True\n",
            "CACI\n"
          ],
          "name": "stdout"
        },
        {
          "output_type": "stream",
          "text": [
            "\r 87%|████████▋ | 318/367 [17:58<02:48,  3.43s/it]"
          ],
          "name": "stderr"
        },
        {
          "output_type": "stream",
          "text": [
            "SMA200_slope_rule:  False\n",
            "VEEV\n"
          ],
          "name": "stdout"
        },
        {
          "output_type": "stream",
          "text": [
            "\r 87%|████████▋ | 319/367 [18:01<02:47,  3.49s/it]"
          ],
          "name": "stderr"
        },
        {
          "output_type": "stream",
          "text": [
            "SMA200_slope_rule:  False\n",
            "ESGR\n"
          ],
          "name": "stdout"
        },
        {
          "output_type": "stream",
          "text": [
            "\r 87%|████████▋ | 320/367 [18:04<02:35,  3.31s/it]"
          ],
          "name": "stderr"
        },
        {
          "output_type": "stream",
          "text": [
            "SMA200_slope_rule:  True\n",
            "ADSK\n"
          ],
          "name": "stdout"
        },
        {
          "output_type": "stream",
          "text": [
            "\r 87%|████████▋ | 321/367 [18:07<02:26,  3.18s/it]"
          ],
          "name": "stderr"
        },
        {
          "output_type": "stream",
          "text": [
            "SMA200_slope_rule:  False\n",
            "ACN\n"
          ],
          "name": "stdout"
        },
        {
          "output_type": "stream",
          "text": [
            "\r 88%|████████▊ | 322/367 [18:11<02:38,  3.52s/it]"
          ],
          "name": "stderr"
        },
        {
          "output_type": "stream",
          "text": [
            "SMA200_slope_rule:  True\n",
            "AMED\n"
          ],
          "name": "stdout"
        },
        {
          "output_type": "stream",
          "text": [
            "\r 88%|████████▊ | 323/367 [18:14<02:28,  3.38s/it]"
          ],
          "name": "stderr"
        },
        {
          "output_type": "stream",
          "text": [
            "SMA200_slope_rule:  False\n",
            "WST\n"
          ],
          "name": "stdout"
        },
        {
          "output_type": "stream",
          "text": [
            "\r 88%|████████▊ | 324/367 [18:18<02:27,  3.42s/it]"
          ],
          "name": "stderr"
        },
        {
          "output_type": "stream",
          "text": [
            "SMA200_slope_rule:  False\n",
            "FDX\n"
          ],
          "name": "stdout"
        },
        {
          "output_type": "stream",
          "text": [
            "\r 89%|████████▊ | 325/367 [18:21<02:21,  3.38s/it]"
          ],
          "name": "stderr"
        },
        {
          "output_type": "stream",
          "text": [
            "SMA200_slope_rule:  True\n",
            "CRL\n"
          ],
          "name": "stdout"
        },
        {
          "output_type": "stream",
          "text": [
            "\r 89%|████████▉ | 326/367 [18:25<02:23,  3.51s/it]"
          ],
          "name": "stderr"
        },
        {
          "output_type": "stream",
          "text": [
            "SMA200_slope_rule:  True\n",
            "HD\n"
          ],
          "name": "stdout"
        },
        {
          "output_type": "stream",
          "text": [
            "\r 89%|████████▉ | 327/367 [18:29<02:26,  3.66s/it]"
          ],
          "name": "stderr"
        },
        {
          "output_type": "stream",
          "text": [
            "SMA200_slope_rule:  False\n",
            "FB\n"
          ],
          "name": "stdout"
        },
        {
          "output_type": "stream",
          "text": [
            "\r 89%|████████▉ | 328/367 [18:33<02:21,  3.64s/it]"
          ],
          "name": "stderr"
        },
        {
          "output_type": "stream",
          "text": [
            "SMA200_slope_rule:  False\n",
            "COKE\n"
          ],
          "name": "stdout"
        },
        {
          "output_type": "stream",
          "text": [
            "\r 90%|████████▉ | 329/367 [18:35<02:06,  3.33s/it]"
          ],
          "name": "stderr"
        },
        {
          "output_type": "stream",
          "text": [
            "SMA200_slope_rule:  False\n",
            "GNRC\n"
          ],
          "name": "stdout"
        },
        {
          "output_type": "stream",
          "text": [
            "\r 90%|████████▉ | 330/367 [18:38<02:00,  3.25s/it]"
          ],
          "name": "stderr"
        },
        {
          "output_type": "stream",
          "text": [
            "SMA200_slope_rule:  True\n",
            "NOC\n"
          ],
          "name": "stdout"
        },
        {
          "output_type": "stream",
          "text": [
            "\r 90%|█████████ | 331/367 [18:41<01:56,  3.24s/it]"
          ],
          "name": "stderr"
        },
        {
          "output_type": "stream",
          "text": [
            "SMA200_slope_rule:  False\n",
            "LULU\n"
          ],
          "name": "stdout"
        },
        {
          "output_type": "stream",
          "text": [
            "\r 90%|█████████ | 332/367 [18:45<01:56,  3.33s/it]"
          ],
          "name": "stderr"
        },
        {
          "output_type": "stream",
          "text": [
            "SMA200_slope_rule:  False\n",
            "FDS\n"
          ],
          "name": "stdout"
        },
        {
          "output_type": "stream",
          "text": [
            "\r 91%|█████████ | 333/367 [18:48<01:54,  3.36s/it]"
          ],
          "name": "stderr"
        },
        {
          "output_type": "stream",
          "text": [
            "SMA200_slope_rule:  False\n",
            "MLM\n"
          ],
          "name": "stdout"
        },
        {
          "output_type": "stream",
          "text": [
            "\r 91%|█████████ | 334/367 [18:52<01:48,  3.30s/it]"
          ],
          "name": "stderr"
        },
        {
          "output_type": "stream",
          "text": [
            "SMA200_slope_rule:  True\n",
            "W\n"
          ],
          "name": "stdout"
        },
        {
          "output_type": "stream",
          "text": [
            "\r 91%|█████████▏| 335/367 [18:55<01:45,  3.29s/it]"
          ],
          "name": "stderr"
        },
        {
          "output_type": "stream",
          "text": [
            "SMA200_slope_rule:  False\n",
            "POOL\n"
          ],
          "name": "stdout"
        },
        {
          "output_type": "stream",
          "text": [
            "\r 92%|█████████▏| 336/367 [18:59<01:48,  3.51s/it]"
          ],
          "name": "stderr"
        },
        {
          "output_type": "stream",
          "text": [
            "SMA200_slope_rule:  False\n",
            "MPWR\n"
          ],
          "name": "stdout"
        },
        {
          "output_type": "stream",
          "text": [
            "\r 92%|█████████▏| 337/367 [19:02<01:46,  3.54s/it]"
          ],
          "name": "stderr"
        },
        {
          "output_type": "stream",
          "text": [
            "SMA200_slope_rule:  True\n",
            "UI\n"
          ],
          "name": "stdout"
        },
        {
          "output_type": "stream",
          "text": [
            "\r 92%|█████████▏| 338/367 [19:05<01:36,  3.32s/it]"
          ],
          "name": "stderr"
        },
        {
          "output_type": "stream",
          "text": [
            "SMA200_slope_rule:  True\n",
            "DXCM\n"
          ],
          "name": "stdout"
        },
        {
          "output_type": "stream",
          "text": [
            "\r 92%|█████████▏| 339/367 [19:09<01:32,  3.29s/it]"
          ],
          "name": "stderr"
        },
        {
          "output_type": "stream",
          "text": [
            "SMA200_slope_rule:  False\n",
            "ROKU\n"
          ],
          "name": "stdout"
        },
        {
          "output_type": "stream",
          "text": [
            "\r 93%|█████████▎| 340/367 [19:11<01:21,  3.03s/it]"
          ],
          "name": "stderr"
        },
        {
          "output_type": "stream",
          "text": [
            "SMA200_slope_rule:  True\n",
            "LMT\n"
          ],
          "name": "stdout"
        },
        {
          "output_type": "stream",
          "text": [
            "\r 93%|█████████▎| 341/367 [19:15<01:25,  3.29s/it]"
          ],
          "name": "stderr"
        },
        {
          "output_type": "stream",
          "text": [
            "SMA200_slope_rule:  False\n",
            "DPZ\n"
          ],
          "name": "stdout"
        },
        {
          "output_type": "stream",
          "text": [
            "\r 93%|█████████▎| 342/367 [19:18<01:22,  3.31s/it]"
          ],
          "name": "stderr"
        },
        {
          "output_type": "stream",
          "text": [
            "SMA200_slope_rule:  False\n",
            "EPAM\n"
          ],
          "name": "stdout"
        },
        {
          "output_type": "stream",
          "text": [
            "\r 93%|█████████▎| 343/367 [19:21<01:19,  3.29s/it]"
          ],
          "name": "stderr"
        },
        {
          "output_type": "stream",
          "text": [
            "SMA200_slope_rule:  True\n",
            "LAD\n"
          ],
          "name": "stdout"
        },
        {
          "output_type": "stream",
          "text": [
            "\r 94%|█████████▎| 344/367 [19:24<01:12,  3.15s/it]"
          ],
          "name": "stderr"
        },
        {
          "output_type": "stream",
          "text": [
            "SMA200_slope_rule:  True\n",
            "MSCI\n"
          ],
          "name": "stdout"
        },
        {
          "output_type": "stream",
          "text": [
            "\r 94%|█████████▍| 345/367 [19:28<01:13,  3.36s/it]"
          ],
          "name": "stderr"
        },
        {
          "output_type": "stream",
          "text": [
            "SMA200_slope_rule:  True\n",
            "ADBE\n"
          ],
          "name": "stdout"
        },
        {
          "output_type": "stream",
          "text": [
            "\r 94%|█████████▍| 346/367 [19:32<01:13,  3.50s/it]"
          ],
          "name": "stderr"
        },
        {
          "output_type": "stream",
          "text": [
            "SMA200_slope_rule:  False\n",
            "TMO\n"
          ],
          "name": "stdout"
        },
        {
          "output_type": "stream",
          "text": [
            "\r 95%|█████████▍| 347/367 [19:36<01:10,  3.53s/it]"
          ],
          "name": "stderr"
        },
        {
          "output_type": "stream",
          "text": [
            "SMA200_slope_rule:  False\n",
            "REGN\n"
          ],
          "name": "stdout"
        },
        {
          "output_type": "stream",
          "text": [
            "\r 95%|█████████▍| 348/367 [19:39<01:07,  3.55s/it]"
          ],
          "name": "stderr"
        },
        {
          "output_type": "stream",
          "text": [
            "SMA200_slope_rule:  False\n",
            "IDXX\n"
          ],
          "name": "stdout"
        },
        {
          "output_type": "stream",
          "text": [
            "\r 95%|█████████▌| 349/367 [19:43<01:04,  3.58s/it]"
          ],
          "name": "stderr"
        },
        {
          "output_type": "stream",
          "text": [
            "SMA200_slope_rule:  True\n",
            "ORLY\n"
          ],
          "name": "stdout"
        },
        {
          "output_type": "stream",
          "text": [
            "\r 95%|█████████▌| 350/367 [19:45<00:56,  3.32s/it]"
          ],
          "name": "stderr"
        },
        {
          "output_type": "stream",
          "text": [
            "SMA200_slope_rule:  False\n",
            "MKTX\n"
          ],
          "name": "stdout"
        },
        {
          "output_type": "stream",
          "text": [
            "\r 96%|█████████▌| 351/367 [19:49<00:54,  3.39s/it]"
          ],
          "name": "stderr"
        },
        {
          "output_type": "stream",
          "text": [
            "SMA200_slope_rule:  False\n",
            "NVDA\n"
          ],
          "name": "stdout"
        },
        {
          "output_type": "stream",
          "text": [
            "\r 96%|█████████▌| 352/367 [19:53<00:52,  3.52s/it]"
          ],
          "name": "stderr"
        },
        {
          "output_type": "stream",
          "text": [
            "SMA200_slope_rule:  False\n",
            "ALGN\n"
          ],
          "name": "stdout"
        },
        {
          "output_type": "stream",
          "text": [
            "\r 96%|█████████▌| 353/367 [19:56<00:49,  3.52s/it]"
          ],
          "name": "stderr"
        },
        {
          "output_type": "stream",
          "text": [
            "SMA200_slope_rule:  True\n",
            "LRCX\n"
          ],
          "name": "stdout"
        },
        {
          "output_type": "stream",
          "text": [
            "\r 96%|█████████▋| 354/367 [20:00<00:46,  3.58s/it]"
          ],
          "name": "stderr"
        },
        {
          "output_type": "stream",
          "text": [
            "SMA200_slope_rule:  True\n",
            "ASML\n"
          ],
          "name": "stdout"
        },
        {
          "output_type": "stream",
          "text": [
            "\r 97%|█████████▋| 355/367 [20:04<00:42,  3.57s/it]"
          ],
          "name": "stderr"
        },
        {
          "output_type": "stream",
          "text": [
            "SMA200_slope_rule:  True\n",
            "CHTR\n"
          ],
          "name": "stdout"
        },
        {
          "output_type": "stream",
          "text": [
            "\r 97%|█████████▋| 356/367 [20:07<00:39,  3.60s/it]"
          ],
          "name": "stderr"
        },
        {
          "output_type": "stream",
          "text": [
            "SMA200_slope_rule:  False\n",
            "SHW\n"
          ],
          "name": "stdout"
        },
        {
          "output_type": "stream",
          "text": [
            "\r 97%|█████████▋| 357/367 [20:11<00:36,  3.68s/it]"
          ],
          "name": "stderr"
        },
        {
          "output_type": "stream",
          "text": [
            "SMA200_slope_rule:  False\n",
            "BLK\n"
          ],
          "name": "stdout"
        },
        {
          "output_type": "stream",
          "text": [
            "\r 98%|█████████▊| 358/367 [20:15<00:33,  3.74s/it]"
          ],
          "name": "stderr"
        },
        {
          "output_type": "stream",
          "text": [
            "SMA200_slope_rule:  True\n",
            "TTD\n"
          ],
          "name": "stdout"
        },
        {
          "output_type": "stream",
          "text": [
            "\r 98%|█████████▊| 359/367 [20:18<00:26,  3.37s/it]"
          ],
          "name": "stderr"
        },
        {
          "output_type": "stream",
          "text": [
            "SMA200_slope_rule:  False\n",
            "FCNCA\n"
          ],
          "name": "stdout"
        },
        {
          "output_type": "stream",
          "text": [
            "\r 98%|█████████▊| 360/367 [20:22<00:25,  3.61s/it]"
          ],
          "name": "stderr"
        },
        {
          "output_type": "stream",
          "text": [
            "SMA200_slope_rule:  True\n",
            "SAM\n"
          ],
          "name": "stdout"
        },
        {
          "output_type": "stream",
          "text": [
            "\r 98%|█████████▊| 361/367 [20:24<00:20,  3.35s/it]"
          ],
          "name": "stderr"
        },
        {
          "output_type": "stream",
          "text": [
            "SMA200_slope_rule:  True\n",
            "SHOP\n"
          ],
          "name": "stdout"
        },
        {
          "output_type": "stream",
          "text": [
            "\r 99%|█████████▊| 362/367 [20:28<00:17,  3.42s/it]"
          ],
          "name": "stderr"
        },
        {
          "output_type": "stream",
          "text": [
            "SMA200_slope_rule:  True\n",
            "MTD\n"
          ],
          "name": "stdout"
        },
        {
          "output_type": "stream",
          "text": [
            "\r 99%|█████████▉| 363/367 [20:31<00:12,  3.17s/it]"
          ],
          "name": "stderr"
        },
        {
          "output_type": "stream",
          "text": [
            "SMA200_slope_rule:  False\n",
            "WTM\n"
          ],
          "name": "stdout"
        },
        {
          "output_type": "stream",
          "text": [
            "\r 99%|█████████▉| 364/367 [20:34<00:09,  3.30s/it]"
          ],
          "name": "stderr"
        },
        {
          "output_type": "stream",
          "text": [
            "SMA200_slope_rule:  True\n",
            "CABO\n"
          ],
          "name": "stdout"
        },
        {
          "output_type": "stream",
          "text": [
            "\r 99%|█████████▉| 365/367 [20:38<00:06,  3.41s/it]"
          ],
          "name": "stderr"
        },
        {
          "output_type": "stream",
          "text": [
            "SMA200_slope_rule:  False\n",
            "GOOGL\n"
          ],
          "name": "stdout"
        },
        {
          "output_type": "stream",
          "text": [
            "\r100%|█████████▉| 366/367 [20:41<00:03,  3.46s/it]"
          ],
          "name": "stderr"
        },
        {
          "output_type": "stream",
          "text": [
            "SMA200_slope_rule:  True\n",
            "AMZN\n"
          ],
          "name": "stdout"
        },
        {
          "output_type": "stream",
          "text": [
            "100%|██████████| 367/367 [20:45<00:00,  3.39s/it]"
          ],
          "name": "stderr"
        },
        {
          "output_type": "stream",
          "text": [
            "SMA200_slope_rule:  False\n"
          ],
          "name": "stdout"
        },
        {
          "output_type": "stream",
          "text": [
            "\n"
          ],
          "name": "stderr"
        }
      ]
    },
    {
      "cell_type": "code",
      "metadata": {
        "id": "oi45Ffb_ycRk"
      },
      "source": [
        "rules = [col for col in df_out.columns if \"rule\" in col]\n",
        "df_out['Passed Tests'] = (df_out[list(rules)]).sum(1)"
      ],
      "execution_count": 6,
      "outputs": []
    },
    {
      "cell_type": "code",
      "metadata": {
        "id": "ZEkIa-4ZycRk",
        "colab": {
          "base_uri": "https://localhost:8080/",
          "height": 456
        },
        "outputId": "d6d0507c-fef4-46a9-b542-a5342a790eed"
      },
      "source": [
        "df_out.sort_values('Passed Tests', ascending=False)"
      ],
      "execution_count": 7,
      "outputs": [
        {
          "output_type": "execute_result",
          "data": {
            "text/html": [
              "<div>\n",
              "<style scoped>\n",
              "    .dataframe tbody tr th:only-of-type {\n",
              "        vertical-align: middle;\n",
              "    }\n",
              "\n",
              "    .dataframe tbody tr th {\n",
              "        vertical-align: top;\n",
              "    }\n",
              "\n",
              "    .dataframe thead th {\n",
              "        text-align: right;\n",
              "    }\n",
              "</style>\n",
              "<table border=\"1\" class=\"dataframe\">\n",
              "  <thead>\n",
              "    <tr style=\"text-align: right;\">\n",
              "      <th></th>\n",
              "      <th>Ticker</th>\n",
              "      <th>SMA200_value</th>\n",
              "      <th>SMA150_value</th>\n",
              "      <th>SMA50_value</th>\n",
              "      <th>SMA200_percent</th>\n",
              "      <th>SMA50_percent</th>\n",
              "      <th>EPS_QoQ_percent</th>\n",
              "      <th>EPS_ttm</th>\n",
              "      <th>Sales_QoQ_percent</th>\n",
              "      <th>prev_close</th>\n",
              "      <th>week52_high</th>\n",
              "      <th>week52_low</th>\n",
              "      <th>Inst. Ownership</th>\n",
              "      <th>Shares Outstanding</th>\n",
              "      <th>volume</th>\n",
              "      <th>vol_price_rule</th>\n",
              "      <th>eps_ttm_rule</th>\n",
              "      <th>eps_QoQ_yearly_rule</th>\n",
              "      <th>sales_QoQ_yearly_rule</th>\n",
              "      <th>shares_outstanding_rule</th>\n",
              "      <th>inst_ownership_rule</th>\n",
              "      <th>SMA200_slope_rule</th>\n",
              "      <th>SMA150_greater_SMA200_rule</th>\n",
              "      <th>SMA50_greater_SMA150_rule</th>\n",
              "      <th>close_greater_SMA50_rule</th>\n",
              "      <th>week52_span_rule</th>\n",
              "      <th>close_above_52weekhigh_rule</th>\n",
              "      <th>Passed Tests</th>\n",
              "    </tr>\n",
              "  </thead>\n",
              "  <tbody>\n",
              "    <tr>\n",
              "      <th>113</th>\n",
              "      <td>MPB</td>\n",
              "      <td>22.262014</td>\n",
              "      <td>23.441250</td>\n",
              "      <td>25.085555</td>\n",
              "      <td>31.12</td>\n",
              "      <td>13.90</td>\n",
              "      <td>107.9</td>\n",
              "      <td>3.11</td>\n",
              "      <td>33.5</td>\n",
              "      <td>27.31</td>\n",
              "      <td>29.410000</td>\n",
              "      <td>15.900000</td>\n",
              "      <td>21.9</td>\n",
              "      <td>8420000.0</td>\n",
              "      <td>47993.0</td>\n",
              "      <td>False</td>\n",
              "      <td>True</td>\n",
              "      <td>True</td>\n",
              "      <td>True</td>\n",
              "      <td>True</td>\n",
              "      <td>True</td>\n",
              "      <td>True</td>\n",
              "      <td>True</td>\n",
              "      <td>True</td>\n",
              "      <td>True</td>\n",
              "      <td>True</td>\n",
              "      <td>True</td>\n",
              "      <td>11</td>\n",
              "    </tr>\n",
              "    <tr>\n",
              "      <th>319</th>\n",
              "      <td>ESGR</td>\n",
              "      <td>197.908704</td>\n",
              "      <td>208.792692</td>\n",
              "      <td>229.037500</td>\n",
              "      <td>38.53</td>\n",
              "      <td>16.77</td>\n",
              "      <td>306.6</td>\n",
              "      <td>77.78</td>\n",
              "      <td>128.4</td>\n",
              "      <td>266.43</td>\n",
              "      <td>266.429993</td>\n",
              "      <td>123.599998</td>\n",
              "      <td>84.9</td>\n",
              "      <td>21510000.0</td>\n",
              "      <td>165818.0</td>\n",
              "      <td>True</td>\n",
              "      <td>True</td>\n",
              "      <td>True</td>\n",
              "      <td>True</td>\n",
              "      <td>True</td>\n",
              "      <td>False</td>\n",
              "      <td>True</td>\n",
              "      <td>True</td>\n",
              "      <td>True</td>\n",
              "      <td>True</td>\n",
              "      <td>True</td>\n",
              "      <td>True</td>\n",
              "      <td>11</td>\n",
              "    </tr>\n",
              "    <tr>\n",
              "      <th>337</th>\n",
              "      <td>UI</td>\n",
              "      <td>249.652446</td>\n",
              "      <td>276.253846</td>\n",
              "      <td>332.160833</td>\n",
              "      <td>50.73</td>\n",
              "      <td>10.59</td>\n",
              "      <td>92.5</td>\n",
              "      <td>8.05</td>\n",
              "      <td>55.5</td>\n",
              "      <td>337.74</td>\n",
              "      <td>357.070007</td>\n",
              "      <td>127.389999</td>\n",
              "      <td>7.5</td>\n",
              "      <td>62820000.0</td>\n",
              "      <td>177878.0</td>\n",
              "      <td>True</td>\n",
              "      <td>True</td>\n",
              "      <td>True</td>\n",
              "      <td>True</td>\n",
              "      <td>False</td>\n",
              "      <td>True</td>\n",
              "      <td>True</td>\n",
              "      <td>True</td>\n",
              "      <td>True</td>\n",
              "      <td>True</td>\n",
              "      <td>True</td>\n",
              "      <td>True</td>\n",
              "      <td>11</td>\n",
              "    </tr>\n",
              "    <tr>\n",
              "      <th>196</th>\n",
              "      <td>HZO</td>\n",
              "      <td>36.307914</td>\n",
              "      <td>39.576827</td>\n",
              "      <td>48.849445</td>\n",
              "      <td>85.85</td>\n",
              "      <td>31.35</td>\n",
              "      <td>150.7</td>\n",
              "      <td>3.98</td>\n",
              "      <td>35.3</td>\n",
              "      <td>59.83</td>\n",
              "      <td>61.770000</td>\n",
              "      <td>7.870000</td>\n",
              "      <td>0.0</td>\n",
              "      <td>22030000.0</td>\n",
              "      <td>667859.0</td>\n",
              "      <td>True</td>\n",
              "      <td>True</td>\n",
              "      <td>True</td>\n",
              "      <td>True</td>\n",
              "      <td>True</td>\n",
              "      <td>False</td>\n",
              "      <td>True</td>\n",
              "      <td>True</td>\n",
              "      <td>True</td>\n",
              "      <td>True</td>\n",
              "      <td>True</td>\n",
              "      <td>True</td>\n",
              "      <td>11</td>\n",
              "    </tr>\n",
              "    <tr>\n",
              "      <th>83</th>\n",
              "      <td>CBNK</td>\n",
              "      <td>13.030216</td>\n",
              "      <td>14.029615</td>\n",
              "      <td>16.689167</td>\n",
              "      <td>63.52</td>\n",
              "      <td>25.76</td>\n",
              "      <td>96.7</td>\n",
              "      <td>1.87</td>\n",
              "      <td>33.5</td>\n",
              "      <td>19.09</td>\n",
              "      <td>20.750000</td>\n",
              "      <td>9.060000</td>\n",
              "      <td>25.9</td>\n",
              "      <td>13690000.0</td>\n",
              "      <td>164609.0</td>\n",
              "      <td>False</td>\n",
              "      <td>True</td>\n",
              "      <td>True</td>\n",
              "      <td>True</td>\n",
              "      <td>True</td>\n",
              "      <td>True</td>\n",
              "      <td>True</td>\n",
              "      <td>True</td>\n",
              "      <td>True</td>\n",
              "      <td>True</td>\n",
              "      <td>True</td>\n",
              "      <td>True</td>\n",
              "      <td>11</td>\n",
              "    </tr>\n",
              "    <tr>\n",
              "      <th>...</th>\n",
              "      <td>...</td>\n",
              "      <td>...</td>\n",
              "      <td>...</td>\n",
              "      <td>...</td>\n",
              "      <td>...</td>\n",
              "      <td>...</td>\n",
              "      <td>...</td>\n",
              "      <td>...</td>\n",
              "      <td>...</td>\n",
              "      <td>...</td>\n",
              "      <td>...</td>\n",
              "      <td>...</td>\n",
              "      <td>...</td>\n",
              "      <td>...</td>\n",
              "      <td>...</td>\n",
              "      <td>...</td>\n",
              "      <td>...</td>\n",
              "      <td>...</td>\n",
              "      <td>...</td>\n",
              "      <td>...</td>\n",
              "      <td>...</td>\n",
              "      <td>...</td>\n",
              "      <td>...</td>\n",
              "      <td>...</td>\n",
              "      <td>...</td>\n",
              "      <td>...</td>\n",
              "      <td>...</td>\n",
              "      <td>...</td>\n",
              "    </tr>\n",
              "    <tr>\n",
              "      <th>27</th>\n",
              "      <td>CXDO</td>\n",
              "      <td>6.770719</td>\n",
              "      <td>6.720048</td>\n",
              "      <td>6.470278</td>\n",
              "      <td>-4.76</td>\n",
              "      <td>-1.11</td>\n",
              "      <td>3040.8</td>\n",
              "      <td>0.42</td>\n",
              "      <td>16.2</td>\n",
              "      <td>6.44</td>\n",
              "      <td>11.290000</td>\n",
              "      <td>3.300000</td>\n",
              "      <td>8.8</td>\n",
              "      <td>17900000.0</td>\n",
              "      <td>9588.0</td>\n",
              "      <td>False</td>\n",
              "      <td>False</td>\n",
              "      <td>True</td>\n",
              "      <td>False</td>\n",
              "      <td>True</td>\n",
              "      <td>True</td>\n",
              "      <td>False</td>\n",
              "      <td>False</td>\n",
              "      <td>False</td>\n",
              "      <td>False</td>\n",
              "      <td>True</td>\n",
              "      <td>False</td>\n",
              "      <td>4</td>\n",
              "    </tr>\n",
              "    <tr>\n",
              "      <th>12</th>\n",
              "      <td>QTNT</td>\n",
              "      <td>5.439496</td>\n",
              "      <td>5.516250</td>\n",
              "      <td>4.762500</td>\n",
              "      <td>-31.45</td>\n",
              "      <td>-19.41</td>\n",
              "      <td>20.9</td>\n",
              "      <td>-1.10</td>\n",
              "      <td>11.4</td>\n",
              "      <td>4.04</td>\n",
              "      <td>9.260000</td>\n",
              "      <td>3.000000</td>\n",
              "      <td>92.3</td>\n",
              "      <td>101020000.0</td>\n",
              "      <td>1953003.0</td>\n",
              "      <td>False</td>\n",
              "      <td>False</td>\n",
              "      <td>True</td>\n",
              "      <td>False</td>\n",
              "      <td>False</td>\n",
              "      <td>False</td>\n",
              "      <td>False</td>\n",
              "      <td>True</td>\n",
              "      <td>False</td>\n",
              "      <td>False</td>\n",
              "      <td>True</td>\n",
              "      <td>False</td>\n",
              "      <td>3</td>\n",
              "    </tr>\n",
              "    <tr>\n",
              "      <th>8</th>\n",
              "      <td>IAG</td>\n",
              "      <td>3.604460</td>\n",
              "      <td>3.469904</td>\n",
              "      <td>3.275556</td>\n",
              "      <td>-13.91</td>\n",
              "      <td>-2.00</td>\n",
              "      <td>117.7</td>\n",
              "      <td>0.07</td>\n",
              "      <td>18.4</td>\n",
              "      <td>3.23</td>\n",
              "      <td>5.200000</td>\n",
              "      <td>2.000000</td>\n",
              "      <td>76.8</td>\n",
              "      <td>474700000.0</td>\n",
              "      <td>9010808.0</td>\n",
              "      <td>True</td>\n",
              "      <td>False</td>\n",
              "      <td>True</td>\n",
              "      <td>False</td>\n",
              "      <td>False</td>\n",
              "      <td>False</td>\n",
              "      <td>False</td>\n",
              "      <td>False</td>\n",
              "      <td>False</td>\n",
              "      <td>False</td>\n",
              "      <td>True</td>\n",
              "      <td>False</td>\n",
              "      <td>3</td>\n",
              "    </tr>\n",
              "    <tr>\n",
              "      <th>347</th>\n",
              "      <td>REGN</td>\n",
              "      <td>525.456980</td>\n",
              "      <td>507.458462</td>\n",
              "      <td>477.504722</td>\n",
              "      <td>-14.62</td>\n",
              "      <td>-3.25</td>\n",
              "      <td>47.9</td>\n",
              "      <td>30.68</td>\n",
              "      <td>11.7</td>\n",
              "      <td>474.68</td>\n",
              "      <td>658.210022</td>\n",
              "      <td>429.779999</td>\n",
              "      <td>87.8</td>\n",
              "      <td>105500000.0</td>\n",
              "      <td>1077712.0</td>\n",
              "      <td>True</td>\n",
              "      <td>True</td>\n",
              "      <td>True</td>\n",
              "      <td>False</td>\n",
              "      <td>False</td>\n",
              "      <td>False</td>\n",
              "      <td>False</td>\n",
              "      <td>False</td>\n",
              "      <td>False</td>\n",
              "      <td>False</td>\n",
              "      <td>False</td>\n",
              "      <td>False</td>\n",
              "      <td>3</td>\n",
              "    </tr>\n",
              "    <tr>\n",
              "      <th>88</th>\n",
              "      <td>DEA</td>\n",
              "      <td>22.267122</td>\n",
              "      <td>22.006058</td>\n",
              "      <td>21.971111</td>\n",
              "      <td>-6.70</td>\n",
              "      <td>-4.27</td>\n",
              "      <td>47.5</td>\n",
              "      <td>0.15</td>\n",
              "      <td>7.2</td>\n",
              "      <td>21.50</td>\n",
              "      <td>29.320000</td>\n",
              "      <td>20.690001</td>\n",
              "      <td>99.5</td>\n",
              "      <td>81440000.0</td>\n",
              "      <td>1186655.0</td>\n",
              "      <td>True</td>\n",
              "      <td>False</td>\n",
              "      <td>True</td>\n",
              "      <td>False</td>\n",
              "      <td>False</td>\n",
              "      <td>False</td>\n",
              "      <td>False</td>\n",
              "      <td>False</td>\n",
              "      <td>False</td>\n",
              "      <td>False</td>\n",
              "      <td>False</td>\n",
              "      <td>False</td>\n",
              "      <td>2</td>\n",
              "    </tr>\n",
              "  </tbody>\n",
              "</table>\n",
              "<p>367 rows × 28 columns</p>\n",
              "</div>"
            ],
            "text/plain": [
              "    Ticker  SMA200_value  ...  close_above_52weekhigh_rule  Passed Tests\n",
              "113    MPB     22.262014  ...                         True            11\n",
              "319   ESGR    197.908704  ...                         True            11\n",
              "337     UI    249.652446  ...                         True            11\n",
              "196    HZO     36.307914  ...                         True            11\n",
              "83    CBNK     13.030216  ...                         True            11\n",
              "..     ...           ...  ...                          ...           ...\n",
              "27    CXDO      6.770719  ...                        False             4\n",
              "12    QTNT      5.439496  ...                        False             3\n",
              "8      IAG      3.604460  ...                        False             3\n",
              "347   REGN    525.456980  ...                        False             3\n",
              "88     DEA     22.267122  ...                        False             2\n",
              "\n",
              "[367 rows x 28 columns]"
            ]
          },
          "metadata": {
            "tags": []
          },
          "execution_count": 7
        }
      ]
    },
    {
      "cell_type": "code",
      "metadata": {
        "id": "uOIwMf9i_6s5",
        "colab": {
          "base_uri": "https://localhost:8080/",
          "height": 365
        },
        "outputId": "9b10c8d9-67b2-4d9d-a5e5-bd20824c573c"
      },
      "source": [
        "df_out[df_out[\"Passed Tests\"] >= 11]"
      ],
      "execution_count": 8,
      "outputs": [
        {
          "output_type": "execute_result",
          "data": {
            "text/html": [
              "<div>\n",
              "<style scoped>\n",
              "    .dataframe tbody tr th:only-of-type {\n",
              "        vertical-align: middle;\n",
              "    }\n",
              "\n",
              "    .dataframe tbody tr th {\n",
              "        vertical-align: top;\n",
              "    }\n",
              "\n",
              "    .dataframe thead th {\n",
              "        text-align: right;\n",
              "    }\n",
              "</style>\n",
              "<table border=\"1\" class=\"dataframe\">\n",
              "  <thead>\n",
              "    <tr style=\"text-align: right;\">\n",
              "      <th></th>\n",
              "      <th>Ticker</th>\n",
              "      <th>SMA200_value</th>\n",
              "      <th>SMA150_value</th>\n",
              "      <th>SMA50_value</th>\n",
              "      <th>SMA200_percent</th>\n",
              "      <th>SMA50_percent</th>\n",
              "      <th>EPS_QoQ_percent</th>\n",
              "      <th>EPS_ttm</th>\n",
              "      <th>Sales_QoQ_percent</th>\n",
              "      <th>prev_close</th>\n",
              "      <th>week52_high</th>\n",
              "      <th>week52_low</th>\n",
              "      <th>Inst. Ownership</th>\n",
              "      <th>Shares Outstanding</th>\n",
              "      <th>volume</th>\n",
              "      <th>vol_price_rule</th>\n",
              "      <th>eps_ttm_rule</th>\n",
              "      <th>eps_QoQ_yearly_rule</th>\n",
              "      <th>sales_QoQ_yearly_rule</th>\n",
              "      <th>shares_outstanding_rule</th>\n",
              "      <th>inst_ownership_rule</th>\n",
              "      <th>SMA200_slope_rule</th>\n",
              "      <th>SMA150_greater_SMA200_rule</th>\n",
              "      <th>SMA50_greater_SMA150_rule</th>\n",
              "      <th>close_greater_SMA50_rule</th>\n",
              "      <th>week52_span_rule</th>\n",
              "      <th>close_above_52weekhigh_rule</th>\n",
              "      <th>Passed Tests</th>\n",
              "    </tr>\n",
              "  </thead>\n",
              "  <tbody>\n",
              "    <tr>\n",
              "      <th>82</th>\n",
              "      <td>CFBK</td>\n",
              "      <td>15.496763</td>\n",
              "      <td>16.744231</td>\n",
              "      <td>18.943333</td>\n",
              "      <td>43.41</td>\n",
              "      <td>9.38</td>\n",
              "      <td>435.7</td>\n",
              "      <td>4.25</td>\n",
              "      <td>245.5</td>\n",
              "      <td>19.19</td>\n",
              "      <td>20.250000</td>\n",
              "      <td>9.470000</td>\n",
              "      <td>32.3</td>\n",
              "      <td>6270000.0</td>\n",
              "      <td>5578.0</td>\n",
              "      <td>False</td>\n",
              "      <td>True</td>\n",
              "      <td>True</td>\n",
              "      <td>True</td>\n",
              "      <td>True</td>\n",
              "      <td>True</td>\n",
              "      <td>True</td>\n",
              "      <td>True</td>\n",
              "      <td>True</td>\n",
              "      <td>True</td>\n",
              "      <td>True</td>\n",
              "      <td>True</td>\n",
              "      <td>11</td>\n",
              "    </tr>\n",
              "    <tr>\n",
              "      <th>83</th>\n",
              "      <td>CBNK</td>\n",
              "      <td>13.030216</td>\n",
              "      <td>14.029615</td>\n",
              "      <td>16.689167</td>\n",
              "      <td>63.52</td>\n",
              "      <td>25.76</td>\n",
              "      <td>96.7</td>\n",
              "      <td>1.87</td>\n",
              "      <td>33.5</td>\n",
              "      <td>19.09</td>\n",
              "      <td>20.750000</td>\n",
              "      <td>9.060000</td>\n",
              "      <td>25.9</td>\n",
              "      <td>13690000.0</td>\n",
              "      <td>164609.0</td>\n",
              "      <td>False</td>\n",
              "      <td>True</td>\n",
              "      <td>True</td>\n",
              "      <td>True</td>\n",
              "      <td>True</td>\n",
              "      <td>True</td>\n",
              "      <td>True</td>\n",
              "      <td>True</td>\n",
              "      <td>True</td>\n",
              "      <td>True</td>\n",
              "      <td>True</td>\n",
              "      <td>True</td>\n",
              "      <td>11</td>\n",
              "    </tr>\n",
              "    <tr>\n",
              "      <th>92</th>\n",
              "      <td>ESCA</td>\n",
              "      <td>20.580791</td>\n",
              "      <td>21.178077</td>\n",
              "      <td>21.841667</td>\n",
              "      <td>18.43</td>\n",
              "      <td>2.25</td>\n",
              "      <td>98.5</td>\n",
              "      <td>1.82</td>\n",
              "      <td>59.1</td>\n",
              "      <td>22.23</td>\n",
              "      <td>24.049999</td>\n",
              "      <td>4.750000</td>\n",
              "      <td>30.7</td>\n",
              "      <td>14030000.0</td>\n",
              "      <td>123385.0</td>\n",
              "      <td>False</td>\n",
              "      <td>True</td>\n",
              "      <td>True</td>\n",
              "      <td>True</td>\n",
              "      <td>True</td>\n",
              "      <td>True</td>\n",
              "      <td>True</td>\n",
              "      <td>True</td>\n",
              "      <td>True</td>\n",
              "      <td>True</td>\n",
              "      <td>True</td>\n",
              "      <td>True</td>\n",
              "      <td>11</td>\n",
              "    </tr>\n",
              "    <tr>\n",
              "      <th>113</th>\n",
              "      <td>MPB</td>\n",
              "      <td>22.262014</td>\n",
              "      <td>23.441250</td>\n",
              "      <td>25.085555</td>\n",
              "      <td>31.12</td>\n",
              "      <td>13.90</td>\n",
              "      <td>107.9</td>\n",
              "      <td>3.11</td>\n",
              "      <td>33.5</td>\n",
              "      <td>27.31</td>\n",
              "      <td>29.410000</td>\n",
              "      <td>15.900000</td>\n",
              "      <td>21.9</td>\n",
              "      <td>8420000.0</td>\n",
              "      <td>47993.0</td>\n",
              "      <td>False</td>\n",
              "      <td>True</td>\n",
              "      <td>True</td>\n",
              "      <td>True</td>\n",
              "      <td>True</td>\n",
              "      <td>True</td>\n",
              "      <td>True</td>\n",
              "      <td>True</td>\n",
              "      <td>True</td>\n",
              "      <td>True</td>\n",
              "      <td>True</td>\n",
              "      <td>True</td>\n",
              "      <td>11</td>\n",
              "    </tr>\n",
              "    <tr>\n",
              "      <th>117</th>\n",
              "      <td>RBNC</td>\n",
              "      <td>18.783741</td>\n",
              "      <td>20.149904</td>\n",
              "      <td>23.150556</td>\n",
              "      <td>66.04</td>\n",
              "      <td>32.56</td>\n",
              "      <td>99.0</td>\n",
              "      <td>1.89</td>\n",
              "      <td>73.0</td>\n",
              "      <td>28.17</td>\n",
              "      <td>29.330000</td>\n",
              "      <td>9.740000</td>\n",
              "      <td>32.8</td>\n",
              "      <td>16620000.0</td>\n",
              "      <td>285694.0</td>\n",
              "      <td>False</td>\n",
              "      <td>True</td>\n",
              "      <td>True</td>\n",
              "      <td>True</td>\n",
              "      <td>True</td>\n",
              "      <td>True</td>\n",
              "      <td>True</td>\n",
              "      <td>True</td>\n",
              "      <td>True</td>\n",
              "      <td>True</td>\n",
              "      <td>True</td>\n",
              "      <td>True</td>\n",
              "      <td>11</td>\n",
              "    </tr>\n",
              "    <tr>\n",
              "      <th>196</th>\n",
              "      <td>HZO</td>\n",
              "      <td>36.307914</td>\n",
              "      <td>39.576827</td>\n",
              "      <td>48.849445</td>\n",
              "      <td>85.85</td>\n",
              "      <td>31.35</td>\n",
              "      <td>150.7</td>\n",
              "      <td>3.98</td>\n",
              "      <td>35.3</td>\n",
              "      <td>59.83</td>\n",
              "      <td>61.770000</td>\n",
              "      <td>7.870000</td>\n",
              "      <td>0.0</td>\n",
              "      <td>22030000.0</td>\n",
              "      <td>667859.0</td>\n",
              "      <td>True</td>\n",
              "      <td>True</td>\n",
              "      <td>True</td>\n",
              "      <td>True</td>\n",
              "      <td>True</td>\n",
              "      <td>False</td>\n",
              "      <td>True</td>\n",
              "      <td>True</td>\n",
              "      <td>True</td>\n",
              "      <td>True</td>\n",
              "      <td>True</td>\n",
              "      <td>True</td>\n",
              "      <td>11</td>\n",
              "    </tr>\n",
              "    <tr>\n",
              "      <th>319</th>\n",
              "      <td>ESGR</td>\n",
              "      <td>197.908704</td>\n",
              "      <td>208.792692</td>\n",
              "      <td>229.037500</td>\n",
              "      <td>38.53</td>\n",
              "      <td>16.77</td>\n",
              "      <td>306.6</td>\n",
              "      <td>77.78</td>\n",
              "      <td>128.4</td>\n",
              "      <td>266.43</td>\n",
              "      <td>266.429993</td>\n",
              "      <td>123.599998</td>\n",
              "      <td>84.9</td>\n",
              "      <td>21510000.0</td>\n",
              "      <td>165818.0</td>\n",
              "      <td>True</td>\n",
              "      <td>True</td>\n",
              "      <td>True</td>\n",
              "      <td>True</td>\n",
              "      <td>True</td>\n",
              "      <td>False</td>\n",
              "      <td>True</td>\n",
              "      <td>True</td>\n",
              "      <td>True</td>\n",
              "      <td>True</td>\n",
              "      <td>True</td>\n",
              "      <td>True</td>\n",
              "      <td>11</td>\n",
              "    </tr>\n",
              "    <tr>\n",
              "      <th>337</th>\n",
              "      <td>UI</td>\n",
              "      <td>249.652446</td>\n",
              "      <td>276.253846</td>\n",
              "      <td>332.160833</td>\n",
              "      <td>50.73</td>\n",
              "      <td>10.59</td>\n",
              "      <td>92.5</td>\n",
              "      <td>8.05</td>\n",
              "      <td>55.5</td>\n",
              "      <td>337.74</td>\n",
              "      <td>357.070007</td>\n",
              "      <td>127.389999</td>\n",
              "      <td>7.5</td>\n",
              "      <td>62820000.0</td>\n",
              "      <td>177878.0</td>\n",
              "      <td>True</td>\n",
              "      <td>True</td>\n",
              "      <td>True</td>\n",
              "      <td>True</td>\n",
              "      <td>False</td>\n",
              "      <td>True</td>\n",
              "      <td>True</td>\n",
              "      <td>True</td>\n",
              "      <td>True</td>\n",
              "      <td>True</td>\n",
              "      <td>True</td>\n",
              "      <td>True</td>\n",
              "      <td>11</td>\n",
              "    </tr>\n",
              "    <tr>\n",
              "      <th>363</th>\n",
              "      <td>WTM</td>\n",
              "      <td>988.223599</td>\n",
              "      <td>1038.944904</td>\n",
              "      <td>1154.136112</td>\n",
              "      <td>23.29</td>\n",
              "      <td>5.45</td>\n",
              "      <td>686.3</td>\n",
              "      <td>224.89</td>\n",
              "      <td>197.1</td>\n",
              "      <td>1175.51</td>\n",
              "      <td>1267.520020</td>\n",
              "      <td>702.919983</td>\n",
              "      <td>88.8</td>\n",
              "      <td>3220000.0</td>\n",
              "      <td>36900.0</td>\n",
              "      <td>True</td>\n",
              "      <td>True</td>\n",
              "      <td>True</td>\n",
              "      <td>True</td>\n",
              "      <td>True</td>\n",
              "      <td>False</td>\n",
              "      <td>True</td>\n",
              "      <td>True</td>\n",
              "      <td>True</td>\n",
              "      <td>True</td>\n",
              "      <td>True</td>\n",
              "      <td>True</td>\n",
              "      <td>11</td>\n",
              "    </tr>\n",
              "  </tbody>\n",
              "</table>\n",
              "</div>"
            ],
            "text/plain": [
              "    Ticker  SMA200_value  ...  close_above_52weekhigh_rule  Passed Tests\n",
              "82    CFBK     15.496763  ...                         True            11\n",
              "83    CBNK     13.030216  ...                         True            11\n",
              "92    ESCA     20.580791  ...                         True            11\n",
              "113    MPB     22.262014  ...                         True            11\n",
              "117   RBNC     18.783741  ...                         True            11\n",
              "196    HZO     36.307914  ...                         True            11\n",
              "319   ESGR    197.908704  ...                         True            11\n",
              "337     UI    249.652446  ...                         True            11\n",
              "363    WTM    988.223599  ...                         True            11\n",
              "\n",
              "[9 rows x 28 columns]"
            ]
          },
          "metadata": {
            "tags": []
          },
          "execution_count": 8
        }
      ]
    }
  ]
}