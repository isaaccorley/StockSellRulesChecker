{
  "nbformat": 4,
  "nbformat_minor": 0,
  "metadata": {
    "kernelspec": {
      "display_name": "Python 3",
      "language": "python",
      "name": "python3"
    },
    "language_info": {
      "codemirror_mode": {
        "name": "ipython",
        "version": 3
      },
      "file_extension": ".py",
      "mimetype": "text/x-python",
      "name": "python",
      "nbconvert_exporter": "python",
      "pygments_lexer": "ipython3",
      "version": "3.6.9"
    },
    "colab": {
      "name": "Screener.ipynb",
      "provenance": [],
      "include_colab_link": true
    }
  },
  "cells": [
    {
      "cell_type": "markdown",
      "metadata": {
        "id": "view-in-github",
        "colab_type": "text"
      },
      "source": [
        "<a href=\"https://colab.research.google.com/github/jonlwowski012/StockSellRulesChecker/blob/master/StockScreener/Screener.ipynb\" target=\"_parent\"><img src=\"https://colab.research.google.com/assets/colab-badge.svg\" alt=\"Open In Colab\"/></a>"
      ]
    },
    {
      "cell_type": "code",
      "metadata": {
        "id": "jiQYNbnwycRf",
        "colab": {
          "base_uri": "https://localhost:8080/",
          "height": 1000
        },
        "outputId": "126a3ce6-3183-4a22-d165-8433fd71cc9b"
      },
      "source": [
        "! git clone https://github.com/jonlwowski012/StockSellRulesChecker.git\n",
        "! pip install -r StockSellRulesChecker/StockScreener/requirements.txt"
      ],
      "execution_count": 2,
      "outputs": [
        {
          "output_type": "stream",
          "text": [
            "Cloning into 'StockSellRulesChecker'...\n",
            "remote: Enumerating objects: 44, done.\u001b[K\n",
            "remote: Counting objects: 100% (44/44), done.\u001b[K\n",
            "remote: Compressing objects: 100% (35/35), done.\u001b[K\n",
            "remote: Total 44 (delta 14), reused 26 (delta 6), pack-reused 0\u001b[K\n",
            "Unpacking objects: 100% (44/44), done.\n",
            "Collecting pandas==1.1.3\n",
            "\u001b[?25l  Downloading https://files.pythonhosted.org/packages/25/47/22fc373440e144e2111363adaa07abb09ec1f03fbc071b6d9fc0bbf65f68/pandas-1.1.3-cp37-cp37m-manylinux1_x86_64.whl (9.5MB)\n",
            "\u001b[K     |████████████████████████████████| 9.5MB 8.0MB/s \n",
            "\u001b[?25hCollecting finviz\n",
            "  Downloading https://files.pythonhosted.org/packages/5d/ef/6b8cb66c238572ec487ad6aad43d8f0bfbcf677190d962972490df4922e2/finviz-1.3.4.tar.gz\n",
            "Collecting stockquotes==2.0.1\n",
            "  Downloading https://files.pythonhosted.org/packages/59/1f/fd63b5a97fbb3119e800b3e4fb199dab7d5464bee8372e3370566a9c94e2/stockquotes-2.0.1.tar.gz\n",
            "Requirement already satisfied: nest_asyncio in /usr/local/lib/python3.7/dist-packages (from -r StockSellRulesChecker/StockScreener/requirements.txt (line 4)) (1.5.1)\n",
            "Collecting yfinance\n",
            "  Downloading https://files.pythonhosted.org/packages/7a/e8/b9d7104d3a4bf39924799067592d9e59119fcfc900a425a12e80a3123ec8/yfinance-0.1.55.tar.gz\n",
            "Requirement already satisfied: numpy>=1.15.4 in /usr/local/lib/python3.7/dist-packages (from pandas==1.1.3->-r StockSellRulesChecker/StockScreener/requirements.txt (line 1)) (1.19.5)\n",
            "Requirement already satisfied: python-dateutil>=2.7.3 in /usr/local/lib/python3.7/dist-packages (from pandas==1.1.3->-r StockSellRulesChecker/StockScreener/requirements.txt (line 1)) (2.8.1)\n",
            "Requirement already satisfied: pytz>=2017.2 in /usr/local/lib/python3.7/dist-packages (from pandas==1.1.3->-r StockSellRulesChecker/StockScreener/requirements.txt (line 1)) (2018.9)\n",
            "Requirement already satisfied: lxml in /usr/local/lib/python3.7/dist-packages (from finviz->-r StockSellRulesChecker/StockScreener/requirements.txt (line 2)) (4.2.6)\n",
            "Requirement already satisfied: requests in /usr/local/lib/python3.7/dist-packages (from finviz->-r StockSellRulesChecker/StockScreener/requirements.txt (line 2)) (2.23.0)\n",
            "Collecting aiohttp\n",
            "\u001b[?25l  Downloading https://files.pythonhosted.org/packages/88/c0/5890b4c8b04a79b7360e8fe4490feb0bb3ab179743f199f0e6220cebd568/aiohttp-3.7.4.post0-cp37-cp37m-manylinux2014_x86_64.whl (1.3MB)\n",
            "\u001b[K     |████████████████████████████████| 1.3MB 42.5MB/s \n",
            "\u001b[?25hRequirement already satisfied: urllib3 in /usr/local/lib/python3.7/dist-packages (from finviz->-r StockSellRulesChecker/StockScreener/requirements.txt (line 2)) (1.24.3)\n",
            "Collecting cssselect\n",
            "  Downloading https://files.pythonhosted.org/packages/3b/d4/3b5c17f00cce85b9a1e6f91096e1cc8e8ede2e1be8e96b87ce1ed09e92c5/cssselect-1.1.0-py2.py3-none-any.whl\n",
            "Collecting user_agent\n",
            "  Downloading https://files.pythonhosted.org/packages/c3/ca/15546284f62edfec7666ecb6403a6e77f5db850def37cd36f140d99cce02/user_agent-0.1.9.tar.gz\n",
            "Requirement already satisfied: multitasking>=0.0.7 in /usr/local/lib/python3.7/dist-packages (from yfinance->-r StockSellRulesChecker/StockScreener/requirements.txt (line 5)) (0.0.9)\n",
            "Requirement already satisfied: six>=1.5 in /usr/local/lib/python3.7/dist-packages (from python-dateutil>=2.7.3->pandas==1.1.3->-r StockSellRulesChecker/StockScreener/requirements.txt (line 1)) (1.15.0)\n",
            "Requirement already satisfied: idna<3,>=2.5 in /usr/local/lib/python3.7/dist-packages (from requests->finviz->-r StockSellRulesChecker/StockScreener/requirements.txt (line 2)) (2.10)\n",
            "Requirement already satisfied: certifi>=2017.4.17 in /usr/local/lib/python3.7/dist-packages (from requests->finviz->-r StockSellRulesChecker/StockScreener/requirements.txt (line 2)) (2020.12.5)\n",
            "Requirement already satisfied: chardet<4,>=3.0.2 in /usr/local/lib/python3.7/dist-packages (from requests->finviz->-r StockSellRulesChecker/StockScreener/requirements.txt (line 2)) (3.0.4)\n",
            "Requirement already satisfied: typing-extensions>=3.6.5 in /usr/local/lib/python3.7/dist-packages (from aiohttp->finviz->-r StockSellRulesChecker/StockScreener/requirements.txt (line 2)) (3.7.4.3)\n",
            "Collecting async-timeout<4.0,>=3.0\n",
            "  Downloading https://files.pythonhosted.org/packages/e1/1e/5a4441be21b0726c4464f3f23c8b19628372f606755a9d2e46c187e65ec4/async_timeout-3.0.1-py3-none-any.whl\n",
            "Collecting multidict<7.0,>=4.5\n",
            "\u001b[?25l  Downloading https://files.pythonhosted.org/packages/7c/a6/4123b8165acbe773d1a8dc8e3f0d1edea16d29f7de018eda769abb56bd30/multidict-5.1.0-cp37-cp37m-manylinux2014_x86_64.whl (142kB)\n",
            "\u001b[K     |████████████████████████████████| 143kB 48.0MB/s \n",
            "\u001b[?25hCollecting yarl<2.0,>=1.0\n",
            "\u001b[?25l  Downloading https://files.pythonhosted.org/packages/f1/62/046834c5fc998c88ab2ef722f5d42122230a632212c8afa76418324f53ff/yarl-1.6.3-cp37-cp37m-manylinux2014_x86_64.whl (294kB)\n",
            "\u001b[K     |████████████████████████████████| 296kB 53.7MB/s \n",
            "\u001b[?25hRequirement already satisfied: attrs>=17.3.0 in /usr/local/lib/python3.7/dist-packages (from aiohttp->finviz->-r StockSellRulesChecker/StockScreener/requirements.txt (line 2)) (20.3.0)\n",
            "Building wheels for collected packages: finviz, stockquotes, yfinance, user-agent\n",
            "  Building wheel for finviz (setup.py) ... \u001b[?25l\u001b[?25hdone\n",
            "  Created wheel for finviz: filename=finviz-1.3.4-cp37-none-any.whl size=15193 sha256=779c9abcb716745184a0e92f36ba0cb4d7e8e2cd4692bf613e8e5149d51649ad\n",
            "  Stored in directory: /root/.cache/pip/wheels/6d/fa/7c/4cc075d8af3f8ed083dd112b1a2b09888b9a9a2964c907291f\n",
            "  Building wheel for stockquotes (setup.py) ... \u001b[?25l\u001b[?25hdone\n",
            "  Created wheel for stockquotes: filename=stockquotes-2.0.1-cp37-none-any.whl size=4472 sha256=b599081a42bb9cd730199f784bc500c14e32735bd38a667c59ff488ca6ace996\n",
            "  Stored in directory: /root/.cache/pip/wheels/b6/5a/fa/c250a28690344108071fb9b46761d5ac3bb23798260f8ecff1\n",
            "  Building wheel for yfinance (setup.py) ... \u001b[?25l\u001b[?25hdone\n",
            "  Created wheel for yfinance: filename=yfinance-0.1.55-py2.py3-none-any.whl size=22616 sha256=8ad7ad2bc28154eee8af7133578efd9a32b56272db15688239acfe8c36ac3bbb\n",
            "  Stored in directory: /root/.cache/pip/wheels/04/98/cc/2702a4242d60bdc14f48b4557c427ded1fe92aedf257d4565c\n",
            "  Building wheel for user-agent (setup.py) ... \u001b[?25l\u001b[?25hdone\n",
            "  Created wheel for user-agent: filename=user_agent-0.1.9-cp37-none-any.whl size=18809 sha256=caaa0c253e239107905852ce81b53365f94fe674f4636a205e49446cfd960e4d\n",
            "  Stored in directory: /root/.cache/pip/wheels/92/80/3f/5d79277825042f2d4d447f594e3fc046f1e506f2b481d364b2\n",
            "Successfully built finviz stockquotes yfinance user-agent\n",
            "\u001b[31mERROR: yfinance 0.1.55 has requirement lxml>=4.5.1, but you'll have lxml 4.2.6 which is incompatible.\u001b[0m\n",
            "Installing collected packages: pandas, async-timeout, multidict, yarl, aiohttp, cssselect, user-agent, finviz, stockquotes, yfinance\n",
            "  Found existing installation: pandas 1.1.5\n",
            "    Uninstalling pandas-1.1.5:\n",
            "      Successfully uninstalled pandas-1.1.5\n",
            "Successfully installed aiohttp-3.7.4.post0 async-timeout-3.0.1 cssselect-1.1.0 finviz-1.3.4 multidict-5.1.0 pandas-1.1.3 stockquotes-2.0.1 user-agent-0.1.9 yarl-1.6.3 yfinance-0.1.55\n"
          ],
          "name": "stdout"
        },
        {
          "output_type": "display_data",
          "data": {
            "application/vnd.colab-display-data+json": {
              "pip_warning": {
                "packages": [
                  "pandas"
                ]
              }
            }
          },
          "metadata": {
            "tags": []
          }
        }
      ]
    },
    {
      "cell_type": "code",
      "metadata": {
        "id": "HejzLL23ycRh"
      },
      "source": [
        "from finviz.screener import Screener\n",
        "import nest_asyncio\n",
        "import finviz\n",
        "import pandas_datareader as pdr\n",
        "import yfinance as yf\n",
        "import datetime\n",
        "import stockquotes\n",
        "import pandas as pd\n",
        "import tqdm\n",
        "nest_asyncio.apply()"
      ],
      "execution_count": 1,
      "outputs": []
    },
    {
      "cell_type": "code",
      "metadata": {
        "id": "W9nnHWzXycRh"
      },
      "source": [
        "eps_5year_over20pct = True\n",
        "eps_qoq_over20pct = True\n",
        "eps_yoy_over20pct = True\n",
        "sales_5years_over20pct = True\n",
        "sales_qoq_over20pct = True\n",
        "curr_vol_over200 = True\n",
        "\n",
        "filters = []\n",
        "if eps_5year_over20pct:\n",
        "  filters.append('fa_eps5years_o20')\n",
        "if eps_qoq_over20pct:\n",
        "  filters.append('fa_epsqoq_o20')\n",
        "if eps_yoy_over20pct:\n",
        "  filters.append('fa_epsyoy_o20')\n",
        "if sales_5years_over20pct:\n",
        "  filters.append('fa_sales5years_o20')\n",
        "if sales_qoq_over20pct:\n",
        "  filters.append('fa_salesqoq_o20')\n",
        "if curr_vol_over200:\n",
        "  filters.append('sh_curvol_o200')\n",
        "\n",
        "stock_list = Screener(filters=filters, table='Performance', order='price')  "
      ],
      "execution_count": 2,
      "outputs": []
    },
    {
      "cell_type": "code",
      "metadata": {
        "id": "1XPzaeV1ycRi",
        "colab": {
          "base_uri": "https://localhost:8080/"
        },
        "outputId": "2d96a12a-bf67-428e-b64b-4d4fdf7265a1"
      },
      "source": [
        "print(stock_list)"
      ],
      "execution_count": 5,
      "outputs": [
        {
          "output_type": "stream",
          "text": [
            "No. | Ticker | Perf Week | Perf Month | Perf Quart | Perf Half | Perf Year | Perf YTD | Volatility W | Volatility M | Recom | Avg Volume | Rel Volume | Price  | Change | Volume \n",
            "--- | ------ | --------- | ---------- | ---------- | --------- | --------- | -------- | ------------ | ------------ | ----- | ---------- | ---------- | ------ | ------ | -------\n",
            "1   | WKHS   | 2.08%     | -53.88%    | -23.37%    | -35.96%   | 1035.37%  | -15.62%  | 11.30%       | 19.52%       | 2.40  | 21.54M     | 0.58       | 16.00  | -4.13% | 772,275\n",
            "2   | VALE   | 1.06%     | -0.92%     | 2.84%      | 50.12%    | 123.28%   | 3.46%    | 2.48%        | 3.67%        | 2.00  | 29.30M     | 0.28       | 17.17  | -0.09% | 513,988\n",
            "3   | GNMK   | 19.98%    | 5.10%      | 84.41%     | 90.59%    | 426.43%   | 63.70%   | 9.92%        | 7.98%        | 1.90  | 1.95M      | 6.81       | 23.90  | -0.02% | 824,516\n",
            "4   | EXPI   | 21.33%    | -28.42%    | 66.32%     | 165.73%   | 1133.41%  | 76.65%   | 11.83%       | 13.20%       | 2.00  | 2.20M      | 1.99       | 52.36  | -6.08% | 272,811\n",
            "5   | JD     | -4.21%    | -13.64%    | 3.81%      | 11.97%    | 143.36%   | -2.43%   | 3.85%        | 4.08%        | 1.70  | 11.23M     | 0.85       | 83.72  | -2.38% | 596,462\n",
            "6   | BABA   | -4.71%    | -15.28%    | -14.22%    | -17.21%   | 26.88%    | -2.49%   | 2.48%        | 2.57%        | 1.60  | 23.40M     | 0.69       | 226.48 | -0.20% | 999,191\n",
            "7   | FB     | 5.10%     | 3.25%      | 2.09%      | 4.93%     | 91.27%    | 2.24%    | 2.74%        | 3.23%        | 1.80  | 19.68M     | 0.67       | 276.35 | -1.05% | 817,237\n",
            "8   | NVDA   | 6.16%     | -11.16%    | 2.14%      | 3.26%     | 170.70%   | 1.81%    | 3.10%        | 4.50%        | 2.00  | 8.16M      | 0.63       | 523.46 | -1.54% | 317,134\n",
            "\n"
          ],
          "name": "stdout"
        }
      ]
    },
    {
      "cell_type": "code",
      "metadata": {
        "id": "U8AVr63rycRi",
        "colab": {
          "base_uri": "https://localhost:8080/"
        },
        "outputId": "affd9016-7e35-4038-aafd-09a32d3df30b"
      },
      "source": [
        "def moving_average(yahoo_df, days):\n",
        "    df = yahoo_df.reset_index()\n",
        "    curr_date = df['Date'].max()\n",
        "    end_date = curr_date - datetime.timedelta(days=days)\n",
        "    \n",
        "    df_days = df[df['Date'] >= end_date]\n",
        "    return float(df_days['Close'].mean())\n",
        "\n",
        "def week52_low_high(yahoo_df):\n",
        "    df = yahoo_df.reset_index()\n",
        "    curr_date = df['Date'].max()\n",
        "    end_date = curr_date - datetime.timedelta(days=365)\n",
        "    \n",
        "    df_days = df[df['Date'] >= end_date]\n",
        "    return float(df_days['Close'].max()), float(df_days['Close'].min())\n",
        "\n",
        "\n",
        "screened_stocks = {}\n",
        "for stock in tqdm.tqdm(stock_list):\n",
        "    screened_stocks[stock['Ticker']] = {}\n",
        "    \n",
        "    finviz_stats = finviz.get_stock(stock['Ticker'])\n",
        "    try:\n",
        "        yahoo_df = pdr.get_data_yahoo(stock['Ticker'], interval = \"d\")\n",
        "    except:\n",
        "        continue\n",
        "    SMA200_value = moving_average(yahoo_df, days=200)\n",
        "    SMA150_value = moving_average(yahoo_df, days=150)\n",
        "    SMA50_value = moving_average(yahoo_df, days=50)\n",
        "    SMA200_percent = float(finviz_stats['SMA200'].replace(\"%\",\"\"))\n",
        "    SMA50_percent = float(finviz_stats['SMA50'].replace(\"%\",\"\"))\n",
        "    prev_close = float(finviz_stats['Prev Close'].replace(\"$\",\"\"))\n",
        "    week52_high, week52_low = week52_low_high(yahoo_df)\n",
        "    \n",
        "    screened_stocks[stock['Ticker']]['SMA200_value'] = SMA200_value\n",
        "    screened_stocks[stock['Ticker']]['SMA150_value'] = SMA150_value\n",
        "    screened_stocks[stock['Ticker']]['SMA50_value'] = SMA50_value\n",
        "    screened_stocks[stock['Ticker']]['SMA200_percent'] = SMA200_percent\n",
        "    screened_stocks[stock['Ticker']]['SMA50_percent'] = SMA50_percent\n",
        "    screened_stocks[stock['Ticker']]['prev_close'] = prev_close\n",
        "    screened_stocks[stock['Ticker']]['week52_high'] = week52_high\n",
        "    screened_stocks[stock['Ticker']]['week52_low'] = week52_low\n",
        "    \n",
        "    # Positive 200d MA positive\n",
        "    if SMA200_percent > 0:\n",
        "        SMA200_slope_rule = True\n",
        "    else:\n",
        "        SMA200_slope_rule = False\n",
        "    screened_stocks[stock['Ticker']]['SMA200_slope_rule'] = SMA200_slope_rule\n",
        "        \n",
        "    # 150d MA greater than 200d MA\n",
        "    if SMA150_value > SMA200_value:\n",
        "        SMA150_greater_SMA200_rule = True\n",
        "    else:\n",
        "        SMA150_greater_SMA200_rule = False\n",
        "    screened_stocks[stock['Ticker']]['SMA150_greater_SMA200_rule'] = SMA150_greater_SMA200_rule\n",
        "        \n",
        "    # 50d MA greater than 150d MA\n",
        "    if SMA50_value > SMA150_value:\n",
        "        SMA50_greater_SMA150_rule = True\n",
        "    else:\n",
        "        SMA50_greater_SMA150_rule = False\n",
        "    screened_stocks[stock['Ticker']]['SMA50_greater_SMA150_rule'] = SMA50_greater_SMA150_rule\n",
        "        \n",
        "    # Close above 50d MA\n",
        "    if prev_close > SMA50_value:\n",
        "        close_greater_SMA50_rule = True\n",
        "    else:\n",
        "        close_greater_SMA50_rule = False\n",
        "    screened_stocks[stock['Ticker']]['close_greater_SMA50_rule'] = close_greater_SMA50_rule\n",
        "        \n",
        "    # 52 week high low span rule\n",
        "    if 0.75*week52_high > 1.25*week52_low:\n",
        "        week52_span_rule = True\n",
        "    else:\n",
        "        week52_span_rule = False\n",
        "    screened_stocks[stock['Ticker']]['week52_span_rule'] = week52_span_rule\n",
        "    \n",
        "    # Close above 52 week high - 25%\n",
        "    if prev_close > 0.75*week52_high:\n",
        "        close_above_52weekhigh_rule = True\n",
        "    else:\n",
        "        close_above_52weekhigh_rule = False\n",
        "    screened_stocks[stock['Ticker']]['close_above_52weekhigh_rule'] = close_above_52weekhigh_rule\n",
        "\n",
        "output_list = []\n",
        "for stock in screened_stocks.keys():\n",
        "    cols = [\"Ticker\"] + list(screened_stocks[stock].keys())\n",
        "    temp_list = []\n",
        "    temp_list.append(stock)\n",
        "    for rule in screened_stocks[stock].keys():\n",
        "        temp_list.append(screened_stocks[stock][rule])\n",
        "    output_list.append(temp_list)\n",
        "        \n",
        "df_out = pd.DataFrame(output_list,columns=cols)\n",
        "\n",
        "    \n"
      ],
      "execution_count": 3,
      "outputs": [
        {
          "output_type": "stream",
          "text": [
            "100%|██████████| 8/8 [00:05<00:00,  1.57it/s]\n"
          ],
          "name": "stderr"
        }
      ]
    },
    {
      "cell_type": "code",
      "metadata": {
        "id": "rcDK8f3RycRj",
        "colab": {
          "base_uri": "https://localhost:8080/",
          "height": 317
        },
        "outputId": "6e393ebe-8d79-4d75-8b55-6f5e080d9ceb"
      },
      "source": [
        "df_out"
      ],
      "execution_count": 4,
      "outputs": [
        {
          "output_type": "execute_result",
          "data": {
            "text/html": [
              "<div>\n",
              "<style scoped>\n",
              "    .dataframe tbody tr th:only-of-type {\n",
              "        vertical-align: middle;\n",
              "    }\n",
              "\n",
              "    .dataframe tbody tr th {\n",
              "        vertical-align: top;\n",
              "    }\n",
              "\n",
              "    .dataframe thead th {\n",
              "        text-align: right;\n",
              "    }\n",
              "</style>\n",
              "<table border=\"1\" class=\"dataframe\">\n",
              "  <thead>\n",
              "    <tr style=\"text-align: right;\">\n",
              "      <th></th>\n",
              "      <th>Ticker</th>\n",
              "      <th>SMA200_value</th>\n",
              "      <th>SMA150_value</th>\n",
              "      <th>SMA50_value</th>\n",
              "      <th>SMA200_percent</th>\n",
              "      <th>SMA50_percent</th>\n",
              "      <th>prev_close</th>\n",
              "      <th>week52_high</th>\n",
              "      <th>week52_low</th>\n",
              "      <th>SMA200_slope_rule</th>\n",
              "      <th>SMA150_greater_SMA200_rule</th>\n",
              "      <th>SMA50_greater_SMA150_rule</th>\n",
              "      <th>close_greater_SMA50_rule</th>\n",
              "      <th>week52_span_rule</th>\n",
              "      <th>close_above_52weekhigh_rule</th>\n",
              "    </tr>\n",
              "  </thead>\n",
              "  <tbody>\n",
              "    <tr>\n",
              "      <th>0</th>\n",
              "      <td>WKHS</td>\n",
              "      <td>23.664228</td>\n",
              "      <td>23.516520</td>\n",
              "      <td>26.832714</td>\n",
              "      <td>-20.70</td>\n",
              "      <td>-38.53</td>\n",
              "      <td>16.69</td>\n",
              "      <td>41.340000</td>\n",
              "      <td>1.540000</td>\n",
              "      <td>False</td>\n",
              "      <td>False</td>\n",
              "      <td>True</td>\n",
              "      <td>False</td>\n",
              "      <td>True</td>\n",
              "      <td>False</td>\n",
              "    </tr>\n",
              "    <tr>\n",
              "      <th>1</th>\n",
              "      <td>VALE</td>\n",
              "      <td>14.532463</td>\n",
              "      <td>15.683971</td>\n",
              "      <td>17.374143</td>\n",
              "      <td>29.84</td>\n",
              "      <td>-1.48</td>\n",
              "      <td>17.19</td>\n",
              "      <td>18.940001</td>\n",
              "      <td>6.580000</td>\n",
              "      <td>True</td>\n",
              "      <td>True</td>\n",
              "      <td>True</td>\n",
              "      <td>False</td>\n",
              "      <td>True</td>\n",
              "      <td>True</td>\n",
              "    </tr>\n",
              "    <tr>\n",
              "      <th>2</th>\n",
              "      <td>GNMK</td>\n",
              "      <td>14.701029</td>\n",
              "      <td>15.275196</td>\n",
              "      <td>18.310286</td>\n",
              "      <td>61.92</td>\n",
              "      <td>37.35</td>\n",
              "      <td>23.90</td>\n",
              "      <td>23.980000</td>\n",
              "      <td>3.560000</td>\n",
              "      <td>True</td>\n",
              "      <td>True</td>\n",
              "      <td>True</td>\n",
              "      <td>True</td>\n",
              "      <td>True</td>\n",
              "      <td>True</td>\n",
              "    </tr>\n",
              "    <tr>\n",
              "      <th>3</th>\n",
              "      <td>EXPI</td>\n",
              "      <td>36.347261</td>\n",
              "      <td>40.825049</td>\n",
              "      <td>60.880858</td>\n",
              "      <td>86.15</td>\n",
              "      <td>-4.02</td>\n",
              "      <td>55.75</td>\n",
              "      <td>80.525002</td>\n",
              "      <td>3.505000</td>\n",
              "      <td>True</td>\n",
              "      <td>True</td>\n",
              "      <td>True</td>\n",
              "      <td>False</td>\n",
              "      <td>True</td>\n",
              "      <td>False</td>\n",
              "    </tr>\n",
              "    <tr>\n",
              "      <th>4</th>\n",
              "      <td>JD</td>\n",
              "      <td>86.092573</td>\n",
              "      <td>88.930784</td>\n",
              "      <td>94.530857</td>\n",
              "      <td>6.17</td>\n",
              "      <td>-10.58</td>\n",
              "      <td>85.76</td>\n",
              "      <td>106.879997</td>\n",
              "      <td>37.209999</td>\n",
              "      <td>True</td>\n",
              "      <td>True</td>\n",
              "      <td>True</td>\n",
              "      <td>False</td>\n",
              "      <td>True</td>\n",
              "      <td>True</td>\n",
              "    </tr>\n",
              "    <tr>\n",
              "      <th>5</th>\n",
              "      <td>BABA</td>\n",
              "      <td>267.042574</td>\n",
              "      <td>261.017157</td>\n",
              "      <td>251.518858</td>\n",
              "      <td>-12.70</td>\n",
              "      <td>-8.90</td>\n",
              "      <td>226.93</td>\n",
              "      <td>317.140015</td>\n",
              "      <td>176.339996</td>\n",
              "      <td>False</td>\n",
              "      <td>False</td>\n",
              "      <td>False</td>\n",
              "      <td>False</td>\n",
              "      <td>True</td>\n",
              "      <td>False</td>\n",
              "    </tr>\n",
              "    <tr>\n",
              "      <th>6</th>\n",
              "      <td>FB</td>\n",
              "      <td>269.894963</td>\n",
              "      <td>270.807401</td>\n",
              "      <td>266.282142</td>\n",
              "      <td>5.43</td>\n",
              "      <td>4.12</td>\n",
              "      <td>279.28</td>\n",
              "      <td>303.910004</td>\n",
              "      <td>146.960007</td>\n",
              "      <td>True</td>\n",
              "      <td>True</td>\n",
              "      <td>False</td>\n",
              "      <td>True</td>\n",
              "      <td>True</td>\n",
              "      <td>True</td>\n",
              "    </tr>\n",
              "    <tr>\n",
              "      <th>7</th>\n",
              "      <td>NVDA</td>\n",
              "      <td>534.090149</td>\n",
              "      <td>536.599119</td>\n",
              "      <td>545.585429</td>\n",
              "      <td>5.55</td>\n",
              "      <td>-3.43</td>\n",
              "      <td>531.65</td>\n",
              "      <td>613.210022</td>\n",
              "      <td>202.820007</td>\n",
              "      <td>True</td>\n",
              "      <td>True</td>\n",
              "      <td>True</td>\n",
              "      <td>False</td>\n",
              "      <td>True</td>\n",
              "      <td>True</td>\n",
              "    </tr>\n",
              "  </tbody>\n",
              "</table>\n",
              "</div>"
            ],
            "text/plain": [
              "  Ticker  SMA200_value  ...  week52_span_rule  close_above_52weekhigh_rule\n",
              "0   WKHS     23.664228  ...              True                        False\n",
              "1   VALE     14.532463  ...              True                         True\n",
              "2   GNMK     14.701029  ...              True                         True\n",
              "3   EXPI     36.347261  ...              True                        False\n",
              "4     JD     86.092573  ...              True                         True\n",
              "5   BABA    267.042574  ...              True                        False\n",
              "6     FB    269.894963  ...              True                         True\n",
              "7   NVDA    534.090149  ...              True                         True\n",
              "\n",
              "[8 rows x 15 columns]"
            ]
          },
          "metadata": {
            "tags": []
          },
          "execution_count": 4
        }
      ]
    },
    {
      "cell_type": "code",
      "metadata": {
        "id": "oi45Ffb_ycRk"
      },
      "source": [
        "df_out.to_csv(\"screened_stocks.csv\")"
      ],
      "execution_count": null,
      "outputs": []
    },
    {
      "cell_type": "code",
      "metadata": {
        "id": "ZEkIa-4ZycRk"
      },
      "source": [
        ""
      ],
      "execution_count": null,
      "outputs": []
    }
  ]
}