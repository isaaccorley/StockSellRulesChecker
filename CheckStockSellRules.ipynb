{
  "nbformat": 4,
  "nbformat_minor": 0,
  "metadata": {
    "colab": {
      "name": "CheckStockSellRules.ipynb",
      "provenance": [],
      "collapsed_sections": [],
      "authorship_tag": "ABX9TyM7zUKiXSdDlKXvYoW1Fe3J",
      "include_colab_link": true
    },
    "kernelspec": {
      "name": "python3",
      "display_name": "Python 3"
    }
  },
  "cells": [
    {
      "cell_type": "markdown",
      "metadata": {
        "id": "view-in-github",
        "colab_type": "text"
      },
      "source": [
        "<a href=\"https://colab.research.google.com/github/jonlwowski012/StockSellRulesChecker/blob/master/CheckStockSellRules.ipynb\" target=\"_parent\"><img src=\"https://colab.research.google.com/assets/colab-badge.svg\" alt=\"Open In Colab\"/></a>"
      ]
    },
    {
      "cell_type": "code",
      "metadata": {
        "colab": {
          "base_uri": "https://localhost:8080/"
        },
        "id": "fKVwg3YlNpJQ",
        "outputId": "732345e8-4b14-4553-a07c-1435c5342c69"
      },
      "source": [
        "! git clone https://github.com/jonlwowski012/StockSellRulesChecker.git"
      ],
      "execution_count": 1,
      "outputs": [
        {
          "output_type": "stream",
          "text": [
            "fatal: destination path 'StockSellRulesChecker' already exists and is not an empty directory.\n"
          ],
          "name": "stdout"
        }
      ]
    },
    {
      "cell_type": "code",
      "metadata": {
        "colab": {
          "base_uri": "https://localhost:8080/"
        },
        "id": "MvTzf_NTPuJY",
        "outputId": "9c3d7ef4-08dd-4b28-de13-808d4be0e1a3"
      },
      "source": [
        "! pip install -r StockSellRulesChecker/requirements.txt\n",
        "from StockSellRulesChecker.CheckSellRules import SellRuleChecker\n",
        "import datetime\n",
        "import stockquotes"
      ],
      "execution_count": 7,
      "outputs": [
        {
          "output_type": "stream",
          "text": [
            "Requirement already satisfied: pandas==1.1.3 in /usr/local/lib/python3.7/dist-packages (from -r StockSellRulesChecker/requirements.txt (line 1)) (1.1.3)\n",
            "Requirement already satisfied: stockquotes==2.0.1 in /usr/local/lib/python3.7/dist-packages (from -r StockSellRulesChecker/requirements.txt (line 2)) (2.0.1)\n",
            "Requirement already satisfied: pytz>=2017.2 in /usr/local/lib/python3.7/dist-packages (from pandas==1.1.3->-r StockSellRulesChecker/requirements.txt (line 1)) (2018.9)\n",
            "Requirement already satisfied: numpy>=1.15.4 in /usr/local/lib/python3.7/dist-packages (from pandas==1.1.3->-r StockSellRulesChecker/requirements.txt (line 1)) (1.19.5)\n",
            "Requirement already satisfied: python-dateutil>=2.7.3 in /usr/local/lib/python3.7/dist-packages (from pandas==1.1.3->-r StockSellRulesChecker/requirements.txt (line 1)) (2.8.1)\n",
            "Requirement already satisfied: six>=1.5 in /usr/local/lib/python3.7/dist-packages (from python-dateutil>=2.7.3->pandas==1.1.3->-r StockSellRulesChecker/requirements.txt (line 1)) (1.15.0)\n"
          ],
          "name": "stdout"
        }
      ]
    },
    {
      "cell_type": "code",
      "metadata": {
        "colab": {
          "base_uri": "https://localhost:8080/"
        },
        "id": "OFlORJREQPSb",
        "outputId": "af3c3ffb-88da-4471-b022-ffa292e9199b"
      },
      "source": [
        "symbol =\"XPEL\"\n",
        "avg_share_price = \"$64.48\"\n",
        "investment_date = \"03/11/2021\"\n",
        "\n",
        "print(\"---------------------------------\")\n",
        "print(symbol)\n",
        "investment_date = datetime.datetime.strptime(investment_date,'%m/%d/%Y')\n",
        "avg_share_price = float(avg_share_price.replace(\"$\", \"\"))\n",
        "curr_price = stockquotes.Stock(symbol).current_price\n",
        "SellRuleChecker.golden_sell_rule(avg_share_price, curr_price=curr_price)\n",
        "SellRuleChecker.standard_profit_goal_sell_rule(avg_share_price, curr_price=curr_price, investment_date=investment_date)\n",
        "SellRuleChecker.decline_from_peak_sell_rule(avg_share_price, curr_price=curr_price)\n",
        "SellRuleChecker.certainteed_exception_rule(avg_share_price, curr_price=curr_price, investment_date=investment_date)\n",
        "print(\"---------------------------------\")"
      ],
      "execution_count": 9,
      "outputs": [
        {
          "output_type": "stream",
          "text": [
            "---------------------------------\n",
            "XPEL\n",
            "Current Percent Gain/Loss: -3.52%\n",
            "Do Not Sell Based on Golden Rule Check\n",
            "Investment is too young, do not sell based on Standard Profit Goal Sell Rule.\n",
            "Do Not Place a trailing stop based on the Decline from Peak Sell Rule\n",
            "You do not need to hold for a full 8 weeks\n",
            "---------------------------------\n"
          ],
          "name": "stdout"
        }
      ]
    }
  ]
}