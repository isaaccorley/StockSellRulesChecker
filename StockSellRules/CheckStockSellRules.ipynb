{
 "cells": [
  {
   "cell_type": "markdown",
   "metadata": {
    "colab_type": "text",
    "id": "view-in-github"
   },
   "source": [
    "<a href=\"https://colab.research.google.com/github/jonlwowski012/StockSellRulesChecker/blob/master/CheckStockSellRules.ipynb\" target=\"_parent\"><img src=\"https://colab.research.google.com/assets/colab-badge.svg\" alt=\"Open In Colab\"/></a>"
   ]
  },
  {
   "cell_type": "code",
   "execution_count": 1,
   "metadata": {
    "colab": {
     "base_uri": "https://localhost:8080/"
    },
    "id": "fKVwg3YlNpJQ",
    "outputId": "732345e8-4b14-4553-a07c-1435c5342c69"
   },
   "outputs": [
    {
     "name": "stdout",
     "output_type": "stream",
     "text": [
      "fatal: destination path 'StockSellRulesChecker' already exists and is not an empty directory.\n"
     ]
    }
   ],
   "source": [
    "! git clone https://github.com/jonlwowski012/StockSellRulesChecker.git"
   ]
  },
  {
   "cell_type": "code",
   "execution_count": 1,
   "metadata": {
    "colab": {
     "base_uri": "https://localhost:8080/"
    },
    "id": "MvTzf_NTPuJY",
    "outputId": "9c3d7ef4-08dd-4b28-de13-808d4be0e1a3"
   },
   "outputs": [
    {
     "name": "stdout",
     "output_type": "stream",
     "text": [
      "\u001b[31mERROR: Could not open requirements file: [Errno 2] No such file or directory: 'StockSellRulesChecker/requirements.txt'\u001b[0m\r\n"
     ]
    },
    {
     "ename": "ModuleNotFoundError",
     "evalue": "No module named 'StockSellRulesChecker'",
     "output_type": "error",
     "traceback": [
      "\u001b[0;31m---------------------------------------------------------------------------\u001b[0m",
      "\u001b[0;31mModuleNotFoundError\u001b[0m                       Traceback (most recent call last)",
      "\u001b[0;32m<ipython-input-1-979796caaad7>\u001b[0m in \u001b[0;36m<module>\u001b[0;34m\u001b[0m\n\u001b[1;32m      1\u001b[0m \u001b[0mget_ipython\u001b[0m\u001b[0;34m(\u001b[0m\u001b[0;34m)\u001b[0m\u001b[0;34m.\u001b[0m\u001b[0msystem\u001b[0m\u001b[0;34m(\u001b[0m\u001b[0;34m' pip install -r StockSellRulesChecker/requirements.txt'\u001b[0m\u001b[0;34m)\u001b[0m\u001b[0;34m\u001b[0m\u001b[0;34m\u001b[0m\u001b[0m\n\u001b[0;32m----> 2\u001b[0;31m \u001b[0;32mfrom\u001b[0m \u001b[0mStockSellRulesChecker\u001b[0m\u001b[0;34m.\u001b[0m\u001b[0mCheckSellRules\u001b[0m \u001b[0;32mimport\u001b[0m \u001b[0mSellRuleChecker\u001b[0m\u001b[0;34m\u001b[0m\u001b[0;34m\u001b[0m\u001b[0m\n\u001b[0m\u001b[1;32m      3\u001b[0m \u001b[0;32mimport\u001b[0m \u001b[0mdatetime\u001b[0m\u001b[0;34m\u001b[0m\u001b[0;34m\u001b[0m\u001b[0m\n\u001b[1;32m      4\u001b[0m \u001b[0;32mimport\u001b[0m \u001b[0mstockquotes\u001b[0m\u001b[0;34m\u001b[0m\u001b[0;34m\u001b[0m\u001b[0m\n",
      "\u001b[0;31mModuleNotFoundError\u001b[0m: No module named 'StockSellRulesChecker'"
     ]
    }
   ],
   "source": [
    "! pip install -r StockSellRulesChecker/requirements.txt\n",
    "from StockSellRulesChecker.CheckSellRules import SellRuleChecker\n",
    "import datetime\n",
    "import stockquotes"
   ]
  },
  {
   "cell_type": "code",
   "execution_count": null,
   "metadata": {
    "colab": {
     "base_uri": "https://localhost:8080/"
    },
    "id": "OFlORJREQPSb",
    "outputId": "af3c3ffb-88da-4471-b022-ffa292e9199b"
   },
   "outputs": [],
   "source": [
    "symbol =\"XPEL\"\n",
    "avg_share_price = \"$64.48\"\n",
    "investment_date = \"03/11/2021\"\n",
    "\n",
    "print(\"---------------------------------\")\n",
    "print(symbol)\n",
    "investment_date = datetime.datetime.strptime(investment_date,'%m/%d/%Y')\n",
    "avg_share_price = float(avg_share_price.replace(\"$\", \"\"))\n",
    "curr_price = stockquotes.Stock(symbol).current_price\n",
    "SellRuleChecker.golden_sell_rule(avg_share_price, curr_price=curr_price)\n",
    "SellRuleChecker.standard_profit_goal_sell_rule(avg_share_price, curr_price=curr_price, investment_date=investment_date)\n",
    "SellRuleChecker.decline_from_peak_sell_rule(avg_share_price, curr_price=curr_price)\n",
    "SellRuleChecker.certainteed_exception_rule(avg_share_price, curr_price=curr_price, investment_date=investment_date)\n",
    "SellRuleChecker.bad_break_sell_rule(symbol)\n",
    "print(\"---------------------------------\")"
   ]
  },
  {
   "cell_type": "code",
   "execution_count": null,
   "metadata": {},
   "outputs": [],
   "source": []
  }
 ],
 "metadata": {
  "colab": {
   "authorship_tag": "ABX9TyM7zUKiXSdDlKXvYoW1Fe3J",
   "collapsed_sections": [],
   "include_colab_link": true,
   "name": "CheckStockSellRules.ipynb",
   "provenance": []
  },
  "kernelspec": {
   "display_name": "Python 3",
   "language": "python",
   "name": "python3"
  },
  "language_info": {
   "codemirror_mode": {
    "name": "ipython",
    "version": 3
   },
   "file_extension": ".py",
   "mimetype": "text/x-python",
   "name": "python",
   "nbconvert_exporter": "python",
   "pygments_lexer": "ipython3",
   "version": "3.6.9"
  }
 },
 "nbformat": 4,
 "nbformat_minor": 1
}
